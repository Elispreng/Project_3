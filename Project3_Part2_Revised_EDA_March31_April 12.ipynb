{
 "cells": [
  {
   "cell_type": "markdown",
   "id": "9093f8c9",
   "metadata": {},
   "source": [
    "# Set up project"
   ]
  },
  {
   "cell_type": "code",
   "execution_count": 1,
   "id": "2017a608",
   "metadata": {},
   "outputs": [
    {
     "name": "stdout",
     "output_type": "stream",
     "text": [
      "Requirement already satisfied: tmdbsimple in c:\\users\\elizabeth spreng\\anaconda3\\envs\\dojo-env\\lib\\site-packages (2.9.1)\n",
      "Requirement already satisfied: requests in c:\\users\\elizabeth spreng\\anaconda3\\envs\\dojo-env\\lib\\site-packages (from tmdbsimple) (2.28.1)\n",
      "Requirement already satisfied: certifi>=2017.4.17 in c:\\users\\elizabeth spreng\\anaconda3\\envs\\dojo-env\\lib\\site-packages (from requests->tmdbsimple) (2022.9.24)\n",
      "Requirement already satisfied: urllib3<1.27,>=1.21.1 in c:\\users\\elizabeth spreng\\anaconda3\\envs\\dojo-env\\lib\\site-packages (from requests->tmdbsimple) (1.26.13)\n",
      "Requirement already satisfied: charset-normalizer<3,>=2 in c:\\users\\elizabeth spreng\\anaconda3\\envs\\dojo-env\\lib\\site-packages (from requests->tmdbsimple) (2.0.4)\n",
      "Requirement already satisfied: idna<4,>=2.5 in c:\\users\\elizabeth spreng\\anaconda3\\envs\\dojo-env\\lib\\site-packages (from requests->tmdbsimple) (3.4)\n"
     ]
    }
   ],
   "source": [
    "# Install tmdbsimple (only need to run once)\n",
    "!pip install tmdbsimple"
   ]
  },
  {
   "cell_type": "code",
   "execution_count": 2,
   "id": "ad453dda",
   "metadata": {},
   "outputs": [
    {
     "name": "stdout",
     "output_type": "stream",
     "text": [
      "Requirement already satisfied: tqdm in c:\\users\\elizabeth spreng\\anaconda3\\envs\\dojo-env\\lib\\site-packages (4.64.1)\n",
      "Requirement already satisfied: colorama in c:\\users\\elizabeth spreng\\anaconda3\\envs\\dojo-env\\lib\\site-packages (from tqdm) (0.4.5)\n"
     ]
    }
   ],
   "source": [
    " !pip install tqdm"
   ]
  },
  {
   "cell_type": "code",
   "execution_count": 3,
   "id": "a2859a11",
   "metadata": {},
   "outputs": [
    {
     "data": {
      "text/plain": [
       "dict_keys(['api-key'])"
      ]
     },
     "execution_count": 3,
     "metadata": {},
     "output_type": "execute_result"
    }
   ],
   "source": [
    "# open the json\n",
    "import json\n",
    "with open(\"C:\\\\Users\\\\Elizabeth Spreng\\\\.secret\\\\tmbd_api.json\", 'r') as f:\n",
    "    login = json.load(f)\n",
    "## Display the keys of the loaded dict\n",
    "login.keys()"
   ]
  },
  {
   "cell_type": "code",
   "execution_count": 4,
   "id": "c4b310b0",
   "metadata": {},
   "outputs": [],
   "source": [
    "# load tmbd simple\n",
    "import tmdbsimple as tmdb\n",
    "tmdb.API_KEY =  login['api-key']"
   ]
  },
  {
   "cell_type": "code",
   "execution_count": 5,
   "id": "70ac9444",
   "metadata": {},
   "outputs": [],
   "source": [
    "#import libraries\n",
    "import pandas as pd\n",
    "\n",
    "#import \n",
    "from tqdm.notebook import trange, tqdm\n",
    "from tqdm.notebook import tqdm_notebook "
   ]
  },
  {
   "cell_type": "markdown",
   "id": "9112eff9",
   "metadata": {},
   "source": [
    "#  Exploratory Data"
   ]
  },
  {
   "cell_type": "markdown",
   "id": "7443adfd",
   "metadata": {},
   "source": [
    "- How many movies had at least some valid financial information (values > 0 for budget OR revenue)? Please exclude any movies with 0's for budget AND revenue from the remaining visualizations.\n",
    "- How many movies are there in each of the certification categories (G/PG/PG-13/R)?\n",
    "- What is the average revenue per certification category?\n",
    "- What is the average budget per certification category?"
   ]
  },
  {
   "cell_type": "markdown",
   "id": "bd61a821",
   "metadata": {},
   "source": [
    "## Import libraries for EDA"
   ]
  },
  {
   "cell_type": "code",
   "execution_count": 6,
   "id": "ede8a6eb",
   "metadata": {},
   "outputs": [],
   "source": [
    "# import libraries\n",
    "import seaborn as sns\n",
    "import matplotlib.pyplot as plt\n",
    "from matplotlib.ticker import StrMethodFormatter\n",
    "import matplotlib.ticker as ticker\n",
    "\n"
   ]
  },
  {
   "cell_type": "markdown",
   "id": "09de41c9",
   "metadata": {},
   "source": [
    "## Load the Data"
   ]
  },
  {
   "cell_type": "code",
   "execution_count": 7,
   "id": "230ff5d7",
   "metadata": {
    "scrolled": true
   },
   "outputs": [],
   "source": [
    "df_2000 = pd.read_csv('Data/tmdb_api_results_2000.json')"
   ]
  },
  {
   "cell_type": "code",
   "execution_count": 8,
   "id": "7b9d07fa",
   "metadata": {},
   "outputs": [
    {
     "data": {
      "text/html": [
       "<div>\n",
       "<style scoped>\n",
       "    .dataframe tbody tr th:only-of-type {\n",
       "        vertical-align: middle;\n",
       "    }\n",
       "\n",
       "    .dataframe tbody tr th {\n",
       "        vertical-align: top;\n",
       "    }\n",
       "\n",
       "    .dataframe thead th {\n",
       "        text-align: right;\n",
       "    }\n",
       "</style>\n",
       "<table border=\"1\" class=\"dataframe\">\n",
       "  <thead>\n",
       "    <tr style=\"text-align: right;\">\n",
       "      <th></th>\n",
       "      <th>Unnamed: 0</th>\n",
       "      <th>imdb_id</th>\n",
       "      <th>adult</th>\n",
       "      <th>backdrop_path</th>\n",
       "      <th>belongs_to_collection</th>\n",
       "      <th>budget</th>\n",
       "      <th>genres</th>\n",
       "      <th>homepage</th>\n",
       "      <th>id</th>\n",
       "      <th>original_language</th>\n",
       "      <th>...</th>\n",
       "      <th>revenue</th>\n",
       "      <th>runtime</th>\n",
       "      <th>spoken_languages</th>\n",
       "      <th>status</th>\n",
       "      <th>tagline</th>\n",
       "      <th>title</th>\n",
       "      <th>video</th>\n",
       "      <th>vote_average</th>\n",
       "      <th>vote_count</th>\n",
       "      <th>certification</th>\n",
       "    </tr>\n",
       "  </thead>\n",
       "  <tbody>\n",
       "    <tr>\n",
       "      <th>0</th>\n",
       "      <td>0</td>\n",
       "      <td>0</td>\n",
       "      <td>NaN</td>\n",
       "      <td>NaN</td>\n",
       "      <td>NaN</td>\n",
       "      <td>NaN</td>\n",
       "      <td>NaN</td>\n",
       "      <td>NaN</td>\n",
       "      <td>NaN</td>\n",
       "      <td>NaN</td>\n",
       "      <td>...</td>\n",
       "      <td>NaN</td>\n",
       "      <td>NaN</td>\n",
       "      <td>NaN</td>\n",
       "      <td>NaN</td>\n",
       "      <td>NaN</td>\n",
       "      <td>NaN</td>\n",
       "      <td>NaN</td>\n",
       "      <td>NaN</td>\n",
       "      <td>NaN</td>\n",
       "      <td>NaN</td>\n",
       "    </tr>\n",
       "    <tr>\n",
       "      <th>1</th>\n",
       "      <td>1</td>\n",
       "      <td>tt0113026</td>\n",
       "      <td>0.0</td>\n",
       "      <td>/vMFs7nw6P0bIV1jDsQpxAieAVnH.jpg</td>\n",
       "      <td>NaN</td>\n",
       "      <td>10000000.0</td>\n",
       "      <td>[{'id': 35, 'name': 'Comedy'}, {'id': 10402, '...</td>\n",
       "      <td>NaN</td>\n",
       "      <td>62127.0</td>\n",
       "      <td>en</td>\n",
       "      <td>...</td>\n",
       "      <td>0.0</td>\n",
       "      <td>86.0</td>\n",
       "      <td>[{'english_name': 'English', 'iso_639_1': 'en'...</td>\n",
       "      <td>Released</td>\n",
       "      <td>Try to remember the first time magic happened</td>\n",
       "      <td>The Fantasticks</td>\n",
       "      <td>0.0</td>\n",
       "      <td>5.50</td>\n",
       "      <td>22.0</td>\n",
       "      <td>NaN</td>\n",
       "    </tr>\n",
       "    <tr>\n",
       "      <th>2</th>\n",
       "      <td>2</td>\n",
       "      <td>tt0113092</td>\n",
       "      <td>0.0</td>\n",
       "      <td>NaN</td>\n",
       "      <td>NaN</td>\n",
       "      <td>0.0</td>\n",
       "      <td>[{'id': 878, 'name': 'Science Fiction'}]</td>\n",
       "      <td>NaN</td>\n",
       "      <td>110977.0</td>\n",
       "      <td>en</td>\n",
       "      <td>...</td>\n",
       "      <td>0.0</td>\n",
       "      <td>100.0</td>\n",
       "      <td>[{'english_name': 'English', 'iso_639_1': 'en'...</td>\n",
       "      <td>Released</td>\n",
       "      <td>The ultimate showdown on a forbidden planet.</td>\n",
       "      <td>For the Cause</td>\n",
       "      <td>0.0</td>\n",
       "      <td>5.10</td>\n",
       "      <td>8.0</td>\n",
       "      <td>NaN</td>\n",
       "    </tr>\n",
       "    <tr>\n",
       "      <th>3</th>\n",
       "      <td>3</td>\n",
       "      <td>tt0116391</td>\n",
       "      <td>0.0</td>\n",
       "      <td>NaN</td>\n",
       "      <td>NaN</td>\n",
       "      <td>0.0</td>\n",
       "      <td>[{'id': 18, 'name': 'Drama'}, {'id': 28, 'name...</td>\n",
       "      <td>NaN</td>\n",
       "      <td>442869.0</td>\n",
       "      <td>hi</td>\n",
       "      <td>...</td>\n",
       "      <td>0.0</td>\n",
       "      <td>152.0</td>\n",
       "      <td>[{'english_name': 'Hindi', 'iso_639_1': 'hi', ...</td>\n",
       "      <td>Released</td>\n",
       "      <td>NaN</td>\n",
       "      <td>Gang</td>\n",
       "      <td>0.0</td>\n",
       "      <td>4.00</td>\n",
       "      <td>1.0</td>\n",
       "      <td>NaN</td>\n",
       "    </tr>\n",
       "    <tr>\n",
       "      <th>4</th>\n",
       "      <td>4</td>\n",
       "      <td>tt0118694</td>\n",
       "      <td>0.0</td>\n",
       "      <td>/n4GJFGzsc7NinI1VeGDXIcQjtU2.jpg</td>\n",
       "      <td>NaN</td>\n",
       "      <td>150000.0</td>\n",
       "      <td>[{'id': 18, 'name': 'Drama'}, {'id': 10749, 'n...</td>\n",
       "      <td>NaN</td>\n",
       "      <td>843.0</td>\n",
       "      <td>cn</td>\n",
       "      <td>...</td>\n",
       "      <td>12854953.0</td>\n",
       "      <td>99.0</td>\n",
       "      <td>[{'english_name': 'Cantonese', 'iso_639_1': 'c...</td>\n",
       "      <td>Released</td>\n",
       "      <td>Feel the heat, keep the feeling burning, let t...</td>\n",
       "      <td>In the Mood for Love</td>\n",
       "      <td>0.0</td>\n",
       "      <td>8.11</td>\n",
       "      <td>2162.0</td>\n",
       "      <td>PG</td>\n",
       "    </tr>\n",
       "  </tbody>\n",
       "</table>\n",
       "<p>5 rows × 27 columns</p>\n",
       "</div>"
      ],
      "text/plain": [
       "   Unnamed: 0    imdb_id  adult                     backdrop_path  \\\n",
       "0           0          0    NaN                               NaN   \n",
       "1           1  tt0113026    0.0  /vMFs7nw6P0bIV1jDsQpxAieAVnH.jpg   \n",
       "2           2  tt0113092    0.0                               NaN   \n",
       "3           3  tt0116391    0.0                               NaN   \n",
       "4           4  tt0118694    0.0  /n4GJFGzsc7NinI1VeGDXIcQjtU2.jpg   \n",
       "\n",
       "  belongs_to_collection      budget  \\\n",
       "0                   NaN         NaN   \n",
       "1                   NaN  10000000.0   \n",
       "2                   NaN         0.0   \n",
       "3                   NaN         0.0   \n",
       "4                   NaN    150000.0   \n",
       "\n",
       "                                              genres homepage        id  \\\n",
       "0                                                NaN      NaN       NaN   \n",
       "1  [{'id': 35, 'name': 'Comedy'}, {'id': 10402, '...      NaN   62127.0   \n",
       "2           [{'id': 878, 'name': 'Science Fiction'}]      NaN  110977.0   \n",
       "3  [{'id': 18, 'name': 'Drama'}, {'id': 28, 'name...      NaN  442869.0   \n",
       "4  [{'id': 18, 'name': 'Drama'}, {'id': 10749, 'n...      NaN     843.0   \n",
       "\n",
       "  original_language  ...     revenue runtime  \\\n",
       "0               NaN  ...         NaN     NaN   \n",
       "1                en  ...         0.0    86.0   \n",
       "2                en  ...         0.0   100.0   \n",
       "3                hi  ...         0.0   152.0   \n",
       "4                cn  ...  12854953.0    99.0   \n",
       "\n",
       "                                    spoken_languages    status  \\\n",
       "0                                                NaN       NaN   \n",
       "1  [{'english_name': 'English', 'iso_639_1': 'en'...  Released   \n",
       "2  [{'english_name': 'English', 'iso_639_1': 'en'...  Released   \n",
       "3  [{'english_name': 'Hindi', 'iso_639_1': 'hi', ...  Released   \n",
       "4  [{'english_name': 'Cantonese', 'iso_639_1': 'c...  Released   \n",
       "\n",
       "                                             tagline                 title  \\\n",
       "0                                                NaN                   NaN   \n",
       "1      Try to remember the first time magic happened       The Fantasticks   \n",
       "2       The ultimate showdown on a forbidden planet.         For the Cause   \n",
       "3                                                NaN                  Gang   \n",
       "4  Feel the heat, keep the feeling burning, let t...  In the Mood for Love   \n",
       "\n",
       "  video  vote_average  vote_count certification  \n",
       "0   NaN           NaN         NaN           NaN  \n",
       "1   0.0          5.50        22.0           NaN  \n",
       "2   0.0          5.10         8.0           NaN  \n",
       "3   0.0          4.00         1.0           NaN  \n",
       "4   0.0          8.11      2162.0            PG  \n",
       "\n",
       "[5 rows x 27 columns]"
      ]
     },
     "execution_count": 8,
     "metadata": {},
     "output_type": "execute_result"
    }
   ],
   "source": [
    "df_2000.head()"
   ]
  },
  {
   "cell_type": "code",
   "execution_count": 9,
   "id": "02bd8ec4",
   "metadata": {},
   "outputs": [
    {
     "name": "stdout",
     "output_type": "stream",
     "text": [
      "<class 'pandas.core.frame.DataFrame'>\n",
      "RangeIndex: 1228 entries, 0 to 1227\n",
      "Data columns (total 27 columns):\n",
      " #   Column                 Non-Null Count  Dtype  \n",
      "---  ------                 --------------  -----  \n",
      " 0   Unnamed: 0             1228 non-null   int64  \n",
      " 1   imdb_id                1228 non-null   object \n",
      " 2   adult                  1227 non-null   float64\n",
      " 3   backdrop_path          670 non-null    object \n",
      " 4   belongs_to_collection  112 non-null    object \n",
      " 5   budget                 1227 non-null   float64\n",
      " 6   genres                 1227 non-null   object \n",
      " 7   homepage               64 non-null     object \n",
      " 8   id                     1227 non-null   float64\n",
      " 9   original_language      1227 non-null   object \n",
      " 10  original_title         1227 non-null   object \n",
      " 11  overview               1204 non-null   object \n",
      " 12  popularity             1227 non-null   float64\n",
      " 13  poster_path            1103 non-null   object \n",
      " 14  production_companies   1227 non-null   object \n",
      " 15  production_countries   1227 non-null   object \n",
      " 16  release_date           1220 non-null   object \n",
      " 17  revenue                1227 non-null   float64\n",
      " 18  runtime                1227 non-null   float64\n",
      " 19  spoken_languages       1227 non-null   object \n",
      " 20  status                 1227 non-null   object \n",
      " 21  tagline                543 non-null    object \n",
      " 22  title                  1227 non-null   object \n",
      " 23  video                  1227 non-null   float64\n",
      " 24  vote_average           1227 non-null   float64\n",
      " 25  vote_count             1227 non-null   float64\n",
      " 26  certification          386 non-null    object \n",
      "dtypes: float64(9), int64(1), object(17)\n",
      "memory usage: 259.2+ KB\n"
     ]
    }
   ],
   "source": [
    "df_2000.info()"
   ]
  },
  {
   "cell_type": "code",
   "execution_count": 10,
   "id": "4a324ba0",
   "metadata": {},
   "outputs": [],
   "source": [
    "# Read the data\n",
    "df_api_2000 = pd.read_json('Data4/tmdb_api_results_2000.json')\n",
    "df_api_2000.to_csv('Data4/tmdb_api_results_2000.json')\n",
    "\n"
   ]
  },
  {
   "cell_type": "markdown",
   "id": "03c46907",
   "metadata": {},
   "source": [
    "### Inspect the 2000 Data"
   ]
  },
  {
   "cell_type": "code",
   "execution_count": 11,
   "id": "a066c173",
   "metadata": {},
   "outputs": [
    {
     "data": {
      "text/html": [
       "<div>\n",
       "<style scoped>\n",
       "    .dataframe tbody tr th:only-of-type {\n",
       "        vertical-align: middle;\n",
       "    }\n",
       "\n",
       "    .dataframe tbody tr th {\n",
       "        vertical-align: top;\n",
       "    }\n",
       "\n",
       "    .dataframe thead th {\n",
       "        text-align: right;\n",
       "    }\n",
       "</style>\n",
       "<table border=\"1\" class=\"dataframe\">\n",
       "  <thead>\n",
       "    <tr style=\"text-align: right;\">\n",
       "      <th></th>\n",
       "      <th>imdb_id</th>\n",
       "      <th>adult</th>\n",
       "      <th>backdrop_path</th>\n",
       "      <th>belongs_to_collection</th>\n",
       "      <th>budget</th>\n",
       "      <th>genres</th>\n",
       "      <th>homepage</th>\n",
       "      <th>id</th>\n",
       "      <th>original_language</th>\n",
       "      <th>original_title</th>\n",
       "      <th>...</th>\n",
       "      <th>revenue</th>\n",
       "      <th>runtime</th>\n",
       "      <th>spoken_languages</th>\n",
       "      <th>status</th>\n",
       "      <th>tagline</th>\n",
       "      <th>title</th>\n",
       "      <th>video</th>\n",
       "      <th>vote_average</th>\n",
       "      <th>vote_count</th>\n",
       "      <th>certification</th>\n",
       "    </tr>\n",
       "  </thead>\n",
       "  <tbody>\n",
       "    <tr>\n",
       "      <th>0</th>\n",
       "      <td>0</td>\n",
       "      <td>NaN</td>\n",
       "      <td>NaN</td>\n",
       "      <td>NaN</td>\n",
       "      <td>NaN</td>\n",
       "      <td>NaN</td>\n",
       "      <td>NaN</td>\n",
       "      <td>NaN</td>\n",
       "      <td>NaN</td>\n",
       "      <td>NaN</td>\n",
       "      <td>...</td>\n",
       "      <td>NaN</td>\n",
       "      <td>NaN</td>\n",
       "      <td>NaN</td>\n",
       "      <td>NaN</td>\n",
       "      <td>NaN</td>\n",
       "      <td>NaN</td>\n",
       "      <td>NaN</td>\n",
       "      <td>NaN</td>\n",
       "      <td>NaN</td>\n",
       "      <td>NaN</td>\n",
       "    </tr>\n",
       "    <tr>\n",
       "      <th>1</th>\n",
       "      <td>tt0113026</td>\n",
       "      <td>0.0</td>\n",
       "      <td>/vMFs7nw6P0bIV1jDsQpxAieAVnH.jpg</td>\n",
       "      <td>None</td>\n",
       "      <td>10000000.0</td>\n",
       "      <td>[{'id': 35, 'name': 'Comedy'}, {'id': 10402, '...</td>\n",
       "      <td></td>\n",
       "      <td>62127.0</td>\n",
       "      <td>en</td>\n",
       "      <td>The Fantasticks</td>\n",
       "      <td>...</td>\n",
       "      <td>0.0</td>\n",
       "      <td>86.0</td>\n",
       "      <td>[{'english_name': 'English', 'iso_639_1': 'en'...</td>\n",
       "      <td>Released</td>\n",
       "      <td>Try to remember the first time magic happened</td>\n",
       "      <td>The Fantasticks</td>\n",
       "      <td>0.0</td>\n",
       "      <td>5.500</td>\n",
       "      <td>22.0</td>\n",
       "      <td></td>\n",
       "    </tr>\n",
       "    <tr>\n",
       "      <th>2</th>\n",
       "      <td>tt0113092</td>\n",
       "      <td>0.0</td>\n",
       "      <td>None</td>\n",
       "      <td>None</td>\n",
       "      <td>0.0</td>\n",
       "      <td>[{'id': 878, 'name': 'Science Fiction'}]</td>\n",
       "      <td></td>\n",
       "      <td>110977.0</td>\n",
       "      <td>en</td>\n",
       "      <td>For the Cause</td>\n",
       "      <td>...</td>\n",
       "      <td>0.0</td>\n",
       "      <td>100.0</td>\n",
       "      <td>[{'english_name': 'English', 'iso_639_1': 'en'...</td>\n",
       "      <td>Released</td>\n",
       "      <td>The ultimate showdown on a forbidden planet.</td>\n",
       "      <td>For the Cause</td>\n",
       "      <td>0.0</td>\n",
       "      <td>5.100</td>\n",
       "      <td>8.0</td>\n",
       "      <td></td>\n",
       "    </tr>\n",
       "    <tr>\n",
       "      <th>3</th>\n",
       "      <td>tt0116391</td>\n",
       "      <td>0.0</td>\n",
       "      <td>None</td>\n",
       "      <td>None</td>\n",
       "      <td>0.0</td>\n",
       "      <td>[{'id': 18, 'name': 'Drama'}, {'id': 28, 'name...</td>\n",
       "      <td></td>\n",
       "      <td>442869.0</td>\n",
       "      <td>hi</td>\n",
       "      <td>Gang</td>\n",
       "      <td>...</td>\n",
       "      <td>0.0</td>\n",
       "      <td>152.0</td>\n",
       "      <td>[{'english_name': 'Hindi', 'iso_639_1': 'hi', ...</td>\n",
       "      <td>Released</td>\n",
       "      <td></td>\n",
       "      <td>Gang</td>\n",
       "      <td>0.0</td>\n",
       "      <td>4.000</td>\n",
       "      <td>1.0</td>\n",
       "      <td>NaN</td>\n",
       "    </tr>\n",
       "    <tr>\n",
       "      <th>4</th>\n",
       "      <td>tt0118694</td>\n",
       "      <td>0.0</td>\n",
       "      <td>/n4GJFGzsc7NinI1VeGDXIcQjtU2.jpg</td>\n",
       "      <td>None</td>\n",
       "      <td>150000.0</td>\n",
       "      <td>[{'id': 18, 'name': 'Drama'}, {'id': 10749, 'n...</td>\n",
       "      <td></td>\n",
       "      <td>843.0</td>\n",
       "      <td>cn</td>\n",
       "      <td>花樣年華</td>\n",
       "      <td>...</td>\n",
       "      <td>12854953.0</td>\n",
       "      <td>99.0</td>\n",
       "      <td>[{'english_name': 'Cantonese', 'iso_639_1': 'c...</td>\n",
       "      <td>Released</td>\n",
       "      <td>Feel the heat, keep the feeling burning, let t...</td>\n",
       "      <td>In the Mood for Love</td>\n",
       "      <td>0.0</td>\n",
       "      <td>8.111</td>\n",
       "      <td>2175.0</td>\n",
       "      <td>PG</td>\n",
       "    </tr>\n",
       "  </tbody>\n",
       "</table>\n",
       "<p>5 rows × 26 columns</p>\n",
       "</div>"
      ],
      "text/plain": [
       "     imdb_id  adult                     backdrop_path belongs_to_collection  \\\n",
       "0          0    NaN                               NaN                   NaN   \n",
       "1  tt0113026    0.0  /vMFs7nw6P0bIV1jDsQpxAieAVnH.jpg                  None   \n",
       "2  tt0113092    0.0                              None                  None   \n",
       "3  tt0116391    0.0                              None                  None   \n",
       "4  tt0118694    0.0  /n4GJFGzsc7NinI1VeGDXIcQjtU2.jpg                  None   \n",
       "\n",
       "       budget                                             genres homepage  \\\n",
       "0         NaN                                                NaN      NaN   \n",
       "1  10000000.0  [{'id': 35, 'name': 'Comedy'}, {'id': 10402, '...            \n",
       "2         0.0           [{'id': 878, 'name': 'Science Fiction'}]            \n",
       "3         0.0  [{'id': 18, 'name': 'Drama'}, {'id': 28, 'name...            \n",
       "4    150000.0  [{'id': 18, 'name': 'Drama'}, {'id': 10749, 'n...            \n",
       "\n",
       "         id original_language   original_title  ...     revenue  runtime  \\\n",
       "0       NaN               NaN              NaN  ...         NaN      NaN   \n",
       "1   62127.0                en  The Fantasticks  ...         0.0     86.0   \n",
       "2  110977.0                en    For the Cause  ...         0.0    100.0   \n",
       "3  442869.0                hi             Gang  ...         0.0    152.0   \n",
       "4     843.0                cn             花樣年華  ...  12854953.0     99.0   \n",
       "\n",
       "                                    spoken_languages    status  \\\n",
       "0                                                NaN       NaN   \n",
       "1  [{'english_name': 'English', 'iso_639_1': 'en'...  Released   \n",
       "2  [{'english_name': 'English', 'iso_639_1': 'en'...  Released   \n",
       "3  [{'english_name': 'Hindi', 'iso_639_1': 'hi', ...  Released   \n",
       "4  [{'english_name': 'Cantonese', 'iso_639_1': 'c...  Released   \n",
       "\n",
       "                                             tagline                 title  \\\n",
       "0                                                NaN                   NaN   \n",
       "1      Try to remember the first time magic happened       The Fantasticks   \n",
       "2       The ultimate showdown on a forbidden planet.         For the Cause   \n",
       "3                                                                     Gang   \n",
       "4  Feel the heat, keep the feeling burning, let t...  In the Mood for Love   \n",
       "\n",
       "   video  vote_average vote_count certification  \n",
       "0    NaN           NaN        NaN           NaN  \n",
       "1    0.0         5.500       22.0                \n",
       "2    0.0         5.100        8.0                \n",
       "3    0.0         4.000        1.0           NaN  \n",
       "4    0.0         8.111     2175.0            PG  \n",
       "\n",
       "[5 rows x 26 columns]"
      ]
     },
     "execution_count": 11,
     "metadata": {},
     "output_type": "execute_result"
    }
   ],
   "source": [
    "df_api_2000.head()"
   ]
  },
  {
   "cell_type": "code",
   "execution_count": 12,
   "id": "c98fac09",
   "metadata": {},
   "outputs": [
    {
     "name": "stdout",
     "output_type": "stream",
     "text": [
      "<class 'pandas.core.frame.DataFrame'>\n",
      "RangeIndex: 1229 entries, 0 to 1228\n",
      "Data columns (total 26 columns):\n",
      " #   Column                 Non-Null Count  Dtype  \n",
      "---  ------                 --------------  -----  \n",
      " 0   imdb_id                1229 non-null   object \n",
      " 1   adult                  1228 non-null   float64\n",
      " 2   backdrop_path          670 non-null    object \n",
      " 3   belongs_to_collection  112 non-null    object \n",
      " 4   budget                 1228 non-null   float64\n",
      " 5   genres                 1228 non-null   object \n",
      " 6   homepage               1228 non-null   object \n",
      " 7   id                     1228 non-null   float64\n",
      " 8   original_language      1228 non-null   object \n",
      " 9   original_title         1228 non-null   object \n",
      " 10  overview               1228 non-null   object \n",
      " 11  popularity             1228 non-null   float64\n",
      " 12  poster_path            1104 non-null   object \n",
      " 13  production_companies   1228 non-null   object \n",
      " 14  production_countries   1228 non-null   object \n",
      " 15  release_date           1228 non-null   object \n",
      " 16  revenue                1228 non-null   float64\n",
      " 17  runtime                1228 non-null   float64\n",
      " 18  spoken_languages       1228 non-null   object \n",
      " 19  status                 1228 non-null   object \n",
      " 20  tagline                1228 non-null   object \n",
      " 21  title                  1228 non-null   object \n",
      " 22  video                  1228 non-null   float64\n",
      " 23  vote_average           1228 non-null   float64\n",
      " 24  vote_count             1228 non-null   float64\n",
      " 25  certification          790 non-null    object \n",
      "dtypes: float64(9), object(17)\n",
      "memory usage: 249.8+ KB\n"
     ]
    }
   ],
   "source": [
    "df_api_2000.info()"
   ]
  },
  {
   "cell_type": "code",
   "execution_count": 13,
   "id": "8e558794",
   "metadata": {
    "scrolled": true
   },
   "outputs": [
    {
     "data": {
      "text/plain": [
       "count    1.228000e+03\n",
       "mean     5.225124e+06\n",
       "std      1.703577e+07\n",
       "min      0.000000e+00\n",
       "25%      0.000000e+00\n",
       "50%      0.000000e+00\n",
       "75%      0.000000e+00\n",
       "max      1.275000e+08\n",
       "Name: budget, dtype: float64"
      ]
     },
     "execution_count": 13,
     "metadata": {},
     "output_type": "execute_result"
    }
   ],
   "source": [
    "df_api_2000['budget'].describe()"
   ]
  },
  {
   "cell_type": "markdown",
   "id": "fe59df6e",
   "metadata": {},
   "source": [
    "### Inspect the 2001 Data"
   ]
  },
  {
   "cell_type": "code",
   "execution_count": 14,
   "id": "1bc67194",
   "metadata": {},
   "outputs": [],
   "source": [
    "# Read the data\n",
    "df_api_2001 = pd.read_json('Data4/tmdb_api_results_2001.json')\n",
    "df_api_2001.to_csv('Data4/tmdb_api_results_2001.json')"
   ]
  },
  {
   "cell_type": "code",
   "execution_count": 15,
   "id": "568dae49",
   "metadata": {},
   "outputs": [
    {
     "data": {
      "text/html": [
       "<div>\n",
       "<style scoped>\n",
       "    .dataframe tbody tr th:only-of-type {\n",
       "        vertical-align: middle;\n",
       "    }\n",
       "\n",
       "    .dataframe tbody tr th {\n",
       "        vertical-align: top;\n",
       "    }\n",
       "\n",
       "    .dataframe thead th {\n",
       "        text-align: right;\n",
       "    }\n",
       "</style>\n",
       "<table border=\"1\" class=\"dataframe\">\n",
       "  <thead>\n",
       "    <tr style=\"text-align: right;\">\n",
       "      <th></th>\n",
       "      <th>imdb_id</th>\n",
       "      <th>adult</th>\n",
       "      <th>backdrop_path</th>\n",
       "      <th>belongs_to_collection</th>\n",
       "      <th>budget</th>\n",
       "      <th>genres</th>\n",
       "      <th>homepage</th>\n",
       "      <th>id</th>\n",
       "      <th>original_language</th>\n",
       "      <th>original_title</th>\n",
       "      <th>...</th>\n",
       "      <th>revenue</th>\n",
       "      <th>runtime</th>\n",
       "      <th>spoken_languages</th>\n",
       "      <th>status</th>\n",
       "      <th>tagline</th>\n",
       "      <th>title</th>\n",
       "      <th>video</th>\n",
       "      <th>vote_average</th>\n",
       "      <th>vote_count</th>\n",
       "      <th>certification</th>\n",
       "    </tr>\n",
       "  </thead>\n",
       "  <tbody>\n",
       "    <tr>\n",
       "      <th>0</th>\n",
       "      <td>0</td>\n",
       "      <td>NaN</td>\n",
       "      <td>NaN</td>\n",
       "      <td>NaN</td>\n",
       "      <td>NaN</td>\n",
       "      <td>NaN</td>\n",
       "      <td>NaN</td>\n",
       "      <td>NaN</td>\n",
       "      <td>NaN</td>\n",
       "      <td>NaN</td>\n",
       "      <td>...</td>\n",
       "      <td>NaN</td>\n",
       "      <td>NaN</td>\n",
       "      <td>NaN</td>\n",
       "      <td>NaN</td>\n",
       "      <td>NaN</td>\n",
       "      <td>NaN</td>\n",
       "      <td>NaN</td>\n",
       "      <td>NaN</td>\n",
       "      <td>NaN</td>\n",
       "      <td>NaN</td>\n",
       "    </tr>\n",
       "    <tr>\n",
       "      <th>1</th>\n",
       "      <td>tt0035423</td>\n",
       "      <td>0.0</td>\n",
       "      <td>/hfeiSfWYujh6MKhtGTXyK3DD4nN.jpg</td>\n",
       "      <td>None</td>\n",
       "      <td>48000000.0</td>\n",
       "      <td>[{'id': 10749, 'name': 'Romance'}, {'id': 14, ...</td>\n",
       "      <td></td>\n",
       "      <td>11232.0</td>\n",
       "      <td>en</td>\n",
       "      <td>Kate &amp; Leopold</td>\n",
       "      <td>...</td>\n",
       "      <td>76019048.0</td>\n",
       "      <td>118.0</td>\n",
       "      <td>[{'english_name': 'English', 'iso_639_1': 'en'...</td>\n",
       "      <td>Released</td>\n",
       "      <td>If they lived in the same century, they'd be p...</td>\n",
       "      <td>Kate &amp; Leopold</td>\n",
       "      <td>0.0</td>\n",
       "      <td>6.328</td>\n",
       "      <td>1181.0</td>\n",
       "      <td>PG-13</td>\n",
       "    </tr>\n",
       "    <tr>\n",
       "      <th>2</th>\n",
       "      <td>tt0114447</td>\n",
       "      <td>0.0</td>\n",
       "      <td>None</td>\n",
       "      <td>None</td>\n",
       "      <td>0.0</td>\n",
       "      <td>[{'id': 53, 'name': 'Thriller'}, {'id': 28, 'n...</td>\n",
       "      <td></td>\n",
       "      <td>151007.0</td>\n",
       "      <td>en</td>\n",
       "      <td>The Silent Force</td>\n",
       "      <td>...</td>\n",
       "      <td>0.0</td>\n",
       "      <td>90.0</td>\n",
       "      <td>[{'english_name': 'English', 'iso_639_1': 'en'...</td>\n",
       "      <td>Released</td>\n",
       "      <td>They left him for dead... They should have fin...</td>\n",
       "      <td>The Silent Force</td>\n",
       "      <td>0.0</td>\n",
       "      <td>5.000</td>\n",
       "      <td>3.0</td>\n",
       "      <td>NaN</td>\n",
       "    </tr>\n",
       "    <tr>\n",
       "      <th>3</th>\n",
       "      <td>tt0118589</td>\n",
       "      <td>0.0</td>\n",
       "      <td>/9NZAirJahVilTiDNCHLFcdkwkiy.jpg</td>\n",
       "      <td>None</td>\n",
       "      <td>22000000.0</td>\n",
       "      <td>[{'id': 18, 'name': 'Drama'}, {'id': 10402, 'n...</td>\n",
       "      <td></td>\n",
       "      <td>10696.0</td>\n",
       "      <td>en</td>\n",
       "      <td>Glitter</td>\n",
       "      <td>...</td>\n",
       "      <td>5271666.0</td>\n",
       "      <td>104.0</td>\n",
       "      <td>[{'english_name': 'English', 'iso_639_1': 'en'...</td>\n",
       "      <td>Released</td>\n",
       "      <td>In music she found her dream, her love, herself.</td>\n",
       "      <td>Glitter</td>\n",
       "      <td>0.0</td>\n",
       "      <td>4.524</td>\n",
       "      <td>123.0</td>\n",
       "      <td>PG-13</td>\n",
       "    </tr>\n",
       "    <tr>\n",
       "      <th>4</th>\n",
       "      <td>tt0118652</td>\n",
       "      <td>0.0</td>\n",
       "      <td>/mWxJEFRMvkG4UItYJkRDMgWQ08Y.jpg</td>\n",
       "      <td>None</td>\n",
       "      <td>1000000.0</td>\n",
       "      <td>[{'id': 27, 'name': 'Horror'}, {'id': 9648, 'n...</td>\n",
       "      <td></td>\n",
       "      <td>17140.0</td>\n",
       "      <td>en</td>\n",
       "      <td>The Attic Expeditions</td>\n",
       "      <td>...</td>\n",
       "      <td>0.0</td>\n",
       "      <td>100.0</td>\n",
       "      <td>[{'english_name': 'English', 'iso_639_1': 'en'...</td>\n",
       "      <td>Released</td>\n",
       "      <td>His search for peace of mind... will leave his...</td>\n",
       "      <td>The Attic Expeditions</td>\n",
       "      <td>0.0</td>\n",
       "      <td>5.100</td>\n",
       "      <td>29.0</td>\n",
       "      <td>R</td>\n",
       "    </tr>\n",
       "  </tbody>\n",
       "</table>\n",
       "<p>5 rows × 26 columns</p>\n",
       "</div>"
      ],
      "text/plain": [
       "     imdb_id  adult                     backdrop_path belongs_to_collection  \\\n",
       "0          0    NaN                               NaN                   NaN   \n",
       "1  tt0035423    0.0  /hfeiSfWYujh6MKhtGTXyK3DD4nN.jpg                  None   \n",
       "2  tt0114447    0.0                              None                  None   \n",
       "3  tt0118589    0.0  /9NZAirJahVilTiDNCHLFcdkwkiy.jpg                  None   \n",
       "4  tt0118652    0.0  /mWxJEFRMvkG4UItYJkRDMgWQ08Y.jpg                  None   \n",
       "\n",
       "       budget                                             genres homepage  \\\n",
       "0         NaN                                                NaN      NaN   \n",
       "1  48000000.0  [{'id': 10749, 'name': 'Romance'}, {'id': 14, ...            \n",
       "2         0.0  [{'id': 53, 'name': 'Thriller'}, {'id': 28, 'n...            \n",
       "3  22000000.0  [{'id': 18, 'name': 'Drama'}, {'id': 10402, 'n...            \n",
       "4   1000000.0  [{'id': 27, 'name': 'Horror'}, {'id': 9648, 'n...            \n",
       "\n",
       "         id original_language         original_title  ...     revenue  \\\n",
       "0       NaN               NaN                    NaN  ...         NaN   \n",
       "1   11232.0                en         Kate & Leopold  ...  76019048.0   \n",
       "2  151007.0                en       The Silent Force  ...         0.0   \n",
       "3   10696.0                en                Glitter  ...   5271666.0   \n",
       "4   17140.0                en  The Attic Expeditions  ...         0.0   \n",
       "\n",
       "   runtime                                   spoken_languages    status  \\\n",
       "0      NaN                                                NaN       NaN   \n",
       "1    118.0  [{'english_name': 'English', 'iso_639_1': 'en'...  Released   \n",
       "2     90.0  [{'english_name': 'English', 'iso_639_1': 'en'...  Released   \n",
       "3    104.0  [{'english_name': 'English', 'iso_639_1': 'en'...  Released   \n",
       "4    100.0  [{'english_name': 'English', 'iso_639_1': 'en'...  Released   \n",
       "\n",
       "                                             tagline                  title  \\\n",
       "0                                                NaN                    NaN   \n",
       "1  If they lived in the same century, they'd be p...         Kate & Leopold   \n",
       "2  They left him for dead... They should have fin...       The Silent Force   \n",
       "3   In music she found her dream, her love, herself.                Glitter   \n",
       "4  His search for peace of mind... will leave his...  The Attic Expeditions   \n",
       "\n",
       "   video  vote_average vote_count certification  \n",
       "0    NaN           NaN        NaN           NaN  \n",
       "1    0.0         6.328     1181.0         PG-13  \n",
       "2    0.0         5.000        3.0           NaN  \n",
       "3    0.0         4.524      123.0         PG-13  \n",
       "4    0.0         5.100       29.0             R  \n",
       "\n",
       "[5 rows x 26 columns]"
      ]
     },
     "execution_count": 15,
     "metadata": {},
     "output_type": "execute_result"
    }
   ],
   "source": [
    "df_api_2001.head()"
   ]
  },
  {
   "cell_type": "code",
   "execution_count": 16,
   "id": "ad3c2609",
   "metadata": {
    "scrolled": true
   },
   "outputs": [
    {
     "name": "stdout",
     "output_type": "stream",
     "text": [
      "<class 'pandas.core.frame.DataFrame'>\n",
      "RangeIndex: 1318 entries, 0 to 1317\n",
      "Data columns (total 26 columns):\n",
      " #   Column                 Non-Null Count  Dtype  \n",
      "---  ------                 --------------  -----  \n",
      " 0   imdb_id                1318 non-null   object \n",
      " 1   adult                  1317 non-null   float64\n",
      " 2   backdrop_path          704 non-null    object \n",
      " 3   belongs_to_collection  92 non-null     object \n",
      " 4   budget                 1317 non-null   float64\n",
      " 5   genres                 1317 non-null   object \n",
      " 6   homepage               1317 non-null   object \n",
      " 7   id                     1317 non-null   float64\n",
      " 8   original_language      1317 non-null   object \n",
      " 9   original_title         1317 non-null   object \n",
      " 10  overview               1317 non-null   object \n",
      " 11  popularity             1317 non-null   float64\n",
      " 12  poster_path            1184 non-null   object \n",
      " 13  production_companies   1317 non-null   object \n",
      " 14  production_countries   1317 non-null   object \n",
      " 15  release_date           1317 non-null   object \n",
      " 16  revenue                1317 non-null   float64\n",
      " 17  runtime                1317 non-null   float64\n",
      " 18  spoken_languages       1317 non-null   object \n",
      " 19  status                 1317 non-null   object \n",
      " 20  tagline                1317 non-null   object \n",
      " 21  title                  1317 non-null   object \n",
      " 22  video                  1317 non-null   float64\n",
      " 23  vote_average           1317 non-null   float64\n",
      " 24  vote_count             1317 non-null   float64\n",
      " 25  certification          872 non-null    object \n",
      "dtypes: float64(9), object(17)\n",
      "memory usage: 267.8+ KB\n"
     ]
    }
   ],
   "source": [
    "df_api_2001.info()"
   ]
  },
  {
   "cell_type": "code",
   "execution_count": 35,
   "id": "5593ee6f",
   "metadata": {},
   "outputs": [],
   "source": [
    "#combine the two dataframes\n",
    "combined_df = pd.concat([df_api_2000, df_api_2001], ignore_index=True, sort=False)"
   ]
  },
  {
   "cell_type": "code",
   "execution_count": 36,
   "id": "38d99733",
   "metadata": {
    "scrolled": false
   },
   "outputs": [
    {
     "name": "stdout",
     "output_type": "stream",
     "text": [
      "<class 'pandas.core.frame.DataFrame'>\n",
      "RangeIndex: 2547 entries, 0 to 2546\n",
      "Data columns (total 26 columns):\n",
      " #   Column                 Non-Null Count  Dtype  \n",
      "---  ------                 --------------  -----  \n",
      " 0   imdb_id                2547 non-null   object \n",
      " 1   adult                  2545 non-null   float64\n",
      " 2   backdrop_path          1374 non-null   object \n",
      " 3   belongs_to_collection  204 non-null    object \n",
      " 4   budget                 2545 non-null   float64\n",
      " 5   genres                 2545 non-null   object \n",
      " 6   homepage               2545 non-null   object \n",
      " 7   id                     2545 non-null   float64\n",
      " 8   original_language      2545 non-null   object \n",
      " 9   original_title         2545 non-null   object \n",
      " 10  overview               2545 non-null   object \n",
      " 11  popularity             2545 non-null   float64\n",
      " 12  poster_path            2288 non-null   object \n",
      " 13  production_companies   2545 non-null   object \n",
      " 14  production_countries   2545 non-null   object \n",
      " 15  release_date           2545 non-null   object \n",
      " 16  revenue                2545 non-null   float64\n",
      " 17  runtime                2545 non-null   float64\n",
      " 18  spoken_languages       2545 non-null   object \n",
      " 19  status                 2545 non-null   object \n",
      " 20  tagline                2545 non-null   object \n",
      " 21  title                  2545 non-null   object \n",
      " 22  video                  2545 non-null   float64\n",
      " 23  vote_average           2545 non-null   float64\n",
      " 24  vote_count             2545 non-null   float64\n",
      " 25  certification          1662 non-null   object \n",
      "dtypes: float64(9), object(17)\n",
      "memory usage: 517.5+ KB\n"
     ]
    }
   ],
   "source": [
    "combined_df.info()"
   ]
  },
  {
   "cell_type": "code",
   "execution_count": 40,
   "id": "86bc9925",
   "metadata": {},
   "outputs": [],
   "source": [
    "## Save current dataframe to file.\n",
    "combined_df.to_csv(\"Data4/tmdb_combined.csv.gz\",compression='gzip',index=False)\n",
    "\n"
   ]
  },
  {
   "cell_type": "code",
   "execution_count": 41,
   "id": "b457f05c",
   "metadata": {},
   "outputs": [],
   "source": [
    "combined=pd.read_csv('Data4/tmdb_combined.csv.gz')"
   ]
  },
  {
   "cell_type": "code",
   "execution_count": 42,
   "id": "60557734",
   "metadata": {
    "scrolled": true
   },
   "outputs": [
    {
     "name": "stdout",
     "output_type": "stream",
     "text": [
      "<class 'pandas.core.frame.DataFrame'>\n",
      "RangeIndex: 2547 entries, 0 to 2546\n",
      "Data columns (total 26 columns):\n",
      " #   Column                 Non-Null Count  Dtype  \n",
      "---  ------                 --------------  -----  \n",
      " 0   imdb_id                2547 non-null   object \n",
      " 1   adult                  2545 non-null   float64\n",
      " 2   backdrop_path          1374 non-null   object \n",
      " 3   belongs_to_collection  204 non-null    object \n",
      " 4   budget                 2545 non-null   float64\n",
      " 5   genres                 2545 non-null   object \n",
      " 6   homepage               172 non-null    object \n",
      " 7   id                     2545 non-null   float64\n",
      " 8   original_language      2545 non-null   object \n",
      " 9   original_title         2545 non-null   object \n",
      " 10  overview               2494 non-null   object \n",
      " 11  popularity             2545 non-null   float64\n",
      " 12  poster_path            2288 non-null   object \n",
      " 13  production_companies   2545 non-null   object \n",
      " 14  production_countries   2545 non-null   object \n",
      " 15  release_date           2528 non-null   object \n",
      " 16  revenue                2545 non-null   float64\n",
      " 17  runtime                2545 non-null   float64\n",
      " 18  spoken_languages       2545 non-null   object \n",
      " 19  status                 2545 non-null   object \n",
      " 20  tagline                1091 non-null   object \n",
      " 21  title                  2545 non-null   object \n",
      " 22  video                  2545 non-null   float64\n",
      " 23  vote_average           2545 non-null   float64\n",
      " 24  vote_count             2545 non-null   float64\n",
      " 25  certification          809 non-null    object \n",
      "dtypes: float64(9), object(17)\n",
      "memory usage: 517.5+ KB\n"
     ]
    }
   ],
   "source": [
    "combined.info()"
   ]
  },
  {
   "cell_type": "markdown",
   "id": "dc14924b",
   "metadata": {},
   "source": [
    "### Visual #1"
   ]
  },
  {
   "cell_type": "markdown",
   "id": "bebefb05",
   "metadata": {},
   "source": [
    "- - How many movies had at least some valid financial information (values > 0 for budget OR revenue)? Please exclude any movies with 0's for budget AND revenue from the remaining visualizations."
   ]
  },
  {
   "cell_type": "code",
   "execution_count": 19,
   "id": "7efd624b",
   "metadata": {},
   "outputs": [
    {
     "data": {
      "image/png": "[encoded data removed]",
      "text/plain": [
       "<Figure size 640x480 with 1 Axes>"
      ]
     },
     "metadata": {},
     "output_type": "display_data"
    }
   ],
   "source": [
    "combined_monies = (combined_df[\"budget\"]> 0) | (combined_df['revenue'] > 0)\n",
    "\n",
    "plot=combined_df[combined_monies]\n",
    "\n",
    "ax= sns.countplot(x=combined_monies)\n",
    "ax.set_title('Financial Earnings', fontfamily='serif',fontsize = 20, fontweight = 'bold');\n",
    "ax.set_xlabel('xxx', fontfamily= 'serif', fontsize = 15, fontweight = 'bold')\n",
    "plt.xlabel('Revenue and Budget')\n",
    "ax.set_xticklabels(['Made No Money', 'Made Money'])\n",
    "plt.ylabel('Count')\n",
    "ax.spines['right'].set_visible(False)\n",
    "ax.spines['top'].set_visible(False)\n"
   ]
  },
  {
   "cell_type": "markdown",
   "id": "77e2c8ad",
   "metadata": {},
   "source": [
    "### Visual #2"
   ]
  },
  {
   "cell_type": "markdown",
   "id": "d8e3a036",
   "metadata": {},
   "source": [
    "-  How many movies are there in each of the certification categories (G/PG/PG-13/R)?"
   ]
  },
  {
   "cell_type": "code",
   "execution_count": 20,
   "id": "33f5a2fa",
   "metadata": {},
   "outputs": [
    {
     "data": {
      "text/plain": [
       "           853\n",
       "R          459\n",
       "PG-13      183\n",
       "NR          73\n",
       "PG          62\n",
       "G           24\n",
       "NC-17        6\n",
       "Unrated      1\n",
       "-            1\n",
       "Name: certification, dtype: int64"
      ]
     },
     "execution_count": 20,
     "metadata": {},
     "output_type": "execute_result"
    }
   ],
   "source": [
    "#check the certification counts\n",
    "combined_df['certification'].value_counts()"
   ]
  },
  {
   "cell_type": "code",
   "execution_count": 21,
   "id": "a2834819",
   "metadata": {},
   "outputs": [
    {
     "data": {
      "image/png": "[encoded data removed]",
      "text/plain": [
       "<Figure size 640x480 with 1 Axes>"
      ]
     },
     "metadata": {},
     "output_type": "display_data"
    }
   ],
   "source": [
    "#create the countplot\n",
    "ax= sns.countplot(data=combined_df, y='certification')\n",
    "ax.set_title('Motion Picture Rating', fontfamily='serif',fontsize = 20, fontweight = 'bold');\n",
    "\n",
    "plt.xlabel('Count')\n",
    "plt.ylabel('Rating', fontfamily='Arial Rounded MT Bold', fontsize = 15, rotation = 0)\n",
    "ax.spines['right'].set_visible(False)\n",
    "ax.spines['top'].set_visible(False)\n",
    "ax.set_yticklabels(labels = ['No rating','PG', 'R', 'G', 'NR', 'PG-13','NC-17', 'Unrated', 'Unknown'], \n",
    "                   rotation=45, \n",
    "                   fontstyle='italic', \n",
    "                   color='black');"
   ]
  },
  {
   "cell_type": "markdown",
   "id": "e7333c00",
   "metadata": {},
   "source": [
    "### Visual #3"
   ]
  },
  {
   "cell_type": "markdown",
   "id": "2c897894",
   "metadata": {},
   "source": [
    "- What is the average revenue per certification category?\n"
   ]
  },
  {
   "cell_type": "code",
   "execution_count": 22,
   "id": "976b499a",
   "metadata": {},
   "outputs": [],
   "source": [
    "import matplotlib.ticker as tkr\n",
    "\n",
    "def func(x, pos):  # formatter function takes tick label and tick position\n",
    "   s = '{:0,d}'.format(int(x))\n",
    "   return s\n",
    "\n",
    "\n",
    "y_format = tkr.FuncFormatter(func)  # make formatter\n"
   ]
  },
  {
   "cell_type": "code",
   "execution_count": 23,
   "id": "1802d0e0",
   "metadata": {},
   "outputs": [
    {
     "data": {
      "image/png": "[encoded data removed]",
      "text/plain": [
       "<Figure size 640x480 with 1 Axes>"
      ]
     },
     "metadata": {},
     "output_type": "display_data"
    }
   ],
   "source": [
    "ax=sns.barplot(data=plot, x='certification', y= 'revenue', errorbar=None);\n",
    "ax.set_title('Average Revenue per Movie Rating', fontfamily='serif',fontsize = 20, fontweight = 'bold');\n",
    "\n",
    "plt.xlabel('Rating')\n",
    "plt.ylabel('Revenue', fontfamily='Arial Rounded MT Bold', fontsize = 15)\n",
    "plt.ticklabel_format(style='plain', axis='y')\n",
    "ax.yaxis.set_major_formatter(y_format)  # set formatter to needed axis\n",
    "\n",
    "ax.spines['right'].set_visible(False)\n",
    "ax.spines['top'].set_visible(False)\n",
    "ax.set_xticklabels(labels = ['No rating','PG', 'R', 'G', 'PG-13','NR'], \n",
    "                   rotation=45, \n",
    "                   fontstyle='italic', \n",
    "                   color='black');"
   ]
  },
  {
   "cell_type": "markdown",
   "id": "16fed1f2",
   "metadata": {},
   "source": [
    "- What is the average budget per certification category?\n"
   ]
  },
  {
   "cell_type": "code",
   "execution_count": 24,
   "id": "97609a80",
   "metadata": {
    "scrolled": true
   },
   "outputs": [
    {
     "data": {
      "image/png": "[encoded data removed]",
      "text/plain": [
       "<Figure size 640x480 with 1 Axes>"
      ]
     },
     "metadata": {},
     "output_type": "display_data"
    }
   ],
   "source": [
    "#create the visual\n",
    "ax=sns.barplot(data=plot, x='certification', y= 'budget', errorbar=None);\n",
    "ax.set_title('Average Budget per Movie Rating', fontfamily='serif',fontsize = 20, fontweight = 'bold');\n",
    "\n",
    "plt.xlabel('Rating')\n",
    "plt.ylabel('Budget', fontfamily='Arial Rounded MT Bold', fontsize = 15)\n",
    "plt.ticklabel_format(style='plain', axis='y')\n",
    "ax.yaxis.set_major_formatter(y_format)  # set formatter to needed axis\n",
    "\n",
    "ax.spines['right'].set_visible(False)\n",
    "ax.spines['top'].set_visible(False)\n",
    "ax.set_xticklabels(labels = ['No rating','PG', 'R', 'G', 'PG-13','NR'], \n",
    "                   rotation=45, \n",
    "                   fontstyle='italic', \n",
    "                   color='black');"
   ]
  },
  {
   "cell_type": "code",
   "execution_count": null,
   "id": "7a5b7e54",
   "metadata": {},
   "outputs": [],
   "source": []
  }
 ],
 "metadata": {
  "kernelspec": {
   "display_name": "Python (dojo-env)",
   "language": "python",
   "name": "dojo-env"
  },
  "language_info": {
   "codemirror_mode": {
    "name": "ipython",
    "version": 3
   },
   "file_extension": ".py",
   "mimetype": "text/x-python",
   "name": "python",
   "nbconvert_exporter": "python",
   "pygments_lexer": "ipython3",
   "version": "3.9.15"
  },
  "toc": {
   "base_numbering": 1,
   "nav_menu": {},
   "number_sections": true,
   "sideBar": true,
   "skip_h1_title": false,
   "title_cell": "Table of Contents",
   "title_sidebar": "Contents",
   "toc_cell": false,
   "toc_position": {},
   "toc_section_display": true,
   "toc_window_display": true
  }
 },
 "nbformat": 4,
 "nbformat_minor": 5
}
