{
 "cells": [
  {
   "cell_type": "markdown",
   "id": "9093f8c9",
   "metadata": {},
   "source": [
    "# Set up project"
   ]
  },
  {
   "cell_type": "code",
   "execution_count": 51,
   "id": "2017a608",
   "metadata": {},
   "outputs": [
    {
     "name": "stdout",
     "output_type": "stream",
     "text": [
      "Requirement already satisfied: tmdbsimple in c:\\users\\elizabeth spreng\\anaconda3\\envs\\dojo-env\\lib\\site-packages (2.9.1)\n",
      "Requirement already satisfied: requests in c:\\users\\elizabeth spreng\\anaconda3\\envs\\dojo-env\\lib\\site-packages (from tmdbsimple) (2.28.1)\n",
      "Requirement already satisfied: urllib3<1.27,>=1.21.1 in c:\\users\\elizabeth spreng\\anaconda3\\envs\\dojo-env\\lib\\site-packages (from requests->tmdbsimple) (1.26.13)\n",
      "Requirement already satisfied: certifi>=2017.4.17 in c:\\users\\elizabeth spreng\\anaconda3\\envs\\dojo-env\\lib\\site-packages (from requests->tmdbsimple) (2022.9.24)\n",
      "Requirement already satisfied: charset-normalizer<3,>=2 in c:\\users\\elizabeth spreng\\anaconda3\\envs\\dojo-env\\lib\\site-packages (from requests->tmdbsimple) (2.0.4)\n",
      "Requirement already satisfied: idna<4,>=2.5 in c:\\users\\elizabeth spreng\\anaconda3\\envs\\dojo-env\\lib\\site-packages (from requests->tmdbsimple) (3.4)\n"
     ]
    }
   ],
   "source": [
    "# Install tmdbsimple (only need to run once)\n",
    "!pip install tmdbsimple"
   ]
  },
  {
   "cell_type": "code",
   "execution_count": 52,
   "id": "ad453dda",
   "metadata": {},
   "outputs": [
    {
     "name": "stdout",
     "output_type": "stream",
     "text": [
      "Requirement already satisfied: tqdm in c:\\users\\elizabeth spreng\\anaconda3\\envs\\dojo-env\\lib\\site-packages (4.64.1)\n",
      "Requirement already satisfied: colorama in c:\\users\\elizabeth spreng\\anaconda3\\envs\\dojo-env\\lib\\site-packages (from tqdm) (0.4.5)\n"
     ]
    }
   ],
   "source": [
    " !pip install tqdm"
   ]
  },
  {
   "cell_type": "code",
   "execution_count": 54,
   "id": "a2859a11",
   "metadata": {},
   "outputs": [
    {
     "data": {
      "text/plain": [
       "dict_keys(['api-key'])"
      ]
     },
     "execution_count": 54,
     "metadata": {},
     "output_type": "execute_result"
    }
   ],
   "source": [
    "# open the json\n",
    "import json\n",
    "with open(\"C:\\\\Users\\\\Elizabeth Spreng\\\\.secret\\\\tmbd_api.json\", 'r') as f:\n",
    "    login = json.load(f)\n",
    "## Display the keys of the loaded dict\n",
    "login.keys()"
   ]
  },
  {
   "cell_type": "code",
   "execution_count": 55,
   "id": "c4b310b0",
   "metadata": {},
   "outputs": [],
   "source": [
    "# load tmbd simple\n",
    "import tmdbsimple as tmdb\n",
    "tmdb.API_KEY =  login['api-key']"
   ]
  },
  {
   "cell_type": "code",
   "execution_count": 56,
   "id": "70ac9444",
   "metadata": {},
   "outputs": [],
   "source": [
    "#import libraries\n",
    "import pandas as pd\n",
    "\n",
    "#import \n",
    "from tqdm.notebook import trange, tqdm\n",
    "from tqdm.notebook import tqdm_notebook "
   ]
  },
  {
   "cell_type": "markdown",
   "id": "047e86ae",
   "metadata": {},
   "source": [
    "## Set up Functions"
   ]
  },
  {
   "cell_type": "markdown",
   "id": "da76ac8c",
   "metadata": {},
   "source": [
    "## Create the Movie ID query\n",
    "- revenue\n",
    "- budget\n",
    "- certification"
   ]
  },
  {
   "cell_type": "code",
   "execution_count": 57,
   "id": "d4583cb3",
   "metadata": {},
   "outputs": [],
   "source": [
    "## make a movie object using the .Movies function from tmdb\n",
    "movie = tmdb.Movies(603)\n"
   ]
  },
  {
   "cell_type": "code",
   "execution_count": 58,
   "id": "af230fb7",
   "metadata": {
    "scrolled": true
   },
   "outputs": [
    {
     "data": {
      "text/plain": [
       "{'adult': False,\n",
       " 'backdrop_path': '/l4QHerTSbMI7qgvasqxP36pqjN6.jpg',\n",
       " 'belongs_to_collection': {'id': 2344,\n",
       "  'name': 'The Matrix Collection',\n",
       "  'poster_path': '/bV9qTVHTVf0gkW0j7p7M0ILD4pG.jpg',\n",
       "  'backdrop_path': '/bRm2DEgUiYciDw3myHuYFInD7la.jpg'},\n",
       " 'budget': 63000000,\n",
       " 'genres': [{'id': 28, 'name': 'Action'},\n",
       "  {'id': 878, 'name': 'Science Fiction'}],\n",
       " 'homepage': 'http://www.warnerbros.com/matrix',\n",
       " 'id': 603,\n",
       " 'imdb_id': 'tt0133093',\n",
       " 'original_language': 'en',\n",
       " 'original_title': 'The Matrix',\n",
       " 'overview': 'Set in the 22nd century, The Matrix tells the story of a computer hacker who joins a group of underground insurgents fighting the vast and powerful computers who now rule the earth.',\n",
       " 'popularity': 119.14,\n",
       " 'poster_path': '/f89U3ADr1oiB1s9GkdPOEpXUk5H.jpg',\n",
       " 'production_companies': [{'id': 79,\n",
       "   'logo_path': '/tpFpsqbleCzEE2p5EgvUq6ozfCA.png',\n",
       "   'name': 'Village Roadshow Pictures',\n",
       "   'origin_country': 'US'},\n",
       "  {'id': 372,\n",
       "   'logo_path': None,\n",
       "   'name': 'Groucho II Film Partnership',\n",
       "   'origin_country': ''},\n",
       "  {'id': 1885,\n",
       "   'logo_path': '/tXMFoE8AtNdnFzWOW0aCLwl7xxS.png',\n",
       "   'name': 'Silver Pictures',\n",
       "   'origin_country': 'US'},\n",
       "  {'id': 174,\n",
       "   'logo_path': '/IuAlhI9eVC9Z8UQWOIDdWRKSEJ.png',\n",
       "   'name': 'Warner Bros. Pictures',\n",
       "   'origin_country': 'US'}],\n",
       " 'production_countries': [{'iso_3166_1': 'US',\n",
       "   'name': 'United States of America'}],\n",
       " 'release_date': '1999-03-30',\n",
       " 'revenue': 463517383,\n",
       " 'runtime': 136,\n",
       " 'spoken_languages': [{'english_name': 'English',\n",
       "   'iso_639_1': 'en',\n",
       "   'name': 'English'}],\n",
       " 'status': 'Released',\n",
       " 'tagline': 'Welcome to the Real World.',\n",
       " 'title': 'The Matrix',\n",
       " 'video': False,\n",
       " 'vote_average': 8.2,\n",
       " 'vote_count': 22978}"
      ]
     },
     "execution_count": 58,
     "metadata": {},
     "output_type": "execute_result"
    }
   ],
   "source": [
    "## movie objects have a .info dictionary \n",
    "info = movie.info()\n",
    "info"
   ]
  },
  {
   "cell_type": "code",
   "execution_count": 59,
   "id": "acda1d61",
   "metadata": {},
   "outputs": [
    {
     "data": {
      "text/plain": [
       "63000000"
      ]
     },
     "execution_count": 59,
     "metadata": {},
     "output_type": "execute_result"
    }
   ],
   "source": [
    "# get total of budget\n",
    "info['budget']\n"
   ]
  },
  {
   "cell_type": "code",
   "execution_count": 60,
   "id": "9862bfdf",
   "metadata": {},
   "outputs": [
    {
     "data": {
      "text/plain": [
       "463517383"
      ]
     },
     "execution_count": 60,
     "metadata": {},
     "output_type": "execute_result"
    }
   ],
   "source": [
    "# get total count for revenue\n",
    "info['revenue']\n"
   ]
  },
  {
   "cell_type": "code",
   "execution_count": 61,
   "id": "8db33473",
   "metadata": {},
   "outputs": [
    {
     "data": {
      "text/plain": [
       "'tt0133093'"
      ]
     },
     "execution_count": 61,
     "metadata": {},
     "output_type": "execute_result"
    }
   ],
   "source": [
    "# get the refenrence number for movie id\n",
    "info['imdb_id']"
   ]
  },
  {
   "cell_type": "markdown",
   "id": "b0dfc1bc",
   "metadata": {},
   "source": [
    "## Construct movie with rating function"
   ]
  },
  {
   "cell_type": "markdown",
   "id": "33648a1a",
   "metadata": {},
   "source": [
    "## Create Loops for API Call"
   ]
  },
  {
   "cell_type": "markdown",
   "id": "ededc6e4",
   "metadata": {},
   "source": [
    "### Before the loop"
   ]
  },
  {
   "cell_type": "code",
   "execution_count": 62,
   "id": "2a915db4",
   "metadata": {},
   "outputs": [],
   "source": [
    "# Get the movie object for the current id\n",
    "movie = tmdb.Movies('tt1361336')\n",
    "# save the .info .releases dictionaries\n",
    "info = movie.info()\n",
    "releases = movie.releases()\n",
    "# Loop through countries in releases\n",
    "for c in releases['countries']:\n",
    "    # if the country abbreviation==US\n",
    "    if c['iso_3166_1' ] =='US':\n",
    "        ## save a \"certification\" key in the info dict with the certification\n",
    "       info['certification'] = c['certification']\n"
   ]
  },
  {
   "cell_type": "code",
   "execution_count": 63,
   "id": "08aa1ca7",
   "metadata": {},
   "outputs": [
    {
     "data": {
      "text/plain": [
       "{'adult': False,\n",
       " 'backdrop_path': '/9BBTo63ANSmhC4e6r62OJFuK2GL.jpg',\n",
       " 'belongs_to_collection': {'id': 86311,\n",
       "  'name': 'The Avengers Collection',\n",
       "  'poster_path': '/yFSIUVTCvgYrpalUktulvk3Gi5Y.jpg',\n",
       "  'backdrop_path': '/zuW6fOiusv4X9nnW3paHGfXcSll.jpg'},\n",
       " 'budget': 220000000,\n",
       " 'genres': [{'id': 878, 'name': 'Science Fiction'},\n",
       "  {'id': 28, 'name': 'Action'},\n",
       "  {'id': 12, 'name': 'Adventure'}],\n",
       " 'homepage': 'https://www.marvel.com/movies/the-avengers',\n",
       " 'id': 24428,\n",
       " 'imdb_id': 'tt0848228',\n",
       " 'original_language': 'en',\n",
       " 'original_title': 'The Avengers',\n",
       " 'overview': 'When an unexpected enemy emerges and threatens global safety and security, Nick Fury, director of the international peacekeeping agency known as S.H.I.E.L.D., finds himself in need of a team to pull the world back from the brink of disaster. Spanning the globe, a daring recruitment effort begins!',\n",
       " 'popularity': 162.35,\n",
       " 'poster_path': '/RYMX2wcKCBAr24UyPD7xwmjaTn.jpg',\n",
       " 'production_companies': [{'id': 420,\n",
       "   'logo_path': '/hUzeosd33nzE5MCNsZxCGEKTXaQ.png',\n",
       "   'name': 'Marvel Studios',\n",
       "   'origin_country': 'US'}],\n",
       " 'production_countries': [{'iso_3166_1': 'US',\n",
       "   'name': 'United States of America'}],\n",
       " 'release_date': '2012-04-25',\n",
       " 'revenue': 1518815515,\n",
       " 'runtime': 143,\n",
       " 'spoken_languages': [{'english_name': 'English',\n",
       "   'iso_639_1': 'en',\n",
       "   'name': 'English'},\n",
       "  {'english_name': 'Hindi', 'iso_639_1': 'hi', 'name': 'हिन्दी'},\n",
       "  {'english_name': 'Russian', 'iso_639_1': 'ru', 'name': 'Pусский'}],\n",
       " 'status': 'Released',\n",
       " 'tagline': 'Some assembly required.',\n",
       " 'title': 'The Avengers',\n",
       " 'video': False,\n",
       " 'vote_average': 7.707,\n",
       " 'vote_count': 28372,\n",
       " 'certification': 'PG-13'}"
      ]
     },
     "execution_count": 63,
     "metadata": {},
     "output_type": "execute_result"
    }
   ],
   "source": [
    "test = get_movie_with_rating(\"tt0848228\") #put your function name here\n",
    "test"
   ]
  },
  {
   "cell_type": "code",
   "execution_count": 64,
   "id": "62844e1d",
   "metadata": {},
   "outputs": [
    {
     "data": {
      "text/plain": [
       "['title_aka.csv.gz',\n",
       " 'title_basics.csv.gz',\n",
       " 'title_rating.csv.gz',\n",
       " 'tmdb_api_results_2000.json']"
      ]
     },
     "execution_count": 64,
     "metadata": {},
     "output_type": "execute_result"
    }
   ],
   "source": [
    "import os, time,json\n",
    "import tmdbsimple as tmdb \n",
    "FOLDER = \"Data3/\"\n",
    "os.makedirs(FOLDER, exist_ok=True)\n",
    "os.listdir(FOLDER)\n"
   ]
  },
  {
   "cell_type": "code",
   "execution_count": 65,
   "id": "c2701eab",
   "metadata": {},
   "outputs": [],
   "source": [
    "def get_movie_with_rating(movie_id):\n",
    "    #get the movie and release dates\n",
    "    movie = tmdb.Movies(movie_id)\n",
    "    ##contruct output dict\n",
    "    info = movie.info()\n",
    "    releases = movie.releases()\n",
    "    for c in releases['countries']:\n",
    "        if c['iso_3166_1'] == 'US':\n",
    "            info['certification'] = c['certification']\n",
    "    return info"
   ]
  },
  {
   "cell_type": "code",
   "execution_count": 75,
   "id": "38330a42",
   "metadata": {},
   "outputs": [],
   "source": [
    "def write_json(new_data, filename): \n",
    "    \"\"\"Appends a list of records (new_data) to a json file (filename). \n",
    "    Adapted from: https://www.geeksforgeeks.org/append-to-json-file-using-python/\"\"\"  \n",
    "    \n",
    "    with open(filename,'r+') as file:\n",
    "        # First we load existing data into a dict.\n",
    "        file_data = json.load(file)\n",
    "        ## Choose extend or append\n",
    "        if (type(new_data) == list) & (type(file_data) == list):\n",
    "            file_data.extend(new_data)\n",
    "        else:\n",
    "             file_data.append(new_data)\n",
    "        # Sets file's current position at offset.\n",
    "        file.seek(0)\n",
    "        # convert back to json.\n",
    "        json.dump(file_data, file)"
   ]
  },
  {
   "cell_type": "code",
   "execution_count": 76,
   "id": "e80922d9",
   "metadata": {},
   "outputs": [],
   "source": [
    "# define years\n",
    "YEARS_TO_GET = [2000,2001]"
   ]
  },
  {
   "cell_type": "code",
   "execution_count": 78,
   "id": "274ef201",
   "metadata": {},
   "outputs": [],
   "source": [
    "# define errors\n",
    "errors = [ ]"
   ]
  },
  {
   "cell_type": "code",
   "execution_count": null,
   "id": "a745b8cb",
   "metadata": {},
   "outputs": [],
   "source": [
    "def write_json(new_data, filename): \n",
    "    \"\"\"Appends a list of records (new_data) to a json file (filename). \n",
    "    Adapted from: https://www.geeksforgeeks.org/append-to-json-file-using-python/\"\"\"  \n",
    "    \n",
    "    with open(filename,'r+') as file:\n",
    "        # First we load existing data into a dict.\n",
    "        file_data = json.load(file)\n",
    "        ## Choose extend or append\n",
    "        if (type(new_data) == list) & (type(file_data) == list):\n",
    "            file_data.extend(new_data)\n",
    "        else:\n",
    "             file_data.append(new_data)\n",
    "        # Sets file's current position at offset.\n",
    "        file.seek(0)\n",
    "        # convert back to json.\n",
    "        json.dump(file_data, file)"
   ]
  },
  {
   "cell_type": "code",
   "execution_count": 95,
   "id": "c224eaf4",
   "metadata": {},
   "outputs": [],
   "source": [
    "YEAR = 2000"
   ]
  },
  {
   "cell_type": "code",
   "execution_count": 96,
   "id": "f5b59904",
   "metadata": {},
   "outputs": [],
   "source": [
    "#Defining the JSON file to store results for year\n",
    "JSON_FILE = f'{FOLDER}tmdb_api_results_{YEAR}.json'"
   ]
  },
  {
   "cell_type": "code",
   "execution_count": 97,
   "id": "88bea7d8",
   "metadata": {},
   "outputs": [],
   "source": [
    "# Check if file exists\n",
    "file_exists = os.path.isfile(JSON_FILE)"
   ]
  },
  {
   "cell_type": "code",
   "execution_count": 98,
   "id": "92f79cbc",
   "metadata": {},
   "outputs": [],
   "source": [
    "# Load in the dataframe from project part 1 as basics:\n",
    "basics = pd.read_csv('Data3/title_basics.csv.gz')"
   ]
  },
  {
   "cell_type": "code",
   "execution_count": 99,
   "id": "2441e216",
   "metadata": {},
   "outputs": [],
   "source": [
    "# If it does not exist: create i\n",
    "if file_exists == False:\n",
    "    # save an empty dict with just \"imdb_id\" to the new json file.\n",
    "    with open(JSON_FILE,'w') as f:\n",
    "        json.dump([{'imdb_id':0}],f)"
   ]
  },
  {
   "cell_type": "code",
   "execution_count": 100,
   "id": "3a40cc37",
   "metadata": {},
   "outputs": [],
   "source": [
    "#Saving new year as the current df\n",
    "df = basics.loc[ basics['startYear']==YEAR].copy()"
   ]
  },
  {
   "cell_type": "code",
   "execution_count": 101,
   "id": "f87446bc",
   "metadata": {},
   "outputs": [
    {
     "data": {
      "text/plain": [
       "7         tt0102362\n",
       "13        tt0113026\n",
       "14        tt0113092\n",
       "18        tt0115937\n",
       "19        tt0116391\n",
       "            ...    \n",
       "134252    tt9035132\n",
       "134601    tt9088396\n",
       "135220    tt9209606\n",
       "136083    tt9412476\n",
       "136353    tt9486348\n",
       "Name: tconst, Length: 2740, dtype: object"
      ]
     },
     "execution_count": 101,
     "metadata": {},
     "output_type": "execute_result"
    }
   ],
   "source": [
    "# saving movie ids to list\n",
    "movie_ids = df['tconst'].copy()\n",
    "movie_ids"
   ]
  },
  {
   "cell_type": "code",
   "execution_count": 102,
   "id": "30539642",
   "metadata": {},
   "outputs": [
    {
     "data": {
      "text/html": [
       "<div>\n",
       "<style scoped>\n",
       "    .dataframe tbody tr th:only-of-type {\n",
       "        vertical-align: middle;\n",
       "    }\n",
       "\n",
       "    .dataframe tbody tr th {\n",
       "        vertical-align: top;\n",
       "    }\n",
       "\n",
       "    .dataframe thead th {\n",
       "        text-align: right;\n",
       "    }\n",
       "</style>\n",
       "<table border=\"1\" class=\"dataframe\">\n",
       "  <thead>\n",
       "    <tr style=\"text-align: right;\">\n",
       "      <th></th>\n",
       "      <th>imdb_id</th>\n",
       "    </tr>\n",
       "  </thead>\n",
       "  <tbody>\n",
       "    <tr>\n",
       "      <th>0</th>\n",
       "      <td>0</td>\n",
       "    </tr>\n",
       "  </tbody>\n",
       "</table>\n",
       "</div>"
      ],
      "text/plain": [
       "   imdb_id\n",
       "0        0"
      ]
     },
     "execution_count": 102,
     "metadata": {},
     "output_type": "execute_result"
    }
   ],
   "source": [
    "# Load existing data from json into a dataframe called \"previous_df\"\n",
    "previous_df = pd.read_json(JSON_FILE)\n",
    "previous_df"
   ]
  },
  {
   "cell_type": "code",
   "execution_count": null,
   "id": "812a81fd",
   "metadata": {},
   "outputs": [],
   "source": []
  },
  {
   "cell_type": "code",
   "execution_count": 103,
   "id": "574c8bb4",
   "metadata": {},
   "outputs": [
    {
     "data": {
      "application/vnd.jupyter.widget-view+json": {
       "model_id": "d19e70d8b91f4b77bbd63c6f1bdf6c98",
       "version_major": 2,
       "version_minor": 0
      },
      "text/plain": [
       "YEARS:   0%|          | 0/2 [00:00<?, ?it/s]"
      ]
     },
     "metadata": {},
     "output_type": "display_data"
    }
   ],
   "source": [
    "# Start of OUTER loop\n",
    "for YEAR in tqdm_notebook(YEARS_TO_GET, desc='YEARS', position=0):\n",
    "    #Defining the JSON file to store results for year\n",
    "    JSON_FILE = f'{FOLDER}tmdb_api_results_{YEAR}.json'\n",
    "    # Check if file exists\n",
    "    file_exists = os.path.isfile(JSON_FILE)\n",
    "\n",
    "    # If it does not exist: create it\n",
    "    if file_exists == False:\n",
    "    # save an empty dict with just \"imdb_id\" to the new json file.\n",
    "        with open(JSON_FILE,'w') as f:\n",
    "            json.dump([{'imdb_id':0}],f)\n",
    "\n",
    "    #Saving new year as the current df\n",
    "    df = basics.loc[ basics['startYear']==YEAR].copy()\n",
    "\n",
    "    # saving movie ids to list\n",
    "    movie_ids = df['tconst'].copy()\n",
    "    movie_ids\n",
    "    \n",
    "    # Load existing data from json into a dataframe called \"previous_df\"\n",
    "    previous_df = pd.read_json(JSON_FILE)\n",
    "    previous_df\n",
    "\n",
    "    # filter out any ids that are already in the JSON_FILE\n",
    "    movie_ids_to_get = movie_ids[~movie_ids.isin(previous_df['imdb_id'])]\n",
    "\n"
   ]
  },
  {
   "cell_type": "code",
   "execution_count": 104,
   "id": "ffd6f9e4",
   "metadata": {},
   "outputs": [
    {
     "data": {
      "application/vnd.jupyter.widget-view+json": {
       "model_id": "e415d7378c864993924670e740f52586",
       "version_major": 2,
       "version_minor": 0
      },
      "text/plain": [
       "YEARS:   0%|          | 0/2 [00:00<?, ?it/s]"
      ]
     },
     "metadata": {},
     "output_type": "display_data"
    },
    {
     "data": {
      "application/vnd.jupyter.widget-view+json": {
       "model_id": "a65a89be0bbe4826b5c898e65f5987a5",
       "version_major": 2,
       "version_minor": 0
      },
      "text/plain": [
       "Movies from 2000:   0%|          | 0/2740 [00:00<?, ?it/s]"
      ]
     },
     "metadata": {},
     "output_type": "display_data"
    },
    {
     "data": {
      "application/vnd.jupyter.widget-view+json": {
       "model_id": "2226e42efded49d2b641e49fde653a59",
       "version_major": 2,
       "version_minor": 0
      },
      "text/plain": [
       "Movies from 2001:   0%|          | 0/2866 [00:00<?, ?it/s]"
      ]
     },
     "metadata": {},
     "output_type": "display_data"
    }
   ],
   "source": [
    "# Start of OUTER loop\n",
    "for YEAR in tqdm_notebook(YEARS_TO_GET, desc='YEARS', position=0):\n",
    "    #Defining the JSON file to store results for year\n",
    "    JSON_FILE = f'{FOLDER}tmdb_api_results_{YEAR}.json'\n",
    "    # Check if file exists\n",
    "    file_exists = os.path.isfile(JSON_FILE)\n",
    "\n",
    "    # If it does not exist: create it\n",
    "    if file_exists == False:\n",
    "    # save an empty dict with just \"imdb_id\" to the new json file.\n",
    "        with open(JSON_FILE,'w') as f:\n",
    "            json.dump([{'imdb_id':0}],f)\n",
    "\n",
    "    #Saving new year as the current df\n",
    "    df = basics.loc[ basics['startYear']==YEAR].copy()\n",
    "\n",
    "    # saving movie ids to list\n",
    "    movie_ids = df['tconst'].copy()\n",
    "    movie_ids\n",
    "    \n",
    "    # Load existing data from json into a dataframe called \"previous_df\"\n",
    "    previous_df = pd.read_json(JSON_FILE)\n",
    "    previous_df\n",
    "\n",
    "    # filter out any ids that are already in the JSON_FILE\n",
    "    movie_ids_to_get = movie_ids[~movie_ids.isin(previous_df['imdb_id'])]\n",
    "\n",
    "    #Get index and movie id from list\n",
    "    # INNER Loop\n",
    "    for movie_id in tqdm_notebook(movie_ids_to_get,\n",
    "                                  desc=f'Movies from {YEAR}',\n",
    "                                  position=1,\n",
    "                                  leave=True):\n",
    "        try:\n",
    "            # Retrieve then data for the movie id\n",
    "            temp = get_movie_with_rating(movie_id)  \n",
    "            # Append/extend results to existing file using a pre-made function\n",
    "            write_json(temp,JSON_FILE)\n",
    "            # Short 20 ms sleep to prevent overwhelming server\n",
    "            time.sleep(0.02)\n",
    "            \n",
    "        except Exception as e:\n",
    "            continue\n",
    "            #errors.append([movie_id, e])\n",
    "            \n",
    "    # save to file\n",
    "    final_year_df = pd.read_json(JSON_FILE)\n",
    "    final_year_df.to_csv(f\"{FOLDER}final_tmdb_data_{YEAR}.csv.gz\", compression=\"gzip\", index=False)"
   ]
  },
  {
   "cell_type": "code",
   "execution_count": 249,
   "id": "bd1cd1cf",
   "metadata": {},
   "outputs": [
    {
     "ename": "SyntaxError",
     "evalue": "EOL while scanning string literal (4289374870.py, line 1)",
     "output_type": "error",
     "traceback": [
      "\u001b[1;36m  Cell \u001b[1;32mIn [249], line 1\u001b[1;36m\u001b[0m\n\u001b[1;33m    print(f'-Total errors{len(errors)})\u001b[0m\n\u001b[1;37m                                       ^\u001b[0m\n\u001b[1;31mSyntaxError\u001b[0m\u001b[1;31m:\u001b[0m EOL while scanning string literal\n"
     ]
    }
   ],
   "source": [
    "print(f'-Total errors{len(errors)}"
   ]
  },
  {
   "cell_type": "markdown",
   "id": "078ae595",
   "metadata": {},
   "source": [
    "#  Exploratory Data"
   ]
  },
  {
   "cell_type": "markdown",
   "id": "20147433",
   "metadata": {},
   "source": [
    "- How many movies had at least some valid financial information (values > 0 for budget OR revenue)? Please exclude any movies with 0's for budget AND revenue from the remaining visualizations.\n",
    "- How many movies are there in each of the certification categories (G/PG/PG-13/R)?\n",
    "- What is the average revenue per certification category?\n",
    "- What is the average budget per certification category?"
   ]
  },
  {
   "cell_type": "markdown",
   "id": "a314752e",
   "metadata": {},
   "source": [
    "## Import libraries for EDA"
   ]
  },
  {
   "cell_type": "code",
   "execution_count": 119,
   "id": "94dc8350",
   "metadata": {},
   "outputs": [],
   "source": [
    "# import libries\n",
    "import seaborn as sns\n",
    "import matplotlib.pyplot as plt"
   ]
  },
  {
   "cell_type": "markdown",
   "id": "d057bb15",
   "metadata": {},
   "source": [
    "## Load the Data"
   ]
  },
  {
   "cell_type": "code",
   "execution_count": 110,
   "id": "61e2c727",
   "metadata": {
    "scrolled": true
   },
   "outputs": [],
   "source": [
    "df_2000 = pd.read_csv('Data3/tmdb_api_results_2000.json')"
   ]
  },
  {
   "cell_type": "code",
   "execution_count": 111,
   "id": "882adf2e",
   "metadata": {},
   "outputs": [
    {
     "data": {
      "text/html": [
       "<div>\n",
       "<style scoped>\n",
       "    .dataframe tbody tr th:only-of-type {\n",
       "        vertical-align: middle;\n",
       "    }\n",
       "\n",
       "    .dataframe tbody tr th {\n",
       "        vertical-align: top;\n",
       "    }\n",
       "\n",
       "    .dataframe thead th {\n",
       "        text-align: right;\n",
       "    }\n",
       "</style>\n",
       "<table border=\"1\" class=\"dataframe\">\n",
       "  <thead>\n",
       "    <tr style=\"text-align: right;\">\n",
       "      <th></th>\n",
       "      <th>[{\"imdb_id\": 0}</th>\n",
       "      <th>{\"adult\": false</th>\n",
       "      <th>\"backdrop_path\": null</th>\n",
       "      <th>\"belongs_to_collection\": null</th>\n",
       "      <th>\"budget\": 0</th>\n",
       "      <th>\"genres\": [{\"id\": 878</th>\n",
       "      <th>\"name\": \"Science Fiction\"}]</th>\n",
       "      <th>\"homepage\": \"\"</th>\n",
       "      <th>\"id\": 110977</th>\n",
       "      <th>\"imdb_id\": \"tt0113092\"</th>\n",
       "      <th>...</th>\n",
       "      <th>\"runtime\": 95.79</th>\n",
       "      <th>\"spoken_languages\": [{\"english_name\": \"Arabic\".22</th>\n",
       "      <th>\"iso_639_1\": \"ar\".22</th>\n",
       "      <th>\"name\": \"\\u0627\\u0644\\u0639\\u0631\\u0628\\u064a\\u0629\"}].9</th>\n",
       "      <th>\"status\": \"Released\".2194</th>\n",
       "      <th>\"tagline\": \"\".1552</th>\n",
       "      <th>\"title\": \"shajie alsiyama\"</th>\n",
       "      <th>\"video\": false.2188</th>\n",
       "      <th>\"vote_average\": 4.5.22</th>\n",
       "      <th>\"vote_count\": 2}]</th>\n",
       "    </tr>\n",
       "  </thead>\n",
       "  <tbody>\n",
       "  </tbody>\n",
       "</table>\n",
       "<p>0 rows × 86142 columns</p>\n",
       "</div>"
      ],
      "text/plain": [
       "Empty DataFrame\n",
       "Columns: [[{\"imdb_id\": 0},  {\"adult\": false,  \"backdrop_path\": null,  \"belongs_to_collection\": null,  \"budget\": 0,  \"genres\": [{\"id\": 878,  \"name\": \"Science Fiction\"}],  \"homepage\": \"\",  \"id\": 110977,  \"imdb_id\": \"tt0113092\",  \"original_language\": \"en\",  \"original_title\": \"For the Cause\",  \"overview\": \"Earth is in a state of constant war and two colonies of humans have been sent to a far away world. The colonists create a new civilization but have inherited the worst traits of their forebears and war breaks out leaving the new cities in ruins. It falls to a bunch of teens to bring peace to the colony - but will they?\",  \"popularity\": 2.624,  \"poster_path\": \"/h9bWO13nWRGZJo4XVPiElXyrRMU.jpg\",  \"production_companies\": [{\"id\": 7405,  \"logo_path\": \"/rfnws0uY8rsNAsrLbx3gEIcYXx3.png\",  \"name\": \"Dimension Films\",  \"origin_country\": \"US\"},  {\"id\": 12816,  \"logo_path\": null,  \"name\": \"Grand Design Entertainment\",  \"origin_country\": \"\"},  {\"id\": 9077,  \"logo_path\": null.1,  \"name\": \"Martien Holdings A.V.V.\",  \"origin_country\": \"\"}.1,  {\"id\": 925,  \"logo_path\": \"/dIb9hjXNOkgxu4kBWdIdK8nM4w.png\",  \"name\": \"Nu Image\",  \"origin_country\": \"US\"}],  \"production_countries\": [{\"iso_3166_1\": \"US\",  \"name\": \"United States of America\"}],  \"release_date\": \"2000-11-15\",  \"revenue\": 0,  \"runtime\": 100,  \"spoken_languages\": [{\"english_name\": \"English\",  \"iso_639_1\": \"en\",  \"name\": \"English\"}],  \"status\": \"Released\",  \"tagline\": \"The ultimate showdown on a forbidden planet.\",  \"title\": \"For the Cause\",  \"video\": false,  \"vote_average\": 5.1,  \"vote_count\": 8,  \"certification\": \"\"},  {\"adult\": false.1,  \"backdrop_path\": \"/wr0hTHwkYIRC82MwNbhOvqrw27N.jpg\",  \"belongs_to_collection\": null.1,  \"budget\": 0.1,  \"genres\": [{\"id\": 18,  \"name\": \"Drama\"},  {\"id\": 10749,  \"name\": \"Romance\"}],  \"homepage\": \"\".1,  \"id\": 579396,  \"imdb_id\": \"tt0116748\",  \"original_language\": \"hi\",  \"original_title\": \"Karobaar\",  \"overview\": \"Wealthy Rajiv Sinha and middle-classed Amar Saxena are two childhood friends,  with similar likes,  and tastes. Their similar habits lead them to being in love with the same woman - Seema,  who loves Amar,  and is willing to marry him no matter what. Rajiv attempts to offer money to Sapna's guardian so that he can marry her,  in vain though. When Rajiv attempts to convince Amar that Sapna is being brought up by a prostitute by the name of Ratnabai,  Amar is adamant,  and marries Sapna,  and takes her home to his brother and his family,  where they are not welcomed,  and asked to leave. Rajiv and Amar stop seeing each other,  and regard each other as bitter enemies. Amar and Seema manage to exist,  with Amar going on to become a successful prosecution attorney. Then they get the news that Rajiv has been charged with killing a young woman named Neelam Mehta. Amar is delighted for he will be given a chance to teach Rajiv a lesson,  and possibly sentence him to death.\",  \"popularity\": 1.034,  \"poster_path\": \"/wFSOXXrJklY2ngjIJCus9c2DfJW.jpg\",  \"production_companies\": [],  \"production_countries\": [],  \"release_date\": \"2000-09-15\",  \"revenue\": 0.1,  \"runtime\": 180,  \"spoken_languages\": [{\"english_name\": \"Hindi\",  \"iso_639_1\": \"hi\",  \"name\": \"\\u0939\\u093f\\u0928\\u094d\\u0926\\u0940\"}],  \"status\": \"Released\".1,  \"tagline\": \"The Business of Love\",  \"title\": \"Karobaar\",  \"video\": false.1,  \"vote_average\": 5.5,  \"vote_count\": 2},  {\"adult\": false.2,  \"backdrop_path\": \"/n4GJFGzsc7NinI1VeGDXIcQjtU2.jpg\",  \"belongs_to_collection\": null.2,  \"budget\": 150000,  \"genres\": [{\"id\": 18.1,  \"name\": \"Drama\"}.1,  {\"id\": 10749.1,  \"name\": \"Romance\"}].1,  \"homepage\": \"\".2,  \"id\": 843,  \"imdb_id\": \"tt0118694\", ...]\n",
       "Index: []\n",
       "\n",
       "[0 rows x 86142 columns]"
      ]
     },
     "execution_count": 111,
     "metadata": {},
     "output_type": "execute_result"
    }
   ],
   "source": [
    "df_2000.head()"
   ]
  },
  {
   "cell_type": "code",
   "execution_count": 112,
   "id": "f7099d57",
   "metadata": {},
   "outputs": [
    {
     "name": "stdout",
     "output_type": "stream",
     "text": [
      "<class 'pandas.core.frame.DataFrame'>\n",
      "Index: 0 entries\n",
      "Columns: 86142 entries, [{\"imdb_id\": 0} to  \"vote_count\": 2}]\n",
      "dtypes: object(86142)\n",
      "memory usage: 0.0+ bytes\n"
     ]
    }
   ],
   "source": [
    "df_2000.info()"
   ]
  },
  {
   "cell_type": "code",
   "execution_count": null,
   "id": "fd19b6ec",
   "metadata": {},
   "outputs": [],
   "source": []
  },
  {
   "cell_type": "code",
   "execution_count": 114,
   "id": "6d591e92",
   "metadata": {},
   "outputs": [],
   "source": [
    "# Read the data\n",
    "df_api_2000 = pd.read_json('Data3/tmdb_api_results_2000.json')\n",
    "df_api_2000.to_csv('Data3/tmdb_api_results_2000.json')\n",
    "\n",
    "#df_2000 = pd.read_csv('Data3/title_basics.csv.gz')\n"
   ]
  },
  {
   "cell_type": "markdown",
   "id": "8ff8bcdf",
   "metadata": {},
   "source": [
    "### Inspect the 2000 Data"
   ]
  },
  {
   "cell_type": "code",
   "execution_count": 115,
   "id": "581ea876",
   "metadata": {},
   "outputs": [
    {
     "data": {
      "text/html": [
       "<div>\n",
       "<style scoped>\n",
       "    .dataframe tbody tr th:only-of-type {\n",
       "        vertical-align: middle;\n",
       "    }\n",
       "\n",
       "    .dataframe tbody tr th {\n",
       "        vertical-align: top;\n",
       "    }\n",
       "\n",
       "    .dataframe thead th {\n",
       "        text-align: right;\n",
       "    }\n",
       "</style>\n",
       "<table border=\"1\" class=\"dataframe\">\n",
       "  <thead>\n",
       "    <tr style=\"text-align: right;\">\n",
       "      <th></th>\n",
       "      <th>imdb_id</th>\n",
       "      <th>adult</th>\n",
       "      <th>backdrop_path</th>\n",
       "      <th>belongs_to_collection</th>\n",
       "      <th>budget</th>\n",
       "      <th>genres</th>\n",
       "      <th>homepage</th>\n",
       "      <th>id</th>\n",
       "      <th>original_language</th>\n",
       "      <th>original_title</th>\n",
       "      <th>...</th>\n",
       "      <th>revenue</th>\n",
       "      <th>runtime</th>\n",
       "      <th>spoken_languages</th>\n",
       "      <th>status</th>\n",
       "      <th>tagline</th>\n",
       "      <th>title</th>\n",
       "      <th>video</th>\n",
       "      <th>vote_average</th>\n",
       "      <th>vote_count</th>\n",
       "      <th>certification</th>\n",
       "    </tr>\n",
       "  </thead>\n",
       "  <tbody>\n",
       "    <tr>\n",
       "      <th>0</th>\n",
       "      <td>0</td>\n",
       "      <td>NaN</td>\n",
       "      <td>NaN</td>\n",
       "      <td>NaN</td>\n",
       "      <td>NaN</td>\n",
       "      <td>NaN</td>\n",
       "      <td>NaN</td>\n",
       "      <td>NaN</td>\n",
       "      <td>NaN</td>\n",
       "      <td>NaN</td>\n",
       "      <td>...</td>\n",
       "      <td>NaN</td>\n",
       "      <td>NaN</td>\n",
       "      <td>NaN</td>\n",
       "      <td>NaN</td>\n",
       "      <td>NaN</td>\n",
       "      <td>NaN</td>\n",
       "      <td>NaN</td>\n",
       "      <td>NaN</td>\n",
       "      <td>NaN</td>\n",
       "      <td>NaN</td>\n",
       "    </tr>\n",
       "    <tr>\n",
       "      <th>1</th>\n",
       "      <td>tt0113092</td>\n",
       "      <td>0.0</td>\n",
       "      <td>None</td>\n",
       "      <td>None</td>\n",
       "      <td>0.0</td>\n",
       "      <td>[{'id': 878, 'name': 'Science Fiction'}]</td>\n",
       "      <td></td>\n",
       "      <td>110977.0</td>\n",
       "      <td>en</td>\n",
       "      <td>For the Cause</td>\n",
       "      <td>...</td>\n",
       "      <td>0.0</td>\n",
       "      <td>100.0</td>\n",
       "      <td>[{'english_name': 'English', 'iso_639_1': 'en'...</td>\n",
       "      <td>Released</td>\n",
       "      <td>The ultimate showdown on a forbidden planet.</td>\n",
       "      <td>For the Cause</td>\n",
       "      <td>0.0</td>\n",
       "      <td>5.1</td>\n",
       "      <td>8.0</td>\n",
       "      <td></td>\n",
       "    </tr>\n",
       "    <tr>\n",
       "      <th>2</th>\n",
       "      <td>tt0116748</td>\n",
       "      <td>0.0</td>\n",
       "      <td>/wr0hTHwkYIRC82MwNbhOvqrw27N.jpg</td>\n",
       "      <td>None</td>\n",
       "      <td>0.0</td>\n",
       "      <td>[{'id': 18, 'name': 'Drama'}, {'id': 10749, 'n...</td>\n",
       "      <td></td>\n",
       "      <td>579396.0</td>\n",
       "      <td>hi</td>\n",
       "      <td>Karobaar</td>\n",
       "      <td>...</td>\n",
       "      <td>0.0</td>\n",
       "      <td>180.0</td>\n",
       "      <td>[{'english_name': 'Hindi', 'iso_639_1': 'hi', ...</td>\n",
       "      <td>Released</td>\n",
       "      <td>The Business of Love</td>\n",
       "      <td>Karobaar</td>\n",
       "      <td>0.0</td>\n",
       "      <td>5.5</td>\n",
       "      <td>2.0</td>\n",
       "      <td>NaN</td>\n",
       "    </tr>\n",
       "    <tr>\n",
       "      <th>3</th>\n",
       "      <td>tt0118694</td>\n",
       "      <td>0.0</td>\n",
       "      <td>/n4GJFGzsc7NinI1VeGDXIcQjtU2.jpg</td>\n",
       "      <td>None</td>\n",
       "      <td>150000.0</td>\n",
       "      <td>[{'id': 18, 'name': 'Drama'}, {'id': 10749, 'n...</td>\n",
       "      <td></td>\n",
       "      <td>843.0</td>\n",
       "      <td>cn</td>\n",
       "      <td>花樣年華</td>\n",
       "      <td>...</td>\n",
       "      <td>12854953.0</td>\n",
       "      <td>99.0</td>\n",
       "      <td>[{'english_name': 'Cantonese', 'iso_639_1': 'c...</td>\n",
       "      <td>Released</td>\n",
       "      <td>Feel the heat, keep the feeling burning, let t...</td>\n",
       "      <td>In the Mood for Love</td>\n",
       "      <td>0.0</td>\n",
       "      <td>8.1</td>\n",
       "      <td>2162.0</td>\n",
       "      <td>PG</td>\n",
       "    </tr>\n",
       "    <tr>\n",
       "      <th>4</th>\n",
       "      <td>tt0118852</td>\n",
       "      <td>0.0</td>\n",
       "      <td>/vceiGZ3uavAEHlTA7v0GjQsGVKe.jpg</td>\n",
       "      <td>None</td>\n",
       "      <td>0.0</td>\n",
       "      <td>[{'id': 18, 'name': 'Drama'}]</td>\n",
       "      <td></td>\n",
       "      <td>49511.0</td>\n",
       "      <td>en</td>\n",
       "      <td>Chinese Coffee</td>\n",
       "      <td>...</td>\n",
       "      <td>0.0</td>\n",
       "      <td>99.0</td>\n",
       "      <td>[{'english_name': 'English', 'iso_639_1': 'en'...</td>\n",
       "      <td>Released</td>\n",
       "      <td>There's a fine line between friendship and bet...</td>\n",
       "      <td>Chinese Coffee</td>\n",
       "      <td>0.0</td>\n",
       "      <td>6.8</td>\n",
       "      <td>49.0</td>\n",
       "      <td>R</td>\n",
       "    </tr>\n",
       "  </tbody>\n",
       "</table>\n",
       "<p>5 rows × 26 columns</p>\n",
       "</div>"
      ],
      "text/plain": [
       "     imdb_id  adult                     backdrop_path belongs_to_collection  \\\n",
       "0          0    NaN                               NaN                   NaN   \n",
       "1  tt0113092    0.0                              None                  None   \n",
       "2  tt0116748    0.0  /wr0hTHwkYIRC82MwNbhOvqrw27N.jpg                  None   \n",
       "3  tt0118694    0.0  /n4GJFGzsc7NinI1VeGDXIcQjtU2.jpg                  None   \n",
       "4  tt0118852    0.0  /vceiGZ3uavAEHlTA7v0GjQsGVKe.jpg                  None   \n",
       "\n",
       "     budget                                             genres homepage  \\\n",
       "0       NaN                                                NaN      NaN   \n",
       "1       0.0           [{'id': 878, 'name': 'Science Fiction'}]            \n",
       "2       0.0  [{'id': 18, 'name': 'Drama'}, {'id': 10749, 'n...            \n",
       "3  150000.0  [{'id': 18, 'name': 'Drama'}, {'id': 10749, 'n...            \n",
       "4       0.0                      [{'id': 18, 'name': 'Drama'}]            \n",
       "\n",
       "         id original_language  original_title  ...     revenue  runtime  \\\n",
       "0       NaN               NaN             NaN  ...         NaN      NaN   \n",
       "1  110977.0                en   For the Cause  ...         0.0    100.0   \n",
       "2  579396.0                hi        Karobaar  ...         0.0    180.0   \n",
       "3     843.0                cn            花樣年華  ...  12854953.0     99.0   \n",
       "4   49511.0                en  Chinese Coffee  ...         0.0     99.0   \n",
       "\n",
       "                                    spoken_languages    status  \\\n",
       "0                                                NaN       NaN   \n",
       "1  [{'english_name': 'English', 'iso_639_1': 'en'...  Released   \n",
       "2  [{'english_name': 'Hindi', 'iso_639_1': 'hi', ...  Released   \n",
       "3  [{'english_name': 'Cantonese', 'iso_639_1': 'c...  Released   \n",
       "4  [{'english_name': 'English', 'iso_639_1': 'en'...  Released   \n",
       "\n",
       "                                             tagline                 title  \\\n",
       "0                                                NaN                   NaN   \n",
       "1       The ultimate showdown on a forbidden planet.         For the Cause   \n",
       "2                               The Business of Love              Karobaar   \n",
       "3  Feel the heat, keep the feeling burning, let t...  In the Mood for Love   \n",
       "4  There's a fine line between friendship and bet...        Chinese Coffee   \n",
       "\n",
       "   video  vote_average vote_count certification  \n",
       "0    NaN           NaN        NaN           NaN  \n",
       "1    0.0           5.1        8.0                \n",
       "2    0.0           5.5        2.0           NaN  \n",
       "3    0.0           8.1     2162.0            PG  \n",
       "4    0.0           6.8       49.0             R  \n",
       "\n",
       "[5 rows x 26 columns]"
      ]
     },
     "execution_count": 115,
     "metadata": {},
     "output_type": "execute_result"
    }
   ],
   "source": [
    "df_api_2000.head()"
   ]
  },
  {
   "cell_type": "code",
   "execution_count": 121,
   "id": "97ea0bb1",
   "metadata": {},
   "outputs": [
    {
     "name": "stdout",
     "output_type": "stream",
     "text": [
      "<class 'pandas.core.frame.DataFrame'>\n",
      "RangeIndex: 2196 entries, 0 to 2195\n",
      "Data columns (total 26 columns):\n",
      " #   Column                 Non-Null Count  Dtype  \n",
      "---  ------                 --------------  -----  \n",
      " 0   imdb_id                2196 non-null   object \n",
      " 1   adult                  2195 non-null   float64\n",
      " 2   backdrop_path          1002 non-null   object \n",
      " 3   belongs_to_collection  130 non-null    object \n",
      " 4   budget                 2195 non-null   float64\n",
      " 5   genres                 2195 non-null   object \n",
      " 6   homepage               2195 non-null   object \n",
      " 7   id                     2195 non-null   float64\n",
      " 8   original_language      2195 non-null   object \n",
      " 9   original_title         2195 non-null   object \n",
      " 10  overview               2195 non-null   object \n",
      " 11  popularity             2195 non-null   float64\n",
      " 12  poster_path            1888 non-null   object \n",
      " 13  production_companies   2195 non-null   object \n",
      " 14  production_countries   2195 non-null   object \n",
      " 15  release_date           2195 non-null   object \n",
      " 16  revenue                2195 non-null   float64\n",
      " 17  runtime                2195 non-null   float64\n",
      " 18  spoken_languages       2195 non-null   object \n",
      " 19  status                 2195 non-null   object \n",
      " 20  tagline                2195 non-null   object \n",
      " 21  title                  2195 non-null   object \n",
      " 22  video                  2195 non-null   float64\n",
      " 23  vote_average           2195 non-null   float64\n",
      " 24  vote_count             2195 non-null   float64\n",
      " 25  certification          880 non-null    object \n",
      "dtypes: float64(9), object(17)\n",
      "memory usage: 446.2+ KB\n"
     ]
    }
   ],
   "source": [
    "df_api_2000.info()"
   ]
  },
  {
   "cell_type": "code",
   "execution_count": 120,
   "id": "9067c3e6",
   "metadata": {
    "scrolled": true
   },
   "outputs": [
    {
     "data": {
      "text/plain": [
       "count    2.195000e+03\n",
       "mean     2.826585e+06\n",
       "std      1.257061e+07\n",
       "min      0.000000e+00\n",
       "25%      0.000000e+00\n",
       "50%      0.000000e+00\n",
       "75%      0.000000e+00\n",
       "max      1.275000e+08\n",
       "Name: budget, dtype: float64"
      ]
     },
     "execution_count": 120,
     "metadata": {},
     "output_type": "execute_result"
    }
   ],
   "source": [
    "df_api_2000['budget'].describe()"
   ]
  },
  {
   "cell_type": "markdown",
   "id": "448caf01",
   "metadata": {},
   "source": [
    "### Inspect the 2001 Data"
   ]
  },
  {
   "cell_type": "code",
   "execution_count": 116,
   "id": "3a699fe0",
   "metadata": {},
   "outputs": [],
   "source": [
    "# Read the data\n",
    "df_api_2001 = pd.read_json('Data3/tmdb_api_results_2001.json')\n",
    "df_api_2001.to_csv('Data3/tmdb_api_results_2001.json')"
   ]
  },
  {
   "cell_type": "code",
   "execution_count": 117,
   "id": "67383548",
   "metadata": {},
   "outputs": [
    {
     "data": {
      "text/html": [
       "<div>\n",
       "<style scoped>\n",
       "    .dataframe tbody tr th:only-of-type {\n",
       "        vertical-align: middle;\n",
       "    }\n",
       "\n",
       "    .dataframe tbody tr th {\n",
       "        vertical-align: top;\n",
       "    }\n",
       "\n",
       "    .dataframe thead th {\n",
       "        text-align: right;\n",
       "    }\n",
       "</style>\n",
       "<table border=\"1\" class=\"dataframe\">\n",
       "  <thead>\n",
       "    <tr style=\"text-align: right;\">\n",
       "      <th></th>\n",
       "      <th>imdb_id</th>\n",
       "      <th>adult</th>\n",
       "      <th>backdrop_path</th>\n",
       "      <th>belongs_to_collection</th>\n",
       "      <th>budget</th>\n",
       "      <th>genres</th>\n",
       "      <th>homepage</th>\n",
       "      <th>id</th>\n",
       "      <th>original_language</th>\n",
       "      <th>original_title</th>\n",
       "      <th>...</th>\n",
       "      <th>revenue</th>\n",
       "      <th>runtime</th>\n",
       "      <th>spoken_languages</th>\n",
       "      <th>status</th>\n",
       "      <th>tagline</th>\n",
       "      <th>title</th>\n",
       "      <th>video</th>\n",
       "      <th>vote_average</th>\n",
       "      <th>vote_count</th>\n",
       "      <th>certification</th>\n",
       "    </tr>\n",
       "  </thead>\n",
       "  <tbody>\n",
       "    <tr>\n",
       "      <th>0</th>\n",
       "      <td>0</td>\n",
       "      <td>NaN</td>\n",
       "      <td>NaN</td>\n",
       "      <td>NaN</td>\n",
       "      <td>NaN</td>\n",
       "      <td>NaN</td>\n",
       "      <td>NaN</td>\n",
       "      <td>NaN</td>\n",
       "      <td>NaN</td>\n",
       "      <td>NaN</td>\n",
       "      <td>...</td>\n",
       "      <td>NaN</td>\n",
       "      <td>NaN</td>\n",
       "      <td>NaN</td>\n",
       "      <td>NaN</td>\n",
       "      <td>NaN</td>\n",
       "      <td>NaN</td>\n",
       "      <td>NaN</td>\n",
       "      <td>NaN</td>\n",
       "      <td>NaN</td>\n",
       "      <td>NaN</td>\n",
       "    </tr>\n",
       "    <tr>\n",
       "      <th>1</th>\n",
       "      <td>tt0035423</td>\n",
       "      <td>0.0</td>\n",
       "      <td>/hfeiSfWYujh6MKhtGTXyK3DD4nN.jpg</td>\n",
       "      <td>None</td>\n",
       "      <td>48000000.0</td>\n",
       "      <td>[{'id': 10749, 'name': 'Romance'}, {'id': 14, ...</td>\n",
       "      <td></td>\n",
       "      <td>11232.0</td>\n",
       "      <td>en</td>\n",
       "      <td>Kate &amp; Leopold</td>\n",
       "      <td>...</td>\n",
       "      <td>76019048.0</td>\n",
       "      <td>118.0</td>\n",
       "      <td>[{'english_name': 'English', 'iso_639_1': 'en'...</td>\n",
       "      <td>Released</td>\n",
       "      <td>If they lived in the same century, they'd be p...</td>\n",
       "      <td>Kate &amp; Leopold</td>\n",
       "      <td>0.0</td>\n",
       "      <td>6.328</td>\n",
       "      <td>1180.0</td>\n",
       "      <td>PG-13</td>\n",
       "    </tr>\n",
       "    <tr>\n",
       "      <th>2</th>\n",
       "      <td>tt0079644</td>\n",
       "      <td>0.0</td>\n",
       "      <td>/79axmuH1UGkB7m72jjB9rPff9om.jpg</td>\n",
       "      <td>None</td>\n",
       "      <td>0.0</td>\n",
       "      <td>[{'id': 10752, 'name': 'War'}]</td>\n",
       "      <td></td>\n",
       "      <td>285529.0</td>\n",
       "      <td>id</td>\n",
       "      <td>November 1828</td>\n",
       "      <td>...</td>\n",
       "      <td>0.0</td>\n",
       "      <td>140.0</td>\n",
       "      <td>[{'english_name': 'Indonesian', 'iso_639_1': '...</td>\n",
       "      <td>Released</td>\n",
       "      <td></td>\n",
       "      <td>November 1828</td>\n",
       "      <td>0.0</td>\n",
       "      <td>0.000</td>\n",
       "      <td>0.0</td>\n",
       "      <td>NaN</td>\n",
       "    </tr>\n",
       "    <tr>\n",
       "      <th>3</th>\n",
       "      <td>tt0114447</td>\n",
       "      <td>0.0</td>\n",
       "      <td>None</td>\n",
       "      <td>None</td>\n",
       "      <td>0.0</td>\n",
       "      <td>[{'id': 53, 'name': 'Thriller'}, {'id': 28, 'n...</td>\n",
       "      <td></td>\n",
       "      <td>151007.0</td>\n",
       "      <td>en</td>\n",
       "      <td>The Silent Force</td>\n",
       "      <td>...</td>\n",
       "      <td>0.0</td>\n",
       "      <td>90.0</td>\n",
       "      <td>[{'english_name': 'English', 'iso_639_1': 'en'...</td>\n",
       "      <td>Released</td>\n",
       "      <td>They left him for dead... They should have fin...</td>\n",
       "      <td>The Silent Force</td>\n",
       "      <td>0.0</td>\n",
       "      <td>5.000</td>\n",
       "      <td>3.0</td>\n",
       "      <td>NaN</td>\n",
       "    </tr>\n",
       "    <tr>\n",
       "      <th>4</th>\n",
       "      <td>tt0114722</td>\n",
       "      <td>0.0</td>\n",
       "      <td>None</td>\n",
       "      <td>None</td>\n",
       "      <td>0.0</td>\n",
       "      <td>[{'id': 18, 'name': 'Drama'}, {'id': 53, 'name...</td>\n",
       "      <td></td>\n",
       "      <td>276251.0</td>\n",
       "      <td>es</td>\n",
       "      <td>3 Noches</td>\n",
       "      <td>...</td>\n",
       "      <td>0.0</td>\n",
       "      <td>105.0</td>\n",
       "      <td>[{'english_name': 'Spanish', 'iso_639_1': 'es'...</td>\n",
       "      <td>Released</td>\n",
       "      <td></td>\n",
       "      <td>3 Nights</td>\n",
       "      <td>0.0</td>\n",
       "      <td>0.000</td>\n",
       "      <td>0.0</td>\n",
       "      <td></td>\n",
       "    </tr>\n",
       "  </tbody>\n",
       "</table>\n",
       "<p>5 rows × 26 columns</p>\n",
       "</div>"
      ],
      "text/plain": [
       "     imdb_id  adult                     backdrop_path belongs_to_collection  \\\n",
       "0          0    NaN                               NaN                   NaN   \n",
       "1  tt0035423    0.0  /hfeiSfWYujh6MKhtGTXyK3DD4nN.jpg                  None   \n",
       "2  tt0079644    0.0  /79axmuH1UGkB7m72jjB9rPff9om.jpg                  None   \n",
       "3  tt0114447    0.0                              None                  None   \n",
       "4  tt0114722    0.0                              None                  None   \n",
       "\n",
       "       budget                                             genres homepage  \\\n",
       "0         NaN                                                NaN      NaN   \n",
       "1  48000000.0  [{'id': 10749, 'name': 'Romance'}, {'id': 14, ...            \n",
       "2         0.0                     [{'id': 10752, 'name': 'War'}]            \n",
       "3         0.0  [{'id': 53, 'name': 'Thriller'}, {'id': 28, 'n...            \n",
       "4         0.0  [{'id': 18, 'name': 'Drama'}, {'id': 53, 'name...            \n",
       "\n",
       "         id original_language    original_title  ...     revenue  runtime  \\\n",
       "0       NaN               NaN               NaN  ...         NaN      NaN   \n",
       "1   11232.0                en    Kate & Leopold  ...  76019048.0    118.0   \n",
       "2  285529.0                id     November 1828  ...         0.0    140.0   \n",
       "3  151007.0                en  The Silent Force  ...         0.0     90.0   \n",
       "4  276251.0                es          3 Noches  ...         0.0    105.0   \n",
       "\n",
       "                                    spoken_languages    status  \\\n",
       "0                                                NaN       NaN   \n",
       "1  [{'english_name': 'English', 'iso_639_1': 'en'...  Released   \n",
       "2  [{'english_name': 'Indonesian', 'iso_639_1': '...  Released   \n",
       "3  [{'english_name': 'English', 'iso_639_1': 'en'...  Released   \n",
       "4  [{'english_name': 'Spanish', 'iso_639_1': 'es'...  Released   \n",
       "\n",
       "                                             tagline             title  video  \\\n",
       "0                                                NaN               NaN    NaN   \n",
       "1  If they lived in the same century, they'd be p...    Kate & Leopold    0.0   \n",
       "2                                                        November 1828    0.0   \n",
       "3  They left him for dead... They should have fin...  The Silent Force    0.0   \n",
       "4                                                             3 Nights    0.0   \n",
       "\n",
       "   vote_average vote_count certification  \n",
       "0           NaN        NaN           NaN  \n",
       "1         6.328     1180.0         PG-13  \n",
       "2         0.000        0.0           NaN  \n",
       "3         5.000        3.0           NaN  \n",
       "4         0.000        0.0                \n",
       "\n",
       "[5 rows x 26 columns]"
      ]
     },
     "execution_count": 117,
     "metadata": {},
     "output_type": "execute_result"
    }
   ],
   "source": [
    "df_api_2001.head()"
   ]
  },
  {
   "cell_type": "code",
   "execution_count": 118,
   "id": "8883ce64",
   "metadata": {
    "scrolled": true
   },
   "outputs": [
    {
     "name": "stdout",
     "output_type": "stream",
     "text": [
      "<class 'pandas.core.frame.DataFrame'>\n",
      "RangeIndex: 2287 entries, 0 to 2286\n",
      "Data columns (total 26 columns):\n",
      " #   Column                 Non-Null Count  Dtype  \n",
      "---  ------                 --------------  -----  \n",
      " 0   imdb_id                2287 non-null   object \n",
      " 1   adult                  2286 non-null   float64\n",
      " 2   backdrop_path          1024 non-null   object \n",
      " 3   belongs_to_collection  121 non-null    object \n",
      " 4   budget                 2286 non-null   float64\n",
      " 5   genres                 2286 non-null   object \n",
      " 6   homepage               2286 non-null   object \n",
      " 7   id                     2286 non-null   float64\n",
      " 8   original_language      2286 non-null   object \n",
      " 9   original_title         2286 non-null   object \n",
      " 10  overview               2286 non-null   object \n",
      " 11  popularity             2286 non-null   float64\n",
      " 12  poster_path            1962 non-null   object \n",
      " 13  production_companies   2286 non-null   object \n",
      " 14  production_countries   2286 non-null   object \n",
      " 15  release_date           2286 non-null   object \n",
      " 16  revenue                2286 non-null   float64\n",
      " 17  runtime                2286 non-null   float64\n",
      " 18  spoken_languages       2286 non-null   object \n",
      " 19  status                 2286 non-null   object \n",
      " 20  tagline                2286 non-null   object \n",
      " 21  title                  2286 non-null   object \n",
      " 22  video                  2286 non-null   float64\n",
      " 23  vote_average           2286 non-null   float64\n",
      " 24  vote_count             2286 non-null   float64\n",
      " 25  certification          974 non-null    object \n",
      "dtypes: float64(9), object(17)\n",
      "memory usage: 464.7+ KB\n"
     ]
    }
   ],
   "source": [
    "df_api_2001.info()"
   ]
  },
  {
   "cell_type": "code",
   "execution_count": 174,
   "id": "923968b6",
   "metadata": {},
   "outputs": [],
   "source": [
    "#combine the two dataframes\n",
    "combined_df = pd.concat([df_api_2000, df_api_2001], ignore_index=True, sort=False)"
   ]
  },
  {
   "cell_type": "code",
   "execution_count": 175,
   "id": "3f160318",
   "metadata": {},
   "outputs": [],
   "source": [
    "# create a total money column for revenue and budget over 0"
   ]
  },
  {
   "cell_type": "raw",
   "id": "0dbf9a81",
   "metadata": {},
   "source": [
    "# create a new budget column\n",
    "combined_df['budget_0']= combined_df['budget']> 0"
   ]
  },
  {
   "cell_type": "raw",
   "id": "578fcb82",
   "metadata": {},
   "source": [
    "#create a new revenue column\n",
    "combined_df['revenue_0'] = combined_df['revenue'] > 0"
   ]
  },
  {
   "cell_type": "code",
   "execution_count": 176,
   "id": "b9d5c245",
   "metadata": {
    "scrolled": false
   },
   "outputs": [
    {
     "name": "stdout",
     "output_type": "stream",
     "text": [
      "<class 'pandas.core.frame.DataFrame'>\n",
      "RangeIndex: 4483 entries, 0 to 4482\n",
      "Data columns (total 26 columns):\n",
      " #   Column                 Non-Null Count  Dtype  \n",
      "---  ------                 --------------  -----  \n",
      " 0   imdb_id                4483 non-null   object \n",
      " 1   adult                  4481 non-null   float64\n",
      " 2   backdrop_path          2026 non-null   object \n",
      " 3   belongs_to_collection  251 non-null    object \n",
      " 4   budget                 4481 non-null   float64\n",
      " 5   genres                 4481 non-null   object \n",
      " 6   homepage               4481 non-null   object \n",
      " 7   id                     4481 non-null   float64\n",
      " 8   original_language      4481 non-null   object \n",
      " 9   original_title         4481 non-null   object \n",
      " 10  overview               4481 non-null   object \n",
      " 11  popularity             4481 non-null   float64\n",
      " 12  poster_path            3850 non-null   object \n",
      " 13  production_companies   4481 non-null   object \n",
      " 14  production_countries   4481 non-null   object \n",
      " 15  release_date           4481 non-null   object \n",
      " 16  revenue                4481 non-null   float64\n",
      " 17  runtime                4481 non-null   float64\n",
      " 18  spoken_languages       4481 non-null   object \n",
      " 19  status                 4481 non-null   object \n",
      " 20  tagline                4481 non-null   object \n",
      " 21  title                  4481 non-null   object \n",
      " 22  video                  4481 non-null   float64\n",
      " 23  vote_average           4481 non-null   float64\n",
      " 24  vote_count             4481 non-null   float64\n",
      " 25  certification          1854 non-null   object \n",
      "dtypes: float64(9), object(17)\n",
      "memory usage: 910.7+ KB\n"
     ]
    }
   ],
   "source": [
    "combined_df.info()"
   ]
  },
  {
   "cell_type": "markdown",
   "id": "d4665527",
   "metadata": {},
   "source": [
    "### Visual #1"
   ]
  },
  {
   "cell_type": "markdown",
   "id": "4330f513",
   "metadata": {},
   "source": [
    "- - How many movies had at least some valid financial information (values > 0 for budget OR revenue)? Please exclude any movies with 0's for budget AND revenue from the remaining visualizations."
   ]
  },
  {
   "cell_type": "code",
   "execution_count": 190,
   "id": "e1b017ac",
   "metadata": {},
   "outputs": [
    {
     "data": {
      "image/png": "[encoded data removed]",
      "text/plain": [
       "<Figure size 640x480 with 1 Axes>"
      ]
     },
     "metadata": {},
     "output_type": "display_data"
    }
   ],
   "source": [
    "combined_monies = (combined_df[\"budget\"]> 0) | (combined_df['revenue'] > 0)\n",
    "\n",
    "plot=combined_df[combined_monies]\n",
    "\n",
    "ax= sns.countplot(x=combined_monies)\n",
    "ax.set_title('Financial Earnings', fontfamily='serif',fontsize = 20, fontweight = 'bold');\n",
    "ax.set_xlabel('xxx', fontfamily= 'serif', fontsize = 15, fontweight = 'bold')\n",
    "plt.xlabel('Revenue and Budget')\n",
    "ax.set_xticklabels(['Made No Money', 'Made Money'])\n",
    "plt.ylabel('Count')\n",
    "ax.spines['right'].set_visible(False)\n",
    "ax.spines['top'].set_visible(False)\n"
   ]
  },
  {
   "cell_type": "markdown",
   "id": "fe7d6b6f",
   "metadata": {},
   "source": [
    "### Visual #2"
   ]
  },
  {
   "cell_type": "markdown",
   "id": "6caae506",
   "metadata": {},
   "source": [
    "-  How many movies are there in each of the certification categories (G/PG/PG-13/R)?"
   ]
  },
  {
   "cell_type": "code",
   "execution_count": 192,
   "id": "dedf934f",
   "metadata": {},
   "outputs": [
    {
     "data": {
      "text/plain": [
       "           1029\n",
       "R           468\n",
       "PG-13       183\n",
       "NR           76\n",
       "PG           63\n",
       "G            26\n",
       "NC-17         7\n",
       "Unrated       1\n",
       "-             1\n",
       "Name: certification, dtype: int64"
      ]
     },
     "execution_count": 192,
     "metadata": {},
     "output_type": "execute_result"
    }
   ],
   "source": [
    "#check the certification counts\n",
    "combined_df['certification'].value_counts()"
   ]
  },
  {
   "cell_type": "code",
   "execution_count": 209,
   "id": "c610356d",
   "metadata": {},
   "outputs": [
    {
     "data": {
      "image/png": "[encoded data removed]",
      "text/plain": [
       "<Figure size 640x480 with 1 Axes>"
      ]
     },
     "metadata": {},
     "output_type": "display_data"
    }
   ],
   "source": [
    "#create the countplot\n",
    "ax= sns.countplot(data=combined_df, y='certification')\n",
    "ax.set_title('Motion Picture Rating', fontfamily='serif',fontsize = 20, fontweight = 'bold');\n",
    "\n",
    "plt.xlabel('Count')\n",
    "plt.ylabel('Rating', fontfamily='Arial Rounded MT Bold', fontsize = 15, rotation = 0)\n",
    "ax.spines['right'].set_visible(False)\n",
    "ax.spines['top'].set_visible(False)\n",
    "ax.set_yticklabels(labels = ['No rating','PG', 'R', 'G', 'NR', 'PG-13','NC-17', 'Unrated', 'Unknown'], \n",
    "                   rotation=45, \n",
    "                   fontstyle='italic', \n",
    "                   color='black');"
   ]
  },
  {
   "cell_type": "markdown",
   "id": "b9456c53",
   "metadata": {},
   "source": [
    "### Visual #3"
   ]
  },
  {
   "cell_type": "markdown",
   "id": "a6205bde",
   "metadata": {},
   "source": [
    "- What is the average revenue per certification category?\n"
   ]
  },
  {
   "cell_type": "raw",
   "id": "560b1c54",
   "metadata": {},
   "source": [
    "revenue_average = (combined_df[\"budget\"]> 0) | (combined_df['revenue'] > 0)\n",
    "\n",
    "plot=combined_df[combined_monies]\n",
    "\n",
    "sns.countplot(x=combined_monies)"
   ]
  },
  {
   "cell_type": "code",
   "execution_count": 162,
   "id": "1d8119fe",
   "metadata": {},
   "outputs": [
    {
     "data": {
      "text/plain": [
       "certification\n",
       "           1.515975e+06\n",
       "-          0.000000e+00\n",
       "G          6.663261e+07\n",
       "NC-17      1.668286e+03\n",
       "NR         2.144835e+06\n",
       "PG         6.077067e+07\n",
       "PG-13      6.807139e+07\n",
       "R          1.610411e+07\n",
       "Unrated    0.000000e+00\n",
       "Name: revenue, dtype: float64"
      ]
     },
     "execution_count": 162,
     "metadata": {},
     "output_type": "execute_result"
    }
   ],
   "source": [
    "#how do I use the combined monies filter to get the average by category\n",
    "revenue_average = combined_df.groupby('certification')['revenue'].mean()\n",
    "revenue_average\n",
    "#sns.barplot(x=combined_df, )"
   ]
  },
  {
   "cell_type": "code",
   "execution_count": 243,
   "id": "9bbcca8c",
   "metadata": {},
   "outputs": [
    {
     "data": {
      "text/plain": [
       "<AxesSubplot: ylabel='count'>"
      ]
     },
     "execution_count": 243,
     "metadata": {},
     "output_type": "execute_result"
    },
    {
     "data": {
      "image/png": "[encoded data removed]",
      "text/plain": [
       "<Figure size 640x480 with 1 Axes>"
      ]
     },
     "metadata": {},
     "output_type": "display_data"
    }
   ],
   "source": [
    "#total = combined_df['budget']\n",
    "sns.countplot(x=revenue_average)"
   ]
  },
  {
   "cell_type": "code",
   "execution_count": 250,
   "id": "01c05088",
   "metadata": {},
   "outputs": [
    {
     "data": {
      "image/png": "[encoded data removed]",
      "text/plain": [
       "<Figure size 640x480 with 1 Axes>"
      ]
     },
     "metadata": {},
     "output_type": "display_data"
    }
   ],
   "source": [
    "total= combined_df['budget'] + combined_df['revenue']\n",
    "sns.barplot(data=plot, x='certification', y= 'revenue', errorbar=None);"
   ]
  },
  {
   "cell_type": "code",
   "execution_count": 245,
   "id": "29594c2b",
   "metadata": {},
   "outputs": [
    {
     "ename": "TypeError",
     "evalue": "unhashable type: 'Series'",
     "output_type": "error",
     "traceback": [
      "\u001b[1;31m---------------------------------------------------------------------------\u001b[0m",
      "\u001b[1;31mTypeError\u001b[0m                                 Traceback (most recent call last)",
      "Cell \u001b[1;32mIn [245], line 1\u001b[0m\n\u001b[1;32m----> 1\u001b[0m sns\u001b[38;5;241m.\u001b[39mbarplot(data\u001b[38;5;241m=\u001b[39mcombined_df, x\u001b[38;5;241m=\u001b[39m\u001b[38;5;124m'\u001b[39m\u001b[38;5;124mcertification\u001b[39m\u001b[38;5;124m'\u001b[39m, y\u001b[38;5;241m=\u001b[39m {revenue_average}, errorbar\u001b[38;5;241m=\u001b[39m\u001b[38;5;28;01mNone\u001b[39;00m)\n",
      "\u001b[1;31mTypeError\u001b[0m: unhashable type: 'Series'"
     ]
    }
   ],
   "source": [
    "sns.barplot(data=combined_df, x='certification', y= {revenue_average}, errorbar=None);"
   ]
  },
  {
   "cell_type": "code",
   "execution_count": null,
   "id": "f62ea21b",
   "metadata": {},
   "outputs": [],
   "source": []
  },
  {
   "cell_type": "code",
   "execution_count": null,
   "id": "2c5556fc",
   "metadata": {},
   "outputs": [],
   "source": [
    "combined_df['combined_monies'] = (combined_df[\"budget\"]> 0) + (combined_df['revenue'] > 0)\n",
    "\n",
    "#means2 = combined_df.groupby('certification')[(combined_df[\"budget\"]> 0) | (combined_df['revenue'] > 0)].mean().sort_values(ascending=False)\n",
    "#means2\n",
    "     "
   ]
  },
  {
   "cell_type": "markdown",
   "id": "af505a65",
   "metadata": {},
   "source": []
  },
  {
   "cell_type": "code",
   "execution_count": 246,
   "id": "6d8f9b12",
   "metadata": {},
   "outputs": [
    {
     "data": {
      "text/html": [
       "<div>\n",
       "<style scoped>\n",
       "    .dataframe tbody tr th:only-of-type {\n",
       "        vertical-align: middle;\n",
       "    }\n",
       "\n",
       "    .dataframe tbody tr th {\n",
       "        vertical-align: top;\n",
       "    }\n",
       "\n",
       "    .dataframe thead th {\n",
       "        text-align: right;\n",
       "    }\n",
       "</style>\n",
       "<table border=\"1\" class=\"dataframe\">\n",
       "  <thead>\n",
       "    <tr style=\"text-align: right;\">\n",
       "      <th></th>\n",
       "      <th>imdb_id</th>\n",
       "      <th>adult</th>\n",
       "      <th>backdrop_path</th>\n",
       "      <th>belongs_to_collection</th>\n",
       "      <th>budget</th>\n",
       "      <th>genres</th>\n",
       "      <th>homepage</th>\n",
       "      <th>id</th>\n",
       "      <th>original_language</th>\n",
       "      <th>original_title</th>\n",
       "      <th>...</th>\n",
       "      <th>runtime</th>\n",
       "      <th>spoken_languages</th>\n",
       "      <th>status</th>\n",
       "      <th>tagline</th>\n",
       "      <th>title</th>\n",
       "      <th>video</th>\n",
       "      <th>vote_average</th>\n",
       "      <th>vote_count</th>\n",
       "      <th>certification</th>\n",
       "      <th>combined_monies</th>\n",
       "    </tr>\n",
       "  </thead>\n",
       "  <tbody>\n",
       "    <tr>\n",
       "      <th>0</th>\n",
       "      <td>0</td>\n",
       "      <td>NaN</td>\n",
       "      <td>NaN</td>\n",
       "      <td>NaN</td>\n",
       "      <td>NaN</td>\n",
       "      <td>NaN</td>\n",
       "      <td>NaN</td>\n",
       "      <td>NaN</td>\n",
       "      <td>NaN</td>\n",
       "      <td>NaN</td>\n",
       "      <td>...</td>\n",
       "      <td>NaN</td>\n",
       "      <td>NaN</td>\n",
       "      <td>NaN</td>\n",
       "      <td>NaN</td>\n",
       "      <td>NaN</td>\n",
       "      <td>NaN</td>\n",
       "      <td>NaN</td>\n",
       "      <td>NaN</td>\n",
       "      <td>NaN</td>\n",
       "      <td>False</td>\n",
       "    </tr>\n",
       "    <tr>\n",
       "      <th>1</th>\n",
       "      <td>tt0113092</td>\n",
       "      <td>0.0</td>\n",
       "      <td>None</td>\n",
       "      <td>None</td>\n",
       "      <td>0.0</td>\n",
       "      <td>[{'id': 878, 'name': 'Science Fiction'}]</td>\n",
       "      <td></td>\n",
       "      <td>110977.0</td>\n",
       "      <td>en</td>\n",
       "      <td>For the Cause</td>\n",
       "      <td>...</td>\n",
       "      <td>100.0</td>\n",
       "      <td>[{'english_name': 'English', 'iso_639_1': 'en'...</td>\n",
       "      <td>Released</td>\n",
       "      <td>The ultimate showdown on a forbidden planet.</td>\n",
       "      <td>For the Cause</td>\n",
       "      <td>0.0</td>\n",
       "      <td>5.1</td>\n",
       "      <td>8.0</td>\n",
       "      <td></td>\n",
       "      <td>False</td>\n",
       "    </tr>\n",
       "  </tbody>\n",
       "</table>\n",
       "<p>2 rows × 27 columns</p>\n",
       "</div>"
      ],
      "text/plain": [
       "     imdb_id  adult backdrop_path belongs_to_collection  budget  \\\n",
       "0          0    NaN           NaN                   NaN     NaN   \n",
       "1  tt0113092    0.0          None                  None     0.0   \n",
       "\n",
       "                                     genres homepage        id  \\\n",
       "0                                       NaN      NaN       NaN   \n",
       "1  [{'id': 878, 'name': 'Science Fiction'}]           110977.0   \n",
       "\n",
       "  original_language original_title  ... runtime  \\\n",
       "0               NaN            NaN  ...     NaN   \n",
       "1                en  For the Cause  ...   100.0   \n",
       "\n",
       "                                    spoken_languages    status  \\\n",
       "0                                                NaN       NaN   \n",
       "1  [{'english_name': 'English', 'iso_639_1': 'en'...  Released   \n",
       "\n",
       "                                        tagline          title video  \\\n",
       "0                                           NaN            NaN   NaN   \n",
       "1  The ultimate showdown on a forbidden planet.  For the Cause   0.0   \n",
       "\n",
       "   vote_average  vote_count certification combined_monies  \n",
       "0           NaN         NaN           NaN           False  \n",
       "1           5.1         8.0                         False  \n",
       "\n",
       "[2 rows x 27 columns]"
      ]
     },
     "execution_count": 246,
     "metadata": {},
     "output_type": "execute_result"
    }
   ],
   "source": [
    "combined_df.head(2)"
   ]
  },
  {
   "cell_type": "code",
   "execution_count": 247,
   "id": "8cc69a2b",
   "metadata": {},
   "outputs": [],
   "source": [
    "#sns.countplot(data=combined_data, x='revenue')"
   ]
  },
  {
   "cell_type": "code",
   "execution_count": 248,
   "id": "f040bd54",
   "metadata": {},
   "outputs": [
    {
     "name": "stdout",
     "output_type": "stream",
     "text": [
      "['Trebuchet MS', 'Candara', 'Leelawadee UI', 'Wide Latin', 'Script MT Bold', 'Engravers MT', 'Eras Medium ITC', 'Lucida Calligraphy', 'STIXSizeTwoSym', 'Franklin Gothic Book', 'Chiller', 'Rockwell Condensed', 'MS Outlook', 'Playbill', 'Eras Demi ITC', 'Parchment', 'Constantia', 'DejaVu Serif Display', 'Segoe UI Emoji', 'Niagara Engraved', 'STIXSizeFourSym', 'HoloLens MDL2 Assets', 'STIXNonUnicode', 'Lucida Handwriting', 'Tw Cen MT Condensed', 'Calisto MT', 'Arial Rounded MT Bold', 'Webdings', 'Myanmar Text', 'Agency FB', 'Nirmala UI', 'Microsoft Sans Serif', 'Tahoma', 'Brush Script MT', 'Times New Roman', 'Microsoft YaHei', 'Haettenschweiler', 'Bahnschrift', 'Lucida Console', 'Gill Sans MT Ext Condensed Bold', 'Kristen ITC', 'Old English Text MT', 'Imprint MT Shadow', 'Rockwell Extra Bold', 'Matura MT Script Capitals', 'cmsy10', 'cmb10', 'Franklin Gothic Medium Cond', 'Perpetua Titling MT', 'Lucida Sans Unicode', 'Segoe UI', 'Gigi', 'Rockwell', 'Microsoft Yi Baiti', 'DejaVu Sans', 'Sylfaen', 'Gloucester MT Extra Condensed', 'Georgia', 'Jokerman', 'Gill Sans Ultra Bold', 'High Tower Text', 'Microsoft JhengHei', 'MS Gothic', 'Elephant', 'Sans Serif Collection', 'Sitka', 'Berlin Sans FB', 'Informal Roman', 'Juice ITC', 'Segoe Print', 'STIXSizeFiveSym', 'Tw Cen MT', 'Microsoft PhagsPa', 'Magneto', 'Segoe UI Symbol', 'Bookman Old Style', 'Bauhaus 93', 'Segoe UI Historic', 'Impact', 'Forte', 'Gadugi', 'Microsoft Himalaya', 'Algerian', 'Viner Hand ITC', 'cmr10', 'Dubai', 'Cambria', 'Franklin Gothic Heavy', 'Yu Gothic', 'Lucida Sans Typewriter', 'Lucida Bright', 'Colonna MT', 'cmmi10', 'Harlow Solid Italic', 'Gabriola', 'SimSun-ExtB', 'Vivaldi', 'Bell MT', 'STIXSizeOneSym', 'Cooper Black', 'Papyrus', 'Century Schoolbook', 'Malgun Gothic', 'Bradley Hand ITC', 'Bodoni MT', 'Goudy Old Style', 'Footlight MT Light', 'Lucida Sans', 'Berlin Sans FB Demi', 'Curlz MT', 'STIXGeneral', 'Franklin Gothic Medium', 'Palace Script MT', 'SimSun', 'cmtt10', 'Californian FB', 'Blackadder ITC', 'Lucida Fax', 'Consolas', 'Centaur', 'Wingdings 3', 'Mistral', 'Gill Sans MT', 'Century', 'Eras Bold ITC', 'Snap ITC', 'Segoe MDL2 Assets', 'Eras Light ITC', 'Garamond', 'Showcard Gothic', 'Edwardian Script ITC', 'Mongolian Baiti', 'Palatino Linotype', 'Comic Sans MS', 'Monotype Corsiva', 'Stencil', 'Maiandra GD', 'Perpetua', 'MS Reference Sans Serif', 'Gill Sans MT Condensed', 'Tempus Sans ITC', 'Tw Cen MT Condensed Extra Bold', 'Copperplate Gothic Light', 'Segoe UI Variable', 'Harrington', 'cmex10', 'Ink Free', 'ROG Fonts', 'Poor Richard', 'Century Gothic', 'Britannic Bold', 'Verdana', 'Courier New', 'Felix Titling', 'Symbol', 'DejaVu Sans Display', 'Calibri', 'Book Antiqua', 'Modern No. 20', 'Ravie', 'MingLiU-ExtB', 'Freestyle Script', 'Castellar', 'MV Boli', 'Microsoft Tai Le', 'Wingdings 2', 'cmss10', 'Ebrima', 'Javanese Text', 'MT Extra', 'DejaVu Sans Mono', 'STIXSizeThreeSym', 'Rage Italic', 'Vladimir Script', 'Wingdings', 'Broadway', 'Copperplate Gothic Bold', 'Corbel', 'Baskerville Old Face', 'French Script MT', 'Microsoft New Tai Lue', 'Segoe Fluent Icons', 'Arial', 'Onyx', 'Gill Sans Ultra Bold Condensed', 'DejaVu Serif', 'Franklin Gothic Demi', 'Bookshelf Symbol 7', 'Bernard MT Condensed', 'Franklin Gothic Demi Cond', 'Kunstler Script', 'MS Reference Specialty', 'Segoe Script', 'OCR A Extended', 'Pristina', 'Goudy Stout', 'Niagara Solid']\n"
     ]
    }
   ],
   "source": [
    "from matplotlib.font_manager import get_font_names\n",
    "\n",
    "print(get_font_names())"
   ]
  },
  {
   "cell_type": "code",
   "execution_count": null,
   "id": "1206807e",
   "metadata": {},
   "outputs": [],
   "source": []
  }
 ],
 "metadata": {
  "kernelspec": {
   "display_name": "Python (dojo-env)",
   "language": "python",
   "name": "dojo-env"
  },
  "language_info": {
   "codemirror_mode": {
    "name": "ipython",
    "version": 3
   },
   "file_extension": ".py",
   "mimetype": "text/x-python",
   "name": "python",
   "nbconvert_exporter": "python",
   "pygments_lexer": "ipython3",
   "version": "3.9.15"
  },
  "toc": {
   "base_numbering": 1,
   "nav_menu": {},
   "number_sections": true,
   "sideBar": true,
   "skip_h1_title": false,
   "title_cell": "Table of Contents",
   "title_sidebar": "Contents",
   "toc_cell": false,
   "toc_position": {},
   "toc_section_display": true,
   "toc_window_display": true
  }
 },
 "nbformat": 4,
 "nbformat_minor": 5
}
