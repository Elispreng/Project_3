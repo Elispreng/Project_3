{
 "cells": [
  {
   "cell_type": "markdown",
   "id": "9093f8c9",
   "metadata": {},
   "source": [
    "# Set up project"
   ]
  },
  {
   "cell_type": "code",
   "execution_count": 51,
   "id": "2017a608",
   "metadata": {},
   "outputs": [
    {
     "name": "stdout",
     "output_type": "stream",
     "text": [
      "Requirement already satisfied: tmdbsimple in c:\\users\\elizabeth spreng\\anaconda3\\envs\\dojo-env\\lib\\site-packages (2.9.1)\n",
      "Requirement already satisfied: requests in c:\\users\\elizabeth spreng\\anaconda3\\envs\\dojo-env\\lib\\site-packages (from tmdbsimple) (2.28.1)\n",
      "Requirement already satisfied: urllib3<1.27,>=1.21.1 in c:\\users\\elizabeth spreng\\anaconda3\\envs\\dojo-env\\lib\\site-packages (from requests->tmdbsimple) (1.26.13)\n",
      "Requirement already satisfied: certifi>=2017.4.17 in c:\\users\\elizabeth spreng\\anaconda3\\envs\\dojo-env\\lib\\site-packages (from requests->tmdbsimple) (2022.9.24)\n",
      "Requirement already satisfied: charset-normalizer<3,>=2 in c:\\users\\elizabeth spreng\\anaconda3\\envs\\dojo-env\\lib\\site-packages (from requests->tmdbsimple) (2.0.4)\n",
      "Requirement already satisfied: idna<4,>=2.5 in c:\\users\\elizabeth spreng\\anaconda3\\envs\\dojo-env\\lib\\site-packages (from requests->tmdbsimple) (3.4)\n"
     ]
    }
   ],
   "source": [
    "# Install tmdbsimple (only need to run once)\n",
    "!pip install tmdbsimple"
   ]
  },
  {
   "cell_type": "code",
   "execution_count": 52,
   "id": "ad453dda",
   "metadata": {},
   "outputs": [
    {
     "name": "stdout",
     "output_type": "stream",
     "text": [
      "Requirement already satisfied: tqdm in c:\\users\\elizabeth spreng\\anaconda3\\envs\\dojo-env\\lib\\site-packages (4.64.1)\n",
      "Requirement already satisfied: colorama in c:\\users\\elizabeth spreng\\anaconda3\\envs\\dojo-env\\lib\\site-packages (from tqdm) (0.4.5)\n"
     ]
    }
   ],
   "source": [
    " !pip install tqdm"
   ]
  },
  {
   "cell_type": "code",
   "execution_count": 5,
   "id": "a2859a11",
   "metadata": {},
   "outputs": [
    {
     "data": {
      "text/plain": [
       "dict_keys(['api-key'])"
      ]
     },
     "execution_count": 5,
     "metadata": {},
     "output_type": "execute_result"
    }
   ],
   "source": [
    "# open the json\n",
    "import json\n",
    "with open(\"C:\\\\Users\\\\Elizabeth Spreng\\\\.secret\\\\tmbd_api.json\", 'r') as f:\n",
    "    login = json.load(f)\n",
    "## Display the keys of the loaded dict\n",
    "login.keys()"
   ]
  },
  {
   "cell_type": "code",
   "execution_count": 7,
   "id": "c4b310b0",
   "metadata": {},
   "outputs": [],
   "source": [
    "# load tmbd simple\n",
    "import tmdbsimple as tmdb\n",
    "tmdb.API_KEY =  login['api-key']"
   ]
  },
  {
   "cell_type": "code",
   "execution_count": 8,
   "id": "70ac9444",
   "metadata": {},
   "outputs": [],
   "source": [
    "#import libraries\n",
    "import pandas as pd\n",
    "\n",
    "#import \n",
    "from tqdm.notebook import trange, tqdm\n",
    "from tqdm.notebook import tqdm_notebook "
   ]
  },
  {
   "cell_type": "markdown",
   "id": "9112eff9",
   "metadata": {},
   "source": [
    "#  Exploratory Data"
   ]
  },
  {
   "cell_type": "markdown",
   "id": "7443adfd",
   "metadata": {},
   "source": [
    "- How many movies had at least some valid financial information (values > 0 for budget OR revenue)? Please exclude any movies with 0's for budget AND revenue from the remaining visualizations.\n",
    "- How many movies are there in each of the certification categories (G/PG/PG-13/R)?\n",
    "- What is the average revenue per certification category?\n",
    "- What is the average budget per certification category?"
   ]
  },
  {
   "cell_type": "markdown",
   "id": "bd61a821",
   "metadata": {},
   "source": [
    "## Import libraries for EDA"
   ]
  },
  {
   "cell_type": "code",
   "execution_count": 39,
   "id": "ede8a6eb",
   "metadata": {},
   "outputs": [],
   "source": [
    "# import libraries\n",
    "import seaborn as sns\n",
    "import matplotlib.pyplot as plt\n",
    "from matplotlib.ticker import StrMethodFormatter\n",
    "import matplotlib.ticker as ticker\n",
    "\n"
   ]
  },
  {
   "cell_type": "markdown",
   "id": "09de41c9",
   "metadata": {},
   "source": [
    "## Load the Data"
   ]
  },
  {
   "cell_type": "code",
   "execution_count": 9,
   "id": "230ff5d7",
   "metadata": {
    "scrolled": true
   },
   "outputs": [],
   "source": [
    "df_2000 = pd.read_csv('Data/tmdb_api_results_2000.json')"
   ]
  },
  {
   "cell_type": "code",
   "execution_count": 111,
   "id": "7b9d07fa",
   "metadata": {},
   "outputs": [
    {
     "data": {
      "text/html": [
       "<div>\n",
       "<style scoped>\n",
       "    .dataframe tbody tr th:only-of-type {\n",
       "        vertical-align: middle;\n",
       "    }\n",
       "\n",
       "    .dataframe tbody tr th {\n",
       "        vertical-align: top;\n",
       "    }\n",
       "\n",
       "    .dataframe thead th {\n",
       "        text-align: right;\n",
       "    }\n",
       "</style>\n",
       "<table border=\"1\" class=\"dataframe\">\n",
       "  <thead>\n",
       "    <tr style=\"text-align: right;\">\n",
       "      <th></th>\n",
       "      <th>[{\"imdb_id\": 0}</th>\n",
       "      <th>{\"adult\": false</th>\n",
       "      <th>\"backdrop_path\": null</th>\n",
       "      <th>\"belongs_to_collection\": null</th>\n",
       "      <th>\"budget\": 0</th>\n",
       "      <th>\"genres\": [{\"id\": 878</th>\n",
       "      <th>\"name\": \"Science Fiction\"}]</th>\n",
       "      <th>\"homepage\": \"\"</th>\n",
       "      <th>\"id\": 110977</th>\n",
       "      <th>\"imdb_id\": \"tt0113092\"</th>\n",
       "      <th>...</th>\n",
       "      <th>\"runtime\": 95.79</th>\n",
       "      <th>\"spoken_languages\": [{\"english_name\": \"Arabic\".22</th>\n",
       "      <th>\"iso_639_1\": \"ar\".22</th>\n",
       "      <th>\"name\": \"\\u0627\\u0644\\u0639\\u0631\\u0628\\u064a\\u0629\"}].9</th>\n",
       "      <th>\"status\": \"Released\".2194</th>\n",
       "      <th>\"tagline\": \"\".1552</th>\n",
       "      <th>\"title\": \"shajie alsiyama\"</th>\n",
       "      <th>\"video\": false.2188</th>\n",
       "      <th>\"vote_average\": 4.5.22</th>\n",
       "      <th>\"vote_count\": 2}]</th>\n",
       "    </tr>\n",
       "  </thead>\n",
       "  <tbody>\n",
       "  </tbody>\n",
       "</table>\n",
       "<p>0 rows × 86142 columns</p>\n",
       "</div>"
      ],
      "text/plain": [
       "Empty DataFrame\n",
       "Columns: [[{\"imdb_id\": 0},  {\"adult\": false,  \"backdrop_path\": null,  \"belongs_to_collection\": null,  \"budget\": 0,  \"genres\": [{\"id\": 878,  \"name\": \"Science Fiction\"}],  \"homepage\": \"\",  \"id\": 110977,  \"imdb_id\": \"tt0113092\",  \"original_language\": \"en\",  \"original_title\": \"For the Cause\",  \"overview\": \"Earth is in a state of constant war and two colonies of humans have been sent to a far away world. The colonists create a new civilization but have inherited the worst traits of their forebears and war breaks out leaving the new cities in ruins. It falls to a bunch of teens to bring peace to the colony - but will they?\",  \"popularity\": 2.624,  \"poster_path\": \"/h9bWO13nWRGZJo4XVPiElXyrRMU.jpg\",  \"production_companies\": [{\"id\": 7405,  \"logo_path\": \"/rfnws0uY8rsNAsrLbx3gEIcYXx3.png\",  \"name\": \"Dimension Films\",  \"origin_country\": \"US\"},  {\"id\": 12816,  \"logo_path\": null,  \"name\": \"Grand Design Entertainment\",  \"origin_country\": \"\"},  {\"id\": 9077,  \"logo_path\": null.1,  \"name\": \"Martien Holdings A.V.V.\",  \"origin_country\": \"\"}.1,  {\"id\": 925,  \"logo_path\": \"/dIb9hjXNOkgxu4kBWdIdK8nM4w.png\",  \"name\": \"Nu Image\",  \"origin_country\": \"US\"}],  \"production_countries\": [{\"iso_3166_1\": \"US\",  \"name\": \"United States of America\"}],  \"release_date\": \"2000-11-15\",  \"revenue\": 0,  \"runtime\": 100,  \"spoken_languages\": [{\"english_name\": \"English\",  \"iso_639_1\": \"en\",  \"name\": \"English\"}],  \"status\": \"Released\",  \"tagline\": \"The ultimate showdown on a forbidden planet.\",  \"title\": \"For the Cause\",  \"video\": false,  \"vote_average\": 5.1,  \"vote_count\": 8,  \"certification\": \"\"},  {\"adult\": false.1,  \"backdrop_path\": \"/wr0hTHwkYIRC82MwNbhOvqrw27N.jpg\",  \"belongs_to_collection\": null.1,  \"budget\": 0.1,  \"genres\": [{\"id\": 18,  \"name\": \"Drama\"},  {\"id\": 10749,  \"name\": \"Romance\"}],  \"homepage\": \"\".1,  \"id\": 579396,  \"imdb_id\": \"tt0116748\",  \"original_language\": \"hi\",  \"original_title\": \"Karobaar\",  \"overview\": \"Wealthy Rajiv Sinha and middle-classed Amar Saxena are two childhood friends,  with similar likes,  and tastes. Their similar habits lead them to being in love with the same woman - Seema,  who loves Amar,  and is willing to marry him no matter what. Rajiv attempts to offer money to Sapna's guardian so that he can marry her,  in vain though. When Rajiv attempts to convince Amar that Sapna is being brought up by a prostitute by the name of Ratnabai,  Amar is adamant,  and marries Sapna,  and takes her home to his brother and his family,  where they are not welcomed,  and asked to leave. Rajiv and Amar stop seeing each other,  and regard each other as bitter enemies. Amar and Seema manage to exist,  with Amar going on to become a successful prosecution attorney. Then they get the news that Rajiv has been charged with killing a young woman named Neelam Mehta. Amar is delighted for he will be given a chance to teach Rajiv a lesson,  and possibly sentence him to death.\",  \"popularity\": 1.034,  \"poster_path\": \"/wFSOXXrJklY2ngjIJCus9c2DfJW.jpg\",  \"production_companies\": [],  \"production_countries\": [],  \"release_date\": \"2000-09-15\",  \"revenue\": 0.1,  \"runtime\": 180,  \"spoken_languages\": [{\"english_name\": \"Hindi\",  \"iso_639_1\": \"hi\",  \"name\": \"\\u0939\\u093f\\u0928\\u094d\\u0926\\u0940\"}],  \"status\": \"Released\".1,  \"tagline\": \"The Business of Love\",  \"title\": \"Karobaar\",  \"video\": false.1,  \"vote_average\": 5.5,  \"vote_count\": 2},  {\"adult\": false.2,  \"backdrop_path\": \"/n4GJFGzsc7NinI1VeGDXIcQjtU2.jpg\",  \"belongs_to_collection\": null.2,  \"budget\": 150000,  \"genres\": [{\"id\": 18.1,  \"name\": \"Drama\"}.1,  {\"id\": 10749.1,  \"name\": \"Romance\"}].1,  \"homepage\": \"\".2,  \"id\": 843,  \"imdb_id\": \"tt0118694\", ...]\n",
       "Index: []\n",
       "\n",
       "[0 rows x 86142 columns]"
      ]
     },
     "execution_count": 111,
     "metadata": {},
     "output_type": "execute_result"
    }
   ],
   "source": [
    "df_2000.head()"
   ]
  },
  {
   "cell_type": "code",
   "execution_count": 11,
   "id": "02bd8ec4",
   "metadata": {},
   "outputs": [
    {
     "name": "stdout",
     "output_type": "stream",
     "text": [
      "<class 'pandas.core.frame.DataFrame'>\n",
      "Index: 0 entries\n",
      "Columns: 50856 entries, [{\"imdb_id\": 0} to  \"vote_count\": 1}]\n",
      "dtypes: object(50856)\n",
      "memory usage: 0.0+ bytes\n"
     ]
    }
   ],
   "source": [
    "df_2000.info()"
   ]
  },
  {
   "cell_type": "code",
   "execution_count": 12,
   "id": "4a324ba0",
   "metadata": {},
   "outputs": [],
   "source": [
    "# Read the data\n",
    "df_api_2000 = pd.read_json('Data/tmdb_api_results_2000.json')\n",
    "df_api_2000.to_csv('Data/tmdb_api_results_2000.json')\n",
    "\n"
   ]
  },
  {
   "cell_type": "markdown",
   "id": "03c46907",
   "metadata": {},
   "source": [
    "### Inspect the 2000 Data"
   ]
  },
  {
   "cell_type": "code",
   "execution_count": 13,
   "id": "a066c173",
   "metadata": {},
   "outputs": [
    {
     "data": {
      "text/html": [
       "<div>\n",
       "<style scoped>\n",
       "    .dataframe tbody tr th:only-of-type {\n",
       "        vertical-align: middle;\n",
       "    }\n",
       "\n",
       "    .dataframe tbody tr th {\n",
       "        vertical-align: top;\n",
       "    }\n",
       "\n",
       "    .dataframe thead th {\n",
       "        text-align: right;\n",
       "    }\n",
       "</style>\n",
       "<table border=\"1\" class=\"dataframe\">\n",
       "  <thead>\n",
       "    <tr style=\"text-align: right;\">\n",
       "      <th></th>\n",
       "      <th>imdb_id</th>\n",
       "      <th>adult</th>\n",
       "      <th>backdrop_path</th>\n",
       "      <th>belongs_to_collection</th>\n",
       "      <th>budget</th>\n",
       "      <th>genres</th>\n",
       "      <th>homepage</th>\n",
       "      <th>id</th>\n",
       "      <th>original_language</th>\n",
       "      <th>original_title</th>\n",
       "      <th>...</th>\n",
       "      <th>revenue</th>\n",
       "      <th>runtime</th>\n",
       "      <th>spoken_languages</th>\n",
       "      <th>status</th>\n",
       "      <th>tagline</th>\n",
       "      <th>title</th>\n",
       "      <th>video</th>\n",
       "      <th>vote_average</th>\n",
       "      <th>vote_count</th>\n",
       "      <th>certification</th>\n",
       "    </tr>\n",
       "  </thead>\n",
       "  <tbody>\n",
       "    <tr>\n",
       "      <th>0</th>\n",
       "      <td>0</td>\n",
       "      <td>NaN</td>\n",
       "      <td>NaN</td>\n",
       "      <td>NaN</td>\n",
       "      <td>NaN</td>\n",
       "      <td>NaN</td>\n",
       "      <td>NaN</td>\n",
       "      <td>NaN</td>\n",
       "      <td>NaN</td>\n",
       "      <td>NaN</td>\n",
       "      <td>...</td>\n",
       "      <td>NaN</td>\n",
       "      <td>NaN</td>\n",
       "      <td>NaN</td>\n",
       "      <td>NaN</td>\n",
       "      <td>NaN</td>\n",
       "      <td>NaN</td>\n",
       "      <td>NaN</td>\n",
       "      <td>NaN</td>\n",
       "      <td>NaN</td>\n",
       "      <td>NaN</td>\n",
       "    </tr>\n",
       "    <tr>\n",
       "      <th>1</th>\n",
       "      <td>tt0113026</td>\n",
       "      <td>0.0</td>\n",
       "      <td>/vMFs7nw6P0bIV1jDsQpxAieAVnH.jpg</td>\n",
       "      <td>None</td>\n",
       "      <td>10000000.0</td>\n",
       "      <td>[{'id': 35, 'name': 'Comedy'}, {'id': 10402, '...</td>\n",
       "      <td></td>\n",
       "      <td>62127.0</td>\n",
       "      <td>en</td>\n",
       "      <td>The Fantasticks</td>\n",
       "      <td>...</td>\n",
       "      <td>0.0</td>\n",
       "      <td>86.0</td>\n",
       "      <td>[{'english_name': 'English', 'iso_639_1': 'en'...</td>\n",
       "      <td>Released</td>\n",
       "      <td>Try to remember the first time magic happened</td>\n",
       "      <td>The Fantasticks</td>\n",
       "      <td>0.0</td>\n",
       "      <td>5.50</td>\n",
       "      <td>22.0</td>\n",
       "      <td></td>\n",
       "    </tr>\n",
       "    <tr>\n",
       "      <th>2</th>\n",
       "      <td>tt0113092</td>\n",
       "      <td>0.0</td>\n",
       "      <td>None</td>\n",
       "      <td>None</td>\n",
       "      <td>0.0</td>\n",
       "      <td>[{'id': 878, 'name': 'Science Fiction'}]</td>\n",
       "      <td></td>\n",
       "      <td>110977.0</td>\n",
       "      <td>en</td>\n",
       "      <td>For the Cause</td>\n",
       "      <td>...</td>\n",
       "      <td>0.0</td>\n",
       "      <td>100.0</td>\n",
       "      <td>[{'english_name': 'English', 'iso_639_1': 'en'...</td>\n",
       "      <td>Released</td>\n",
       "      <td>The ultimate showdown on a forbidden planet.</td>\n",
       "      <td>For the Cause</td>\n",
       "      <td>0.0</td>\n",
       "      <td>5.10</td>\n",
       "      <td>8.0</td>\n",
       "      <td></td>\n",
       "    </tr>\n",
       "    <tr>\n",
       "      <th>3</th>\n",
       "      <td>tt0116391</td>\n",
       "      <td>0.0</td>\n",
       "      <td>None</td>\n",
       "      <td>None</td>\n",
       "      <td>0.0</td>\n",
       "      <td>[{'id': 18, 'name': 'Drama'}, {'id': 28, 'name...</td>\n",
       "      <td></td>\n",
       "      <td>442869.0</td>\n",
       "      <td>hi</td>\n",
       "      <td>Gang</td>\n",
       "      <td>...</td>\n",
       "      <td>0.0</td>\n",
       "      <td>152.0</td>\n",
       "      <td>[{'english_name': 'Hindi', 'iso_639_1': 'hi', ...</td>\n",
       "      <td>Released</td>\n",
       "      <td></td>\n",
       "      <td>Gang</td>\n",
       "      <td>0.0</td>\n",
       "      <td>4.00</td>\n",
       "      <td>1.0</td>\n",
       "      <td>NaN</td>\n",
       "    </tr>\n",
       "    <tr>\n",
       "      <th>4</th>\n",
       "      <td>tt0118694</td>\n",
       "      <td>0.0</td>\n",
       "      <td>/n4GJFGzsc7NinI1VeGDXIcQjtU2.jpg</td>\n",
       "      <td>None</td>\n",
       "      <td>150000.0</td>\n",
       "      <td>[{'id': 18, 'name': 'Drama'}, {'id': 10749, 'n...</td>\n",
       "      <td></td>\n",
       "      <td>843.0</td>\n",
       "      <td>cn</td>\n",
       "      <td>花樣年華</td>\n",
       "      <td>...</td>\n",
       "      <td>12854953.0</td>\n",
       "      <td>99.0</td>\n",
       "      <td>[{'english_name': 'Cantonese', 'iso_639_1': 'c...</td>\n",
       "      <td>Released</td>\n",
       "      <td>Feel the heat, keep the feeling burning, let t...</td>\n",
       "      <td>In the Mood for Love</td>\n",
       "      <td>0.0</td>\n",
       "      <td>8.11</td>\n",
       "      <td>2162.0</td>\n",
       "      <td>PG</td>\n",
       "    </tr>\n",
       "  </tbody>\n",
       "</table>\n",
       "<p>5 rows × 26 columns</p>\n",
       "</div>"
      ],
      "text/plain": [
       "     imdb_id  adult                     backdrop_path belongs_to_collection  \\\n",
       "0          0    NaN                               NaN                   NaN   \n",
       "1  tt0113026    0.0  /vMFs7nw6P0bIV1jDsQpxAieAVnH.jpg                  None   \n",
       "2  tt0113092    0.0                              None                  None   \n",
       "3  tt0116391    0.0                              None                  None   \n",
       "4  tt0118694    0.0  /n4GJFGzsc7NinI1VeGDXIcQjtU2.jpg                  None   \n",
       "\n",
       "       budget                                             genres homepage  \\\n",
       "0         NaN                                                NaN      NaN   \n",
       "1  10000000.0  [{'id': 35, 'name': 'Comedy'}, {'id': 10402, '...            \n",
       "2         0.0           [{'id': 878, 'name': 'Science Fiction'}]            \n",
       "3         0.0  [{'id': 18, 'name': 'Drama'}, {'id': 28, 'name...            \n",
       "4    150000.0  [{'id': 18, 'name': 'Drama'}, {'id': 10749, 'n...            \n",
       "\n",
       "         id original_language   original_title  ...     revenue  runtime  \\\n",
       "0       NaN               NaN              NaN  ...         NaN      NaN   \n",
       "1   62127.0                en  The Fantasticks  ...         0.0     86.0   \n",
       "2  110977.0                en    For the Cause  ...         0.0    100.0   \n",
       "3  442869.0                hi             Gang  ...         0.0    152.0   \n",
       "4     843.0                cn             花樣年華  ...  12854953.0     99.0   \n",
       "\n",
       "                                    spoken_languages    status  \\\n",
       "0                                                NaN       NaN   \n",
       "1  [{'english_name': 'English', 'iso_639_1': 'en'...  Released   \n",
       "2  [{'english_name': 'English', 'iso_639_1': 'en'...  Released   \n",
       "3  [{'english_name': 'Hindi', 'iso_639_1': 'hi', ...  Released   \n",
       "4  [{'english_name': 'Cantonese', 'iso_639_1': 'c...  Released   \n",
       "\n",
       "                                             tagline                 title  \\\n",
       "0                                                NaN                   NaN   \n",
       "1      Try to remember the first time magic happened       The Fantasticks   \n",
       "2       The ultimate showdown on a forbidden planet.         For the Cause   \n",
       "3                                                                     Gang   \n",
       "4  Feel the heat, keep the feeling burning, let t...  In the Mood for Love   \n",
       "\n",
       "   video  vote_average vote_count certification  \n",
       "0    NaN           NaN        NaN           NaN  \n",
       "1    0.0          5.50       22.0                \n",
       "2    0.0          5.10        8.0                \n",
       "3    0.0          4.00        1.0           NaN  \n",
       "4    0.0          8.11     2162.0            PG  \n",
       "\n",
       "[5 rows x 26 columns]"
      ]
     },
     "execution_count": 13,
     "metadata": {},
     "output_type": "execute_result"
    }
   ],
   "source": [
    "df_api_2000.head()"
   ]
  },
  {
   "cell_type": "code",
   "execution_count": 14,
   "id": "c98fac09",
   "metadata": {},
   "outputs": [
    {
     "name": "stdout",
     "output_type": "stream",
     "text": [
      "<class 'pandas.core.frame.DataFrame'>\n",
      "RangeIndex: 1228 entries, 0 to 1227\n",
      "Data columns (total 26 columns):\n",
      " #   Column                 Non-Null Count  Dtype  \n",
      "---  ------                 --------------  -----  \n",
      " 0   imdb_id                1228 non-null   object \n",
      " 1   adult                  1227 non-null   float64\n",
      " 2   backdrop_path          670 non-null    object \n",
      " 3   belongs_to_collection  112 non-null    object \n",
      " 4   budget                 1227 non-null   float64\n",
      " 5   genres                 1227 non-null   object \n",
      " 6   homepage               1227 non-null   object \n",
      " 7   id                     1227 non-null   float64\n",
      " 8   original_language      1227 non-null   object \n",
      " 9   original_title         1227 non-null   object \n",
      " 10  overview               1227 non-null   object \n",
      " 11  popularity             1227 non-null   float64\n",
      " 12  poster_path            1103 non-null   object \n",
      " 13  production_companies   1227 non-null   object \n",
      " 14  production_countries   1227 non-null   object \n",
      " 15  release_date           1227 non-null   object \n",
      " 16  revenue                1227 non-null   float64\n",
      " 17  runtime                1227 non-null   float64\n",
      " 18  spoken_languages       1227 non-null   object \n",
      " 19  status                 1227 non-null   object \n",
      " 20  tagline                1227 non-null   object \n",
      " 21  title                  1227 non-null   object \n",
      " 22  video                  1227 non-null   float64\n",
      " 23  vote_average           1227 non-null   float64\n",
      " 24  vote_count             1227 non-null   float64\n",
      " 25  certification          791 non-null    object \n",
      "dtypes: float64(9), object(17)\n",
      "memory usage: 249.6+ KB\n"
     ]
    }
   ],
   "source": [
    "df_api_2000.info()"
   ]
  },
  {
   "cell_type": "code",
   "execution_count": 15,
   "id": "8e558794",
   "metadata": {
    "scrolled": true
   },
   "outputs": [
    {
     "data": {
      "text/plain": [
       "count    1.227000e+03\n",
       "mean     5.229382e+06\n",
       "std      1.704207e+07\n",
       "min      0.000000e+00\n",
       "25%      0.000000e+00\n",
       "50%      0.000000e+00\n",
       "75%      0.000000e+00\n",
       "max      1.275000e+08\n",
       "Name: budget, dtype: float64"
      ]
     },
     "execution_count": 15,
     "metadata": {},
     "output_type": "execute_result"
    }
   ],
   "source": [
    "df_api_2000['budget'].describe()"
   ]
  },
  {
   "cell_type": "markdown",
   "id": "fe59df6e",
   "metadata": {},
   "source": [
    "### Inspect the 2001 Data"
   ]
  },
  {
   "cell_type": "code",
   "execution_count": 17,
   "id": "1bc67194",
   "metadata": {},
   "outputs": [],
   "source": [
    "# Read the data\n",
    "df_api_2001 = pd.read_json('Data/tmdb_api_results_2001.json')\n",
    "df_api_2001.to_csv('Data/tmdb_api_results_2001.json')"
   ]
  },
  {
   "cell_type": "code",
   "execution_count": 117,
   "id": "568dae49",
   "metadata": {},
   "outputs": [
    {
     "data": {
      "text/html": [
       "<div>\n",
       "<style scoped>\n",
       "    .dataframe tbody tr th:only-of-type {\n",
       "        vertical-align: middle;\n",
       "    }\n",
       "\n",
       "    .dataframe tbody tr th {\n",
       "        vertical-align: top;\n",
       "    }\n",
       "\n",
       "    .dataframe thead th {\n",
       "        text-align: right;\n",
       "    }\n",
       "</style>\n",
       "<table border=\"1\" class=\"dataframe\">\n",
       "  <thead>\n",
       "    <tr style=\"text-align: right;\">\n",
       "      <th></th>\n",
       "      <th>imdb_id</th>\n",
       "      <th>adult</th>\n",
       "      <th>backdrop_path</th>\n",
       "      <th>belongs_to_collection</th>\n",
       "      <th>budget</th>\n",
       "      <th>genres</th>\n",
       "      <th>homepage</th>\n",
       "      <th>id</th>\n",
       "      <th>original_language</th>\n",
       "      <th>original_title</th>\n",
       "      <th>...</th>\n",
       "      <th>revenue</th>\n",
       "      <th>runtime</th>\n",
       "      <th>spoken_languages</th>\n",
       "      <th>status</th>\n",
       "      <th>tagline</th>\n",
       "      <th>title</th>\n",
       "      <th>video</th>\n",
       "      <th>vote_average</th>\n",
       "      <th>vote_count</th>\n",
       "      <th>certification</th>\n",
       "    </tr>\n",
       "  </thead>\n",
       "  <tbody>\n",
       "    <tr>\n",
       "      <th>0</th>\n",
       "      <td>0</td>\n",
       "      <td>NaN</td>\n",
       "      <td>NaN</td>\n",
       "      <td>NaN</td>\n",
       "      <td>NaN</td>\n",
       "      <td>NaN</td>\n",
       "      <td>NaN</td>\n",
       "      <td>NaN</td>\n",
       "      <td>NaN</td>\n",
       "      <td>NaN</td>\n",
       "      <td>...</td>\n",
       "      <td>NaN</td>\n",
       "      <td>NaN</td>\n",
       "      <td>NaN</td>\n",
       "      <td>NaN</td>\n",
       "      <td>NaN</td>\n",
       "      <td>NaN</td>\n",
       "      <td>NaN</td>\n",
       "      <td>NaN</td>\n",
       "      <td>NaN</td>\n",
       "      <td>NaN</td>\n",
       "    </tr>\n",
       "    <tr>\n",
       "      <th>1</th>\n",
       "      <td>tt0035423</td>\n",
       "      <td>0.0</td>\n",
       "      <td>/hfeiSfWYujh6MKhtGTXyK3DD4nN.jpg</td>\n",
       "      <td>None</td>\n",
       "      <td>48000000.0</td>\n",
       "      <td>[{'id': 10749, 'name': 'Romance'}, {'id': 14, ...</td>\n",
       "      <td></td>\n",
       "      <td>11232.0</td>\n",
       "      <td>en</td>\n",
       "      <td>Kate &amp; Leopold</td>\n",
       "      <td>...</td>\n",
       "      <td>76019048.0</td>\n",
       "      <td>118.0</td>\n",
       "      <td>[{'english_name': 'English', 'iso_639_1': 'en'...</td>\n",
       "      <td>Released</td>\n",
       "      <td>If they lived in the same century, they'd be p...</td>\n",
       "      <td>Kate &amp; Leopold</td>\n",
       "      <td>0.0</td>\n",
       "      <td>6.328</td>\n",
       "      <td>1180.0</td>\n",
       "      <td>PG-13</td>\n",
       "    </tr>\n",
       "    <tr>\n",
       "      <th>2</th>\n",
       "      <td>tt0079644</td>\n",
       "      <td>0.0</td>\n",
       "      <td>/79axmuH1UGkB7m72jjB9rPff9om.jpg</td>\n",
       "      <td>None</td>\n",
       "      <td>0.0</td>\n",
       "      <td>[{'id': 10752, 'name': 'War'}]</td>\n",
       "      <td></td>\n",
       "      <td>285529.0</td>\n",
       "      <td>id</td>\n",
       "      <td>November 1828</td>\n",
       "      <td>...</td>\n",
       "      <td>0.0</td>\n",
       "      <td>140.0</td>\n",
       "      <td>[{'english_name': 'Indonesian', 'iso_639_1': '...</td>\n",
       "      <td>Released</td>\n",
       "      <td></td>\n",
       "      <td>November 1828</td>\n",
       "      <td>0.0</td>\n",
       "      <td>0.000</td>\n",
       "      <td>0.0</td>\n",
       "      <td>NaN</td>\n",
       "    </tr>\n",
       "    <tr>\n",
       "      <th>3</th>\n",
       "      <td>tt0114447</td>\n",
       "      <td>0.0</td>\n",
       "      <td>None</td>\n",
       "      <td>None</td>\n",
       "      <td>0.0</td>\n",
       "      <td>[{'id': 53, 'name': 'Thriller'}, {'id': 28, 'n...</td>\n",
       "      <td></td>\n",
       "      <td>151007.0</td>\n",
       "      <td>en</td>\n",
       "      <td>The Silent Force</td>\n",
       "      <td>...</td>\n",
       "      <td>0.0</td>\n",
       "      <td>90.0</td>\n",
       "      <td>[{'english_name': 'English', 'iso_639_1': 'en'...</td>\n",
       "      <td>Released</td>\n",
       "      <td>They left him for dead... They should have fin...</td>\n",
       "      <td>The Silent Force</td>\n",
       "      <td>0.0</td>\n",
       "      <td>5.000</td>\n",
       "      <td>3.0</td>\n",
       "      <td>NaN</td>\n",
       "    </tr>\n",
       "    <tr>\n",
       "      <th>4</th>\n",
       "      <td>tt0114722</td>\n",
       "      <td>0.0</td>\n",
       "      <td>None</td>\n",
       "      <td>None</td>\n",
       "      <td>0.0</td>\n",
       "      <td>[{'id': 18, 'name': 'Drama'}, {'id': 53, 'name...</td>\n",
       "      <td></td>\n",
       "      <td>276251.0</td>\n",
       "      <td>es</td>\n",
       "      <td>3 Noches</td>\n",
       "      <td>...</td>\n",
       "      <td>0.0</td>\n",
       "      <td>105.0</td>\n",
       "      <td>[{'english_name': 'Spanish', 'iso_639_1': 'es'...</td>\n",
       "      <td>Released</td>\n",
       "      <td></td>\n",
       "      <td>3 Nights</td>\n",
       "      <td>0.0</td>\n",
       "      <td>0.000</td>\n",
       "      <td>0.0</td>\n",
       "      <td></td>\n",
       "    </tr>\n",
       "  </tbody>\n",
       "</table>\n",
       "<p>5 rows × 26 columns</p>\n",
       "</div>"
      ],
      "text/plain": [
       "     imdb_id  adult                     backdrop_path belongs_to_collection  \\\n",
       "0          0    NaN                               NaN                   NaN   \n",
       "1  tt0035423    0.0  /hfeiSfWYujh6MKhtGTXyK3DD4nN.jpg                  None   \n",
       "2  tt0079644    0.0  /79axmuH1UGkB7m72jjB9rPff9om.jpg                  None   \n",
       "3  tt0114447    0.0                              None                  None   \n",
       "4  tt0114722    0.0                              None                  None   \n",
       "\n",
       "       budget                                             genres homepage  \\\n",
       "0         NaN                                                NaN      NaN   \n",
       "1  48000000.0  [{'id': 10749, 'name': 'Romance'}, {'id': 14, ...            \n",
       "2         0.0                     [{'id': 10752, 'name': 'War'}]            \n",
       "3         0.0  [{'id': 53, 'name': 'Thriller'}, {'id': 28, 'n...            \n",
       "4         0.0  [{'id': 18, 'name': 'Drama'}, {'id': 53, 'name...            \n",
       "\n",
       "         id original_language    original_title  ...     revenue  runtime  \\\n",
       "0       NaN               NaN               NaN  ...         NaN      NaN   \n",
       "1   11232.0                en    Kate & Leopold  ...  76019048.0    118.0   \n",
       "2  285529.0                id     November 1828  ...         0.0    140.0   \n",
       "3  151007.0                en  The Silent Force  ...         0.0     90.0   \n",
       "4  276251.0                es          3 Noches  ...         0.0    105.0   \n",
       "\n",
       "                                    spoken_languages    status  \\\n",
       "0                                                NaN       NaN   \n",
       "1  [{'english_name': 'English', 'iso_639_1': 'en'...  Released   \n",
       "2  [{'english_name': 'Indonesian', 'iso_639_1': '...  Released   \n",
       "3  [{'english_name': 'English', 'iso_639_1': 'en'...  Released   \n",
       "4  [{'english_name': 'Spanish', 'iso_639_1': 'es'...  Released   \n",
       "\n",
       "                                             tagline             title  video  \\\n",
       "0                                                NaN               NaN    NaN   \n",
       "1  If they lived in the same century, they'd be p...    Kate & Leopold    0.0   \n",
       "2                                                        November 1828    0.0   \n",
       "3  They left him for dead... They should have fin...  The Silent Force    0.0   \n",
       "4                                                             3 Nights    0.0   \n",
       "\n",
       "   vote_average vote_count certification  \n",
       "0           NaN        NaN           NaN  \n",
       "1         6.328     1180.0         PG-13  \n",
       "2         0.000        0.0           NaN  \n",
       "3         5.000        3.0           NaN  \n",
       "4         0.000        0.0                \n",
       "\n",
       "[5 rows x 26 columns]"
      ]
     },
     "execution_count": 117,
     "metadata": {},
     "output_type": "execute_result"
    }
   ],
   "source": [
    "df_api_2001.head()"
   ]
  },
  {
   "cell_type": "code",
   "execution_count": 20,
   "id": "ad3c2609",
   "metadata": {
    "scrolled": true
   },
   "outputs": [
    {
     "name": "stdout",
     "output_type": "stream",
     "text": [
      "<class 'pandas.core.frame.DataFrame'>\n",
      "RangeIndex: 1316 entries, 0 to 1315\n",
      "Data columns (total 26 columns):\n",
      " #   Column                 Non-Null Count  Dtype  \n",
      "---  ------                 --------------  -----  \n",
      " 0   imdb_id                1316 non-null   object \n",
      " 1   adult                  1315 non-null   float64\n",
      " 2   backdrop_path          699 non-null    object \n",
      " 3   belongs_to_collection  92 non-null     object \n",
      " 4   budget                 1315 non-null   float64\n",
      " 5   genres                 1315 non-null   object \n",
      " 6   homepage               1315 non-null   object \n",
      " 7   id                     1315 non-null   float64\n",
      " 8   original_language      1315 non-null   object \n",
      " 9   original_title         1315 non-null   object \n",
      " 10  overview               1315 non-null   object \n",
      " 11  popularity             1315 non-null   float64\n",
      " 12  poster_path            1181 non-null   object \n",
      " 13  production_companies   1315 non-null   object \n",
      " 14  production_countries   1315 non-null   object \n",
      " 15  release_date           1315 non-null   object \n",
      " 16  revenue                1315 non-null   float64\n",
      " 17  runtime                1315 non-null   float64\n",
      " 18  spoken_languages       1315 non-null   object \n",
      " 19  status                 1315 non-null   object \n",
      " 20  tagline                1315 non-null   object \n",
      " 21  title                  1315 non-null   object \n",
      " 22  video                  1315 non-null   float64\n",
      " 23  vote_average           1315 non-null   float64\n",
      " 24  vote_count             1315 non-null   float64\n",
      " 25  certification          871 non-null    object \n",
      "dtypes: float64(9), object(17)\n",
      "memory usage: 267.4+ KB\n"
     ]
    }
   ],
   "source": [
    "df_api_2001.info()"
   ]
  },
  {
   "cell_type": "code",
   "execution_count": 21,
   "id": "5593ee6f",
   "metadata": {},
   "outputs": [],
   "source": [
    "#combine the two dataframes\n",
    "combined_df = pd.concat([df_api_2000, df_api_2001], ignore_index=True, sort=False)"
   ]
  },
  {
   "cell_type": "code",
   "execution_count": 23,
   "id": "38d99733",
   "metadata": {
    "scrolled": false
   },
   "outputs": [
    {
     "name": "stdout",
     "output_type": "stream",
     "text": [
      "<class 'pandas.core.frame.DataFrame'>\n",
      "RangeIndex: 2544 entries, 0 to 2543\n",
      "Data columns (total 26 columns):\n",
      " #   Column                 Non-Null Count  Dtype  \n",
      "---  ------                 --------------  -----  \n",
      " 0   imdb_id                2544 non-null   object \n",
      " 1   adult                  2542 non-null   float64\n",
      " 2   backdrop_path          1369 non-null   object \n",
      " 3   belongs_to_collection  204 non-null    object \n",
      " 4   budget                 2542 non-null   float64\n",
      " 5   genres                 2542 non-null   object \n",
      " 6   homepage               2542 non-null   object \n",
      " 7   id                     2542 non-null   float64\n",
      " 8   original_language      2542 non-null   object \n",
      " 9   original_title         2542 non-null   object \n",
      " 10  overview               2542 non-null   object \n",
      " 11  popularity             2542 non-null   float64\n",
      " 12  poster_path            2284 non-null   object \n",
      " 13  production_companies   2542 non-null   object \n",
      " 14  production_countries   2542 non-null   object \n",
      " 15  release_date           2542 non-null   object \n",
      " 16  revenue                2542 non-null   float64\n",
      " 17  runtime                2542 non-null   float64\n",
      " 18  spoken_languages       2542 non-null   object \n",
      " 19  status                 2542 non-null   object \n",
      " 20  tagline                2542 non-null   object \n",
      " 21  title                  2542 non-null   object \n",
      " 22  video                  2542 non-null   float64\n",
      " 23  vote_average           2542 non-null   float64\n",
      " 24  vote_count             2542 non-null   float64\n",
      " 25  certification          1662 non-null   object \n",
      "dtypes: float64(9), object(17)\n",
      "memory usage: 516.9+ KB\n"
     ]
    }
   ],
   "source": [
    "combined_df.info()"
   ]
  },
  {
   "cell_type": "markdown",
   "id": "dc14924b",
   "metadata": {},
   "source": [
    "### Visual #1"
   ]
  },
  {
   "cell_type": "markdown",
   "id": "bebefb05",
   "metadata": {},
   "source": [
    "- - How many movies had at least some valid financial information (values > 0 for budget OR revenue)? Please exclude any movies with 0's for budget AND revenue from the remaining visualizations."
   ]
  },
  {
   "cell_type": "code",
   "execution_count": 24,
   "id": "7efd624b",
   "metadata": {},
   "outputs": [
    {
     "data": {
      "image/png": "[encoded data removed]",
      "text/plain": [
       "<Figure size 640x480 with 1 Axes>"
      ]
     },
     "metadata": {},
     "output_type": "display_data"
    }
   ],
   "source": [
    "combined_monies = (combined_df[\"budget\"]> 0) | (combined_df['revenue'] > 0)\n",
    "\n",
    "plot=combined_df[combined_monies]\n",
    "\n",
    "ax= sns.countplot(x=combined_monies)\n",
    "ax.set_title('Financial Earnings', fontfamily='serif',fontsize = 20, fontweight = 'bold');\n",
    "ax.set_xlabel('xxx', fontfamily= 'serif', fontsize = 15, fontweight = 'bold')\n",
    "plt.xlabel('Revenue and Budget')\n",
    "ax.set_xticklabels(['Made No Money', 'Made Money'])\n",
    "plt.ylabel('Count')\n",
    "ax.spines['right'].set_visible(False)\n",
    "ax.spines['top'].set_visible(False)\n"
   ]
  },
  {
   "cell_type": "markdown",
   "id": "77e2c8ad",
   "metadata": {},
   "source": [
    "### Visual #2"
   ]
  },
  {
   "cell_type": "markdown",
   "id": "d8e3a036",
   "metadata": {},
   "source": [
    "-  How many movies are there in each of the certification categories (G/PG/PG-13/R)?"
   ]
  },
  {
   "cell_type": "code",
   "execution_count": 25,
   "id": "33f5a2fa",
   "metadata": {},
   "outputs": [
    {
     "data": {
      "text/plain": [
       "           855\n",
       "R          458\n",
       "PG-13      183\n",
       "NR          72\n",
       "PG          62\n",
       "G           24\n",
       "NC-17        6\n",
       "Unrated      1\n",
       "-            1\n",
       "Name: certification, dtype: int64"
      ]
     },
     "execution_count": 25,
     "metadata": {},
     "output_type": "execute_result"
    }
   ],
   "source": [
    "#check the certification counts\n",
    "combined_df['certification'].value_counts()"
   ]
  },
  {
   "cell_type": "code",
   "execution_count": 26,
   "id": "a2834819",
   "metadata": {},
   "outputs": [
    {
     "data": {
      "image/png": "[encoded data removed]",
      "text/plain": [
       "<Figure size 640x480 with 1 Axes>"
      ]
     },
     "metadata": {},
     "output_type": "display_data"
    }
   ],
   "source": [
    "#create the countplot\n",
    "ax= sns.countplot(data=combined_df, y='certification')\n",
    "ax.set_title('Motion Picture Rating', fontfamily='serif',fontsize = 20, fontweight = 'bold');\n",
    "\n",
    "plt.xlabel('Count')\n",
    "plt.ylabel('Rating', fontfamily='Arial Rounded MT Bold', fontsize = 15, rotation = 0)\n",
    "ax.spines['right'].set_visible(False)\n",
    "ax.spines['top'].set_visible(False)\n",
    "ax.set_yticklabels(labels = ['No rating','PG', 'R', 'G', 'NR', 'PG-13','NC-17', 'Unrated', 'Unknown'], \n",
    "                   rotation=45, \n",
    "                   fontstyle='italic', \n",
    "                   color='black');"
   ]
  },
  {
   "cell_type": "markdown",
   "id": "e7333c00",
   "metadata": {},
   "source": [
    "### Visual #3"
   ]
  },
  {
   "cell_type": "markdown",
   "id": "2c897894",
   "metadata": {},
   "source": [
    "- What is the average revenue per certification category?\n"
   ]
  },
  {
   "cell_type": "code",
   "execution_count": 46,
   "id": "976b499a",
   "metadata": {},
   "outputs": [],
   "source": [
    "import matplotlib.ticker as tkr\n",
    "\n",
    "def func(x, pos):  # formatter function takes tick label and tick position\n",
    "   s = '{:0,d}'.format(int(x))\n",
    "   return s\n",
    "\n",
    "\n",
    "y_format = tkr.FuncFormatter(func)  # make formatter\n"
   ]
  },
  {
   "cell_type": "code",
   "execution_count": 47,
   "id": "1802d0e0",
   "metadata": {},
   "outputs": [
    {
     "data": {
      "image/png": "[encoded data removed]",
      "text/plain": [
       "<Figure size 640x480 with 1 Axes>"
      ]
     },
     "metadata": {},
     "output_type": "display_data"
    }
   ],
   "source": [
    "ax=sns.barplot(data=plot, x='certification', y= 'revenue', errorbar=None);\n",
    "ax.set_title('Average Revenue per Movie Rating', fontfamily='serif',fontsize = 20, fontweight = 'bold');\n",
    "\n",
    "plt.xlabel('Rating')\n",
    "plt.ylabel('Revenue', fontfamily='Arial Rounded MT Bold', fontsize = 15)\n",
    "plt.ticklabel_format(style='plain', axis='y')\n",
    "ax.yaxis.set_major_formatter(y_format)  # set formatter to needed axis\n",
    "\n",
    "ax.spines['right'].set_visible(False)\n",
    "ax.spines['top'].set_visible(False)\n",
    "ax.set_xticklabels(labels = ['No rating','PG', 'R', 'G', 'PG-13','NR'], \n",
    "                   rotation=45, \n",
    "                   fontstyle='italic', \n",
    "                   color='black');"
   ]
  },
  {
   "cell_type": "markdown",
   "id": "16fed1f2",
   "metadata": {},
   "source": [
    "- What is the average budget per certification category?\n"
   ]
  },
  {
   "cell_type": "code",
   "execution_count": 48,
   "id": "97609a80",
   "metadata": {},
   "outputs": [
    {
     "data": {
      "image/png": "[encoded data removed]",
      "text/plain": [
       "<Figure size 640x480 with 1 Axes>"
      ]
     },
     "metadata": {},
     "output_type": "display_data"
    }
   ],
   "source": [
    "#create the visual\n",
    "ax=sns.barplot(data=plot, x='certification', y= 'revenue', errorbar=None);\n",
    "ax.set_title('Average Revenue per Movie Rating', fontfamily='serif',fontsize = 20, fontweight = 'bold');\n",
    "\n",
    "plt.xlabel('Rating')\n",
    "plt.ylabel('Revenue', fontfamily='Arial Rounded MT Bold', fontsize = 15)\n",
    "plt.ticklabel_format(style='plain', axis='y')\n",
    "ax.yaxis.set_major_formatter(y_format)  # set formatter to needed axis\n",
    "\n",
    "ax.spines['right'].set_visible(False)\n",
    "ax.spines['top'].set_visible(False)\n",
    "ax.set_xticklabels(labels = ['No rating','PG', 'R', 'G', 'PG-13','NR'], \n",
    "                   rotation=45, \n",
    "                   fontstyle='italic', \n",
    "                   color='black');"
   ]
  }
 ],
 "metadata": {
  "kernelspec": {
   "display_name": "Python (dojo-env)",
   "language": "python",
   "name": "dojo-env"
  },
  "language_info": {
   "codemirror_mode": {
    "name": "ipython",
    "version": 3
   },
   "file_extension": ".py",
   "mimetype": "text/x-python",
   "name": "python",
   "nbconvert_exporter": "python",
   "pygments_lexer": "ipython3",
   "version": "3.9.15"
  },
  "toc": {
   "base_numbering": 1,
   "nav_menu": {},
   "number_sections": true,
   "sideBar": true,
   "skip_h1_title": false,
   "title_cell": "Table of Contents",
   "title_sidebar": "Contents",
   "toc_cell": false,
   "toc_position": {},
   "toc_section_display": true,
   "toc_window_display": true
  }
 },
 "nbformat": 4,
 "nbformat_minor": 5
}
