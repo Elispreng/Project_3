{
 "cells": [
  {
   "cell_type": "markdown",
   "id": "dbc2fea6",
   "metadata": {},
   "source": [
    "# Create Project"
   ]
  },
  {
   "cell_type": "code",
   "execution_count": 1,
   "id": "30ff084c",
   "metadata": {},
   "outputs": [],
   "source": [
    "#import libraries \n",
    "import json\n",
    "import pandas as pd\n",
    "import numpy as np\n",
    "import seaborn as sns\n",
    "import matplotlib.pyplot as plt\n",
    "\n",
    "# Stats materials\n",
    "from scipy import stats\n",
    "import scipy.stats as stats\n",
    "\n",
    "# import SQL materials\n",
    "from sqlalchemy import create_engine\n",
    "from sqlalchemy_utils import database_exists\n",
    "import pymysql\n",
    "pymysql.install_as_MySQLdb()\n",
    "from urllib.parse import quote_plus as urlquote\n",
    "from sqlalchemy_utils import create_database, database_exists"
   ]
  },
  {
   "cell_type": "code",
   "execution_count": 93,
   "id": "19c053a1",
   "metadata": {
    "scrolled": false
   },
   "outputs": [
    {
     "data": {
      "text/html": [
       "<div>\n",
       "<style scoped>\n",
       "    .dataframe tbody tr th:only-of-type {\n",
       "        vertical-align: middle;\n",
       "    }\n",
       "\n",
       "    .dataframe tbody tr th {\n",
       "        vertical-align: top;\n",
       "    }\n",
       "\n",
       "    .dataframe thead th {\n",
       "        text-align: right;\n",
       "    }\n",
       "</style>\n",
       "<table border=\"1\" class=\"dataframe\">\n",
       "  <thead>\n",
       "    <tr style=\"text-align: right;\">\n",
       "      <th></th>\n",
       "      <th>imdb_id</th>\n",
       "      <th>adult</th>\n",
       "      <th>backdrop_path</th>\n",
       "      <th>belongs_to_collection</th>\n",
       "      <th>budget</th>\n",
       "      <th>genres</th>\n",
       "      <th>homepage</th>\n",
       "      <th>id</th>\n",
       "      <th>original_language</th>\n",
       "      <th>original_title</th>\n",
       "      <th>...</th>\n",
       "      <th>revenue</th>\n",
       "      <th>runtime</th>\n",
       "      <th>spoken_languages</th>\n",
       "      <th>status</th>\n",
       "      <th>tagline</th>\n",
       "      <th>title</th>\n",
       "      <th>video</th>\n",
       "      <th>vote_average</th>\n",
       "      <th>vote_count</th>\n",
       "      <th>certification</th>\n",
       "    </tr>\n",
       "  </thead>\n",
       "  <tbody>\n",
       "    <tr>\n",
       "      <th>0</th>\n",
       "      <td>0</td>\n",
       "      <td>NaN</td>\n",
       "      <td>NaN</td>\n",
       "      <td>NaN</td>\n",
       "      <td>NaN</td>\n",
       "      <td>NaN</td>\n",
       "      <td>NaN</td>\n",
       "      <td>NaN</td>\n",
       "      <td>NaN</td>\n",
       "      <td>NaN</td>\n",
       "      <td>...</td>\n",
       "      <td>NaN</td>\n",
       "      <td>NaN</td>\n",
       "      <td>NaN</td>\n",
       "      <td>NaN</td>\n",
       "      <td>NaN</td>\n",
       "      <td>NaN</td>\n",
       "      <td>NaN</td>\n",
       "      <td>NaN</td>\n",
       "      <td>NaN</td>\n",
       "      <td>NaN</td>\n",
       "    </tr>\n",
       "    <tr>\n",
       "      <th>1</th>\n",
       "      <td>tt0113026</td>\n",
       "      <td>0.0</td>\n",
       "      <td>/vMFs7nw6P0bIV1jDsQpxAieAVnH.jpg</td>\n",
       "      <td>NaN</td>\n",
       "      <td>10000000.0</td>\n",
       "      <td>[{'id': 35, 'name': 'Comedy'}, {'id': 10402, '...</td>\n",
       "      <td>NaN</td>\n",
       "      <td>62127.0</td>\n",
       "      <td>en</td>\n",
       "      <td>The Fantasticks</td>\n",
       "      <td>...</td>\n",
       "      <td>0.0</td>\n",
       "      <td>86.0</td>\n",
       "      <td>[{'english_name': 'English', 'iso_639_1': 'en'...</td>\n",
       "      <td>Released</td>\n",
       "      <td>Try to remember the first time magic happened</td>\n",
       "      <td>The Fantasticks</td>\n",
       "      <td>0.0</td>\n",
       "      <td>5.5</td>\n",
       "      <td>22.0</td>\n",
       "      <td>NaN</td>\n",
       "    </tr>\n",
       "  </tbody>\n",
       "</table>\n",
       "<p>2 rows × 26 columns</p>\n",
       "</div>"
      ],
      "text/plain": [
       "     imdb_id  adult                     backdrop_path belongs_to_collection  \\\n",
       "0          0    NaN                               NaN                   NaN   \n",
       "1  tt0113026    0.0  /vMFs7nw6P0bIV1jDsQpxAieAVnH.jpg                   NaN   \n",
       "\n",
       "       budget                                             genres homepage  \\\n",
       "0         NaN                                                NaN      NaN   \n",
       "1  10000000.0  [{'id': 35, 'name': 'Comedy'}, {'id': 10402, '...      NaN   \n",
       "\n",
       "        id original_language   original_title  ... revenue  runtime  \\\n",
       "0      NaN               NaN              NaN  ...     NaN      NaN   \n",
       "1  62127.0                en  The Fantasticks  ...     0.0     86.0   \n",
       "\n",
       "                                    spoken_languages    status  \\\n",
       "0                                                NaN       NaN   \n",
       "1  [{'english_name': 'English', 'iso_639_1': 'en'...  Released   \n",
       "\n",
       "                                         tagline            title  video  \\\n",
       "0                                            NaN              NaN    NaN   \n",
       "1  Try to remember the first time magic happened  The Fantasticks    0.0   \n",
       "\n",
       "   vote_average vote_count certification  \n",
       "0           NaN        NaN           NaN  \n",
       "1           5.5       22.0           NaN  \n",
       "\n",
       "[2 rows x 26 columns]"
      ]
     },
     "execution_count": 93,
     "metadata": {},
     "output_type": "execute_result"
    }
   ],
   "source": [
    "# import the data\n",
    "filename = 'Data4/tmdb_results_combined.csv.gz'\n",
    "firsthypo_df=pd.read_csv(filename)\n",
    "#check that the data loaded\n",
    "firsthypo_df.head(2)"
   ]
  },
  {
   "cell_type": "code",
   "execution_count": 19,
   "id": "dd7c138b",
   "metadata": {},
   "outputs": [
    {
     "name": "stdout",
     "output_type": "stream",
     "text": [
      "<class 'pandas.core.frame.DataFrame'>\n",
      "RangeIndex: 2547 entries, 0 to 2546\n",
      "Data columns (total 26 columns):\n",
      " #   Column                 Non-Null Count  Dtype  \n",
      "---  ------                 --------------  -----  \n",
      " 0   imdb_id                2547 non-null   object \n",
      " 1   adult                  2545 non-null   float64\n",
      " 2   backdrop_path          1374 non-null   object \n",
      " 3   belongs_to_collection  204 non-null    object \n",
      " 4   budget                 2545 non-null   float64\n",
      " 5   genres                 2545 non-null   object \n",
      " 6   homepage               172 non-null    object \n",
      " 7   id                     2545 non-null   float64\n",
      " 8   original_language      2545 non-null   object \n",
      " 9   original_title         2545 non-null   object \n",
      " 10  overview               2494 non-null   object \n",
      " 11  popularity             2545 non-null   float64\n",
      " 12  poster_path            2288 non-null   object \n",
      " 13  production_companies   2545 non-null   object \n",
      " 14  production_countries   2545 non-null   object \n",
      " 15  release_date           2528 non-null   object \n",
      " 16  revenue                2545 non-null   float64\n",
      " 17  runtime                2545 non-null   float64\n",
      " 18  spoken_languages       2545 non-null   object \n",
      " 19  status                 2545 non-null   object \n",
      " 20  tagline                1091 non-null   object \n",
      " 21  title                  2545 non-null   object \n",
      " 22  video                  2545 non-null   float64\n",
      " 23  vote_average           2545 non-null   float64\n",
      " 24  vote_count             2545 non-null   float64\n",
      " 25  certification          809 non-null    object \n",
      "dtypes: float64(9), object(17)\n",
      "memory usage: 517.5+ KB\n"
     ]
    }
   ],
   "source": [
    "#check info\n",
    "firsthypo_df.info()"
   ]
  },
  {
   "cell_type": "markdown",
   "id": "200a8f84",
   "metadata": {},
   "source": [
    "# Preparing Data"
   ]
  },
  {
   "cell_type": "markdown",
   "id": "91f55a1e",
   "metadata": {},
   "source": [
    "## First hypothesis"
   ]
  },
  {
   "cell_type": "code",
   "execution_count": 20,
   "id": "83853e24",
   "metadata": {
    "scrolled": true
   },
   "outputs": [
    {
     "data": {
      "text/plain": [
       "R          459\n",
       "PG-13      183\n",
       "NR          73\n",
       "PG          62\n",
       "G           24\n",
       "NC-17        6\n",
       "Unrated      1\n",
       "-            1\n",
       "Name: certification, dtype: int64"
      ]
     },
     "execution_count": 20,
     "metadata": {},
     "output_type": "execute_result"
    }
   ],
   "source": [
    "# check the value counts on certification column for first hypothesis\n",
    "firsthypo_df['certification'].value_counts()\n"
   ]
  },
  {
   "cell_type": "code",
   "execution_count": 21,
   "id": "e1006052",
   "metadata": {},
   "outputs": [
    {
     "name": "stdout",
     "output_type": "stream",
     "text": [
      "0.68% of the data in the certification column is missing\n"
     ]
    }
   ],
   "source": [
    "# explore the  missing data\n",
    "num_missing = firsthypo_df['certification'].isna().sum()\n",
    "\n",
    "total_rows = firsthypo_df.shape[0]\n",
    "\n",
    "percent_missing = num_missing / total_rows\n",
    "print(f'{percent_missing:.2f}% of the data in the certification column is missing')"
   ]
  },
  {
   "cell_type": "code",
   "execution_count": 22,
   "id": "bc8f8a5d",
   "metadata": {
    "scrolled": false
   },
   "outputs": [
    {
     "data": {
      "text/html": [
       "<div>\n",
       "<style scoped>\n",
       "    .dataframe tbody tr th:only-of-type {\n",
       "        vertical-align: middle;\n",
       "    }\n",
       "\n",
       "    .dataframe tbody tr th {\n",
       "        vertical-align: top;\n",
       "    }\n",
       "\n",
       "    .dataframe thead th {\n",
       "        text-align: right;\n",
       "    }\n",
       "</style>\n",
       "<table border=\"1\" class=\"dataframe\">\n",
       "  <thead>\n",
       "    <tr style=\"text-align: right;\">\n",
       "      <th></th>\n",
       "      <th>imdb_id</th>\n",
       "      <th>adult</th>\n",
       "      <th>backdrop_path</th>\n",
       "      <th>belongs_to_collection</th>\n",
       "      <th>budget</th>\n",
       "      <th>genres</th>\n",
       "      <th>homepage</th>\n",
       "      <th>id</th>\n",
       "      <th>original_language</th>\n",
       "      <th>original_title</th>\n",
       "      <th>...</th>\n",
       "      <th>revenue</th>\n",
       "      <th>runtime</th>\n",
       "      <th>spoken_languages</th>\n",
       "      <th>status</th>\n",
       "      <th>tagline</th>\n",
       "      <th>title</th>\n",
       "      <th>video</th>\n",
       "      <th>vote_average</th>\n",
       "      <th>vote_count</th>\n",
       "      <th>certification</th>\n",
       "    </tr>\n",
       "  </thead>\n",
       "  <tbody>\n",
       "    <tr>\n",
       "      <th>2057</th>\n",
       "      <td>tt0282526</td>\n",
       "      <td>0.0</td>\n",
       "      <td>NaN</td>\n",
       "      <td>NaN</td>\n",
       "      <td>0.0</td>\n",
       "      <td>[{'id': 18, 'name': 'Drama'}]</td>\n",
       "      <td>NaN</td>\n",
       "      <td>172550.0</td>\n",
       "      <td>it</td>\n",
       "      <td>Giorni</td>\n",
       "      <td>...</td>\n",
       "      <td>0.0</td>\n",
       "      <td>90.0</td>\n",
       "      <td>[{'english_name': 'Italian', 'iso_639_1': 'it'...</td>\n",
       "      <td>Released</td>\n",
       "      <td>NaN</td>\n",
       "      <td>Days</td>\n",
       "      <td>0.0</td>\n",
       "      <td>5.4</td>\n",
       "      <td>8.0</td>\n",
       "      <td>-</td>\n",
       "    </tr>\n",
       "  </tbody>\n",
       "</table>\n",
       "<p>1 rows × 26 columns</p>\n",
       "</div>"
      ],
      "text/plain": [
       "        imdb_id  adult backdrop_path belongs_to_collection  budget  \\\n",
       "2057  tt0282526    0.0           NaN                   NaN     0.0   \n",
       "\n",
       "                             genres homepage        id original_language  \\\n",
       "2057  [{'id': 18, 'name': 'Drama'}]      NaN  172550.0                it   \n",
       "\n",
       "     original_title  ... revenue  runtime  \\\n",
       "2057         Giorni  ...     0.0     90.0   \n",
       "\n",
       "                                       spoken_languages    status tagline  \\\n",
       "2057  [{'english_name': 'Italian', 'iso_639_1': 'it'...  Released     NaN   \n",
       "\n",
       "     title  video  vote_average vote_count certification  \n",
       "2057  Days    0.0           5.4        8.0             -  \n",
       "\n",
       "[1 rows x 26 columns]"
      ]
     },
     "execution_count": 22,
     "metadata": {},
     "output_type": "execute_result"
    }
   ],
   "source": [
    "# find the row with - rating\n",
    "firsthypo_df.loc[firsthypo_df['certification'] == '-']"
   ]
  },
  {
   "cell_type": "code",
   "execution_count": 23,
   "id": "b69563a4",
   "metadata": {},
   "outputs": [],
   "source": [
    "#  drop the row, it has 0 revenue\n",
    "#firsthypo_df=firsthypo_df.dropna(firsthypo_df['certification']==['-'], inplace=True)\n",
    "#firsthypo_df.drop(2056)\n",
    "firsthypo_df = firsthypo_df.loc[firsthypo_df['certification'] != '-']"
   ]
  },
  {
   "cell_type": "code",
   "execution_count": 24,
   "id": "9829bcb1",
   "metadata": {},
   "outputs": [
    {
     "data": {
      "text/plain": [
       "R          459\n",
       "PG-13      183\n",
       "NR          73\n",
       "PG          62\n",
       "G           24\n",
       "NC-17        6\n",
       "Unrated      1\n",
       "Name: certification, dtype: int64"
      ]
     },
     "execution_count": 24,
     "metadata": {},
     "output_type": "execute_result"
    }
   ],
   "source": [
    "# check the value counts on certification column for first hypothesis\n",
    "firsthypo_df['certification'].value_counts()\n"
   ]
  },
  {
   "cell_type": "code",
   "execution_count": 25,
   "id": "73609315",
   "metadata": {},
   "outputs": [],
   "source": [
    "# drop the unrated column\n",
    "firsthypo_df = firsthypo_df.loc[firsthypo_df['certification'] != 'Unrated']"
   ]
  },
  {
   "cell_type": "code",
   "execution_count": 26,
   "id": "6431483f",
   "metadata": {
    "scrolled": true
   },
   "outputs": [
    {
     "data": {
      "text/plain": [
       "R        459\n",
       "PG-13    183\n",
       "NR        73\n",
       "PG        62\n",
       "G         24\n",
       "Name: certification, dtype: int64"
      ]
     },
     "execution_count": 26,
     "metadata": {},
     "output_type": "execute_result"
    }
   ],
   "source": [
    "# resolve small data counts by creating  new column  and check value\n",
    "firsthypo_df['certification'].value_counts(cer)"
   ]
  },
  {
   "cell_type": "code",
   "execution_count": 30,
   "id": "ce64b9e8",
   "metadata": {},
   "outputs": [],
   "source": [
    "#drop null values in certification column\n",
    "firsthypo_df = firsthypo_df.dropna(subset=['certification'])"
   ]
  },
  {
   "cell_type": "code",
   "execution_count": 75,
   "id": "45729799",
   "metadata": {},
   "outputs": [
    {
     "data": {
      "text/plain": [
       "count                               801\n",
       "unique                              329\n",
       "top       [{'id': 18, 'name': 'Drama'}]\n",
       "freq                                 70\n",
       "Name: genres, dtype: object"
      ]
     },
     "execution_count": 75,
     "metadata": {},
     "output_type": "execute_result"
    }
   ],
   "source": [
    "firsthypo_df['genres'].describe()"
   ]
  },
  {
   "cell_type": "markdown",
   "id": "00b80140",
   "metadata": {},
   "source": [
    "## Second Hypothesis- Option 2"
   ]
  },
  {
   "cell_type": "code",
   "execution_count": 79,
   "id": "034a6368",
   "metadata": {},
   "outputs": [],
   "source": [
    "# open 2018 data json\n",
    "with open('Data4/tmdb_api_results_2018.json') as f:\n",
    "    tmbd_2018=json.load(f)\n"
   ]
  },
  {
   "cell_type": "code",
   "execution_count": 136,
   "id": "cb506562",
   "metadata": {},
   "outputs": [],
   "source": [
    "#read the data\n",
    "df_2018 = pd.read_json('Data4/tmdb_api_results_2018.json')"
   ]
  },
  {
   "cell_type": "code",
   "execution_count": 81,
   "id": "7c7993bc",
   "metadata": {},
   "outputs": [
    {
     "data": {
      "text/html": [
       "<div>\n",
       "<style scoped>\n",
       "    .dataframe tbody tr th:only-of-type {\n",
       "        vertical-align: middle;\n",
       "    }\n",
       "\n",
       "    .dataframe tbody tr th {\n",
       "        vertical-align: top;\n",
       "    }\n",
       "\n",
       "    .dataframe thead th {\n",
       "        text-align: right;\n",
       "    }\n",
       "</style>\n",
       "<table border=\"1\" class=\"dataframe\">\n",
       "  <thead>\n",
       "    <tr style=\"text-align: right;\">\n",
       "      <th></th>\n",
       "      <th>imdb_id</th>\n",
       "      <th>adult</th>\n",
       "      <th>backdrop_path</th>\n",
       "      <th>belongs_to_collection</th>\n",
       "      <th>budget</th>\n",
       "      <th>genres</th>\n",
       "      <th>homepage</th>\n",
       "      <th>id</th>\n",
       "      <th>original_language</th>\n",
       "      <th>original_title</th>\n",
       "      <th>...</th>\n",
       "      <th>revenue</th>\n",
       "      <th>runtime</th>\n",
       "      <th>spoken_languages</th>\n",
       "      <th>status</th>\n",
       "      <th>tagline</th>\n",
       "      <th>title</th>\n",
       "      <th>video</th>\n",
       "      <th>vote_average</th>\n",
       "      <th>vote_count</th>\n",
       "      <th>certification</th>\n",
       "    </tr>\n",
       "  </thead>\n",
       "  <tbody>\n",
       "    <tr>\n",
       "      <th>0</th>\n",
       "      <td>0</td>\n",
       "      <td>NaN</td>\n",
       "      <td>NaN</td>\n",
       "      <td>NaN</td>\n",
       "      <td>NaN</td>\n",
       "      <td>NaN</td>\n",
       "      <td>NaN</td>\n",
       "      <td>NaN</td>\n",
       "      <td>NaN</td>\n",
       "      <td>NaN</td>\n",
       "      <td>...</td>\n",
       "      <td>NaN</td>\n",
       "      <td>NaN</td>\n",
       "      <td>NaN</td>\n",
       "      <td>NaN</td>\n",
       "      <td>NaN</td>\n",
       "      <td>NaN</td>\n",
       "      <td>NaN</td>\n",
       "      <td>NaN</td>\n",
       "      <td>NaN</td>\n",
       "      <td>NaN</td>\n",
       "    </tr>\n",
       "    <tr>\n",
       "      <th>1</th>\n",
       "      <td>tt0069049</td>\n",
       "      <td>0.0</td>\n",
       "      <td>/zjG95oDnBcFKMPgBEmmuNVOMC90.jpg</td>\n",
       "      <td>None</td>\n",
       "      <td>12000000.0</td>\n",
       "      <td>[{'id': 18, 'name': 'Drama'}]</td>\n",
       "      <td>https://www.netflix.com/title/80085566</td>\n",
       "      <td>299782.0</td>\n",
       "      <td>en</td>\n",
       "      <td>The Other Side of the Wind</td>\n",
       "      <td>...</td>\n",
       "      <td>0.0</td>\n",
       "      <td>122.0</td>\n",
       "      <td>[{'english_name': 'English', 'iso_639_1': 'en'...</td>\n",
       "      <td>Released</td>\n",
       "      <td>40 years in the making</td>\n",
       "      <td>The Other Side of the Wind</td>\n",
       "      <td>0.0</td>\n",
       "      <td>6.7</td>\n",
       "      <td>155.0</td>\n",
       "      <td>R</td>\n",
       "    </tr>\n",
       "    <tr>\n",
       "      <th>2</th>\n",
       "      <td>tt0192528</td>\n",
       "      <td>0.0</td>\n",
       "      <td>/kOxAfSyHZEDEhOCic8TxXprUg4T.jpg</td>\n",
       "      <td>None</td>\n",
       "      <td>5000000.0</td>\n",
       "      <td>[{'id': 18, 'name': 'Drama'}]</td>\n",
       "      <td>None</td>\n",
       "      <td>567662.0</td>\n",
       "      <td>en</td>\n",
       "      <td>Reverse Heaven</td>\n",
       "      <td>...</td>\n",
       "      <td>0.0</td>\n",
       "      <td>104.0</td>\n",
       "      <td>[{'english_name': 'English', 'iso_639_1': 'en'...</td>\n",
       "      <td>Released</td>\n",
       "      <td>Heaven's in trouble and there's one man who ca...</td>\n",
       "      <td>Heaven &amp; Hell</td>\n",
       "      <td>0.0</td>\n",
       "      <td>7.2</td>\n",
       "      <td>5.0</td>\n",
       "      <td></td>\n",
       "    </tr>\n",
       "    <tr>\n",
       "      <th>3</th>\n",
       "      <td>tt0360556</td>\n",
       "      <td>0.0</td>\n",
       "      <td>/7oy4miyq4WYYy0xtX6lbNVPrEsr.jpg</td>\n",
       "      <td>None</td>\n",
       "      <td>0.0</td>\n",
       "      <td>[{'id': 18, 'name': 'Drama'}, {'id': 878, 'nam...</td>\n",
       "      <td>https://www.hbo.com/movies/fahrenheit-451</td>\n",
       "      <td>401905.0</td>\n",
       "      <td>en</td>\n",
       "      <td>Fahrenheit 451</td>\n",
       "      <td>...</td>\n",
       "      <td>0.0</td>\n",
       "      <td>100.0</td>\n",
       "      <td>[{'english_name': 'English', 'iso_639_1': 'en'...</td>\n",
       "      <td>Released</td>\n",
       "      <td>Knowledge is a dangerous thing</td>\n",
       "      <td>Fahrenheit 451</td>\n",
       "      <td>0.0</td>\n",
       "      <td>5.4</td>\n",
       "      <td>686.0</td>\n",
       "      <td>PG-13</td>\n",
       "    </tr>\n",
       "    <tr>\n",
       "      <th>4</th>\n",
       "      <td>tt0365545</td>\n",
       "      <td>0.0</td>\n",
       "      <td>/ljTYcQ3pkzYF52Z8ev1Z1UThnPy.jpg</td>\n",
       "      <td>None</td>\n",
       "      <td>0.0</td>\n",
       "      <td>[{'id': 35, 'name': 'Comedy'}, {'id': 10749, '...</td>\n",
       "      <td>https://www.netflix.com/title/80189630</td>\n",
       "      <td>519035.0</td>\n",
       "      <td>en</td>\n",
       "      <td>Nappily Ever After</td>\n",
       "      <td>...</td>\n",
       "      <td>0.0</td>\n",
       "      <td>100.0</td>\n",
       "      <td>[{'english_name': 'English', 'iso_639_1': 'en'...</td>\n",
       "      <td>Released</td>\n",
       "      <td>Let yourself grow</td>\n",
       "      <td>Nappily Ever After</td>\n",
       "      <td>0.0</td>\n",
       "      <td>7.2</td>\n",
       "      <td>752.0</td>\n",
       "      <td></td>\n",
       "    </tr>\n",
       "  </tbody>\n",
       "</table>\n",
       "<p>5 rows × 26 columns</p>\n",
       "</div>"
      ],
      "text/plain": [
       "     imdb_id  adult                     backdrop_path belongs_to_collection  \\\n",
       "0          0    NaN                               NaN                   NaN   \n",
       "1  tt0069049    0.0  /zjG95oDnBcFKMPgBEmmuNVOMC90.jpg                  None   \n",
       "2  tt0192528    0.0  /kOxAfSyHZEDEhOCic8TxXprUg4T.jpg                  None   \n",
       "3  tt0360556    0.0  /7oy4miyq4WYYy0xtX6lbNVPrEsr.jpg                  None   \n",
       "4  tt0365545    0.0  /ljTYcQ3pkzYF52Z8ev1Z1UThnPy.jpg                  None   \n",
       "\n",
       "       budget                                             genres  \\\n",
       "0         NaN                                                NaN   \n",
       "1  12000000.0                      [{'id': 18, 'name': 'Drama'}]   \n",
       "2   5000000.0                      [{'id': 18, 'name': 'Drama'}]   \n",
       "3         0.0  [{'id': 18, 'name': 'Drama'}, {'id': 878, 'nam...   \n",
       "4         0.0  [{'id': 35, 'name': 'Comedy'}, {'id': 10749, '...   \n",
       "\n",
       "                                    homepage        id original_language  \\\n",
       "0                                        NaN       NaN               NaN   \n",
       "1     https://www.netflix.com/title/80085566  299782.0                en   \n",
       "2                                       None  567662.0                en   \n",
       "3  https://www.hbo.com/movies/fahrenheit-451  401905.0                en   \n",
       "4     https://www.netflix.com/title/80189630  519035.0                en   \n",
       "\n",
       "               original_title  ... revenue  runtime  \\\n",
       "0                         NaN  ...     NaN      NaN   \n",
       "1  The Other Side of the Wind  ...     0.0    122.0   \n",
       "2              Reverse Heaven  ...     0.0    104.0   \n",
       "3              Fahrenheit 451  ...     0.0    100.0   \n",
       "4          Nappily Ever After  ...     0.0    100.0   \n",
       "\n",
       "                                    spoken_languages    status  \\\n",
       "0                                                NaN       NaN   \n",
       "1  [{'english_name': 'English', 'iso_639_1': 'en'...  Released   \n",
       "2  [{'english_name': 'English', 'iso_639_1': 'en'...  Released   \n",
       "3  [{'english_name': 'English', 'iso_639_1': 'en'...  Released   \n",
       "4  [{'english_name': 'English', 'iso_639_1': 'en'...  Released   \n",
       "\n",
       "                                             tagline  \\\n",
       "0                                                NaN   \n",
       "1                             40 years in the making   \n",
       "2  Heaven's in trouble and there's one man who ca...   \n",
       "3                     Knowledge is a dangerous thing   \n",
       "4                                  Let yourself grow   \n",
       "\n",
       "                        title  video  vote_average vote_count certification  \n",
       "0                         NaN    NaN           NaN        NaN           NaN  \n",
       "1  The Other Side of the Wind    0.0           6.7      155.0             R  \n",
       "2               Heaven & Hell    0.0           7.2        5.0                \n",
       "3              Fahrenheit 451    0.0           5.4      686.0         PG-13  \n",
       "4          Nappily Ever After    0.0           7.2      752.0                \n",
       "\n",
       "[5 rows x 26 columns]"
      ]
     },
     "execution_count": 81,
     "metadata": {},
     "output_type": "execute_result"
    }
   ],
   "source": [
    "df_2018.head()"
   ]
  },
  {
   "cell_type": "code",
   "execution_count": 149,
   "id": "0d8f8bd0",
   "metadata": {},
   "outputs": [],
   "source": [
    "#loading 2021 data, errors in reading 2020 data\n",
    "df_2021 = pd.read_csv('Data4/final_tmdb_data_2021.csv.gz', low_memory=False)\n"
   ]
  },
  {
   "cell_type": "code",
   "execution_count": 150,
   "id": "d0f5733c",
   "metadata": {},
   "outputs": [],
   "source": [
    "# create one dataframe\n",
    "combinedyears = pd.concat([df_2018, df_2021])\n"
   ]
  },
  {
   "cell_type": "code",
   "execution_count": 155,
   "id": "5906ddb0",
   "metadata": {},
   "outputs": [],
   "source": [
    "#seperate out years\n",
    "combinedyears['release_date'] = pd.to_datetime(combinedyears['release_date'])\n"
   ]
  },
  {
   "cell_type": "code",
   "execution_count": 156,
   "id": "657f3bb2",
   "metadata": {},
   "outputs": [
    {
     "name": "stdout",
     "output_type": "stream",
     "text": [
      "<class 'pandas.core.frame.DataFrame'>\n",
      "Int64Index: 8053 entries, 0 to 3532\n",
      "Data columns (total 27 columns):\n",
      " #   Column                 Non-Null Count  Dtype         \n",
      "---  ------                 --------------  -----         \n",
      " 0   imdb_id                8053 non-null   object        \n",
      " 1   adult                  8051 non-null   float64       \n",
      " 2   backdrop_path          6039 non-null   object        \n",
      " 3   belongs_to_collection  398 non-null    object        \n",
      " 4   budget                 8051 non-null   float64       \n",
      " 5   genres                 8051 non-null   object        \n",
      " 6   homepage               5107 non-null   object        \n",
      " 7   id                     8051 non-null   float64       \n",
      " 8   original_language      8051 non-null   object        \n",
      " 9   original_title         8051 non-null   object        \n",
      " 10  overview               7998 non-null   object        \n",
      " 11  popularity             8051 non-null   float64       \n",
      " 12  poster_path            7860 non-null   object        \n",
      " 13  production_companies   8051 non-null   object        \n",
      " 14  production_countries   8051 non-null   object        \n",
      " 15  release_date           7851 non-null   datetime64[ns]\n",
      " 16  revenue                8051 non-null   float64       \n",
      " 17  runtime                8009 non-null   float64       \n",
      " 18  spoken_languages       8051 non-null   object        \n",
      " 19  status                 8051 non-null   object        \n",
      " 20  tagline                5820 non-null   object        \n",
      " 21  title                  8051 non-null   object        \n",
      " 22  video                  8051 non-null   float64       \n",
      " 23  vote_average           8051 non-null   float64       \n",
      " 24  vote_count             8051 non-null   float64       \n",
      " 25  certification          3135 non-null   object        \n",
      " 26  year                   7851 non-null   float64       \n",
      "dtypes: datetime64[ns](1), float64(10), object(16)\n",
      "memory usage: 1.7+ MB\n"
     ]
    }
   ],
   "source": [
    "#create year column\n",
    "combinedyears['year'] = combinedyears['release_date'].dt.year\n",
    "combinedyears.info()"
   ]
  },
  {
   "cell_type": "code",
   "execution_count": 158,
   "id": "0b867f19",
   "metadata": {},
   "outputs": [],
   "source": [
    "# drop null values\n",
    "combinedyears = combinedyears.dropna(subset=['year','revenue'])\n"
   ]
  },
  {
   "cell_type": "code",
   "execution_count": 166,
   "id": "cd1abb7f",
   "metadata": {},
   "outputs": [
    {
     "name": "stderr",
     "output_type": "stream",
     "text": [
      "C:\\Users\\Elizabeth Spreng\\AppData\\Local\\Temp\\ipykernel_5080\\2425068754.py:2: SettingWithCopyWarning: \n",
      "A value is trying to be set on a copy of a slice from a DataFrame.\n",
      "Try using .loc[row_indexer,col_indexer] = value instead\n",
      "\n",
      "See the caveats in the documentation: https://pandas.pydata.org/pandas-docs/stable/user_guide/indexing.html#returning-a-view-versus-a-copy\n",
      "  combinedyears['year_2021'] = combinedyears['year'] == 2021\n"
     ]
    }
   ],
   "source": [
    "#create 201 column\n",
    "combinedyears['year_2021'] = combinedyears['year'] == 2021\n"
   ]
  },
  {
   "cell_type": "code",
   "execution_count": 167,
   "id": "d0b5dc33",
   "metadata": {
    "scrolled": true
   },
   "outputs": [
    {
     "data": {
      "text/plain": [
       "False    4680\n",
       "True     3171\n",
       "Name: year_2021, dtype: int64"
      ]
     },
     "execution_count": 167,
     "metadata": {},
     "output_type": "execute_result"
    }
   ],
   "source": [
    "#check values\n",
    "combinedyears['year_2021'].value_counts()\n"
   ]
  },
  {
   "cell_type": "code",
   "execution_count": 168,
   "id": "1c5dba0d",
   "metadata": {},
   "outputs": [],
   "source": [
    "## save list of columns needed for each group\n",
    "needed_cols = ['year_2021', 'revenue']\n"
   ]
  },
  {
   "cell_type": "code",
   "execution_count": 169,
   "id": "1573bd4f",
   "metadata": {
    "scrolled": true
   },
   "outputs": [
    {
     "data": {
      "text/html": [
       "<div>\n",
       "<style scoped>\n",
       "    .dataframe tbody tr th:only-of-type {\n",
       "        vertical-align: middle;\n",
       "    }\n",
       "\n",
       "    .dataframe tbody tr th {\n",
       "        vertical-align: top;\n",
       "    }\n",
       "\n",
       "    .dataframe thead th {\n",
       "        text-align: right;\n",
       "    }\n",
       "</style>\n",
       "<table border=\"1\" class=\"dataframe\">\n",
       "  <thead>\n",
       "    <tr style=\"text-align: right;\">\n",
       "      <th></th>\n",
       "      <th>year_2021</th>\n",
       "      <th>revenue</th>\n",
       "    </tr>\n",
       "  </thead>\n",
       "  <tbody>\n",
       "    <tr>\n",
       "      <th>123</th>\n",
       "      <td>True</td>\n",
       "      <td>0.0</td>\n",
       "    </tr>\n",
       "    <tr>\n",
       "      <th>126</th>\n",
       "      <td>True</td>\n",
       "      <td>0.0</td>\n",
       "    </tr>\n",
       "    <tr>\n",
       "      <th>127</th>\n",
       "      <td>True</td>\n",
       "      <td>0.0</td>\n",
       "    </tr>\n",
       "    <tr>\n",
       "      <th>248</th>\n",
       "      <td>True</td>\n",
       "      <td>0.0</td>\n",
       "    </tr>\n",
       "    <tr>\n",
       "      <th>600</th>\n",
       "      <td>True</td>\n",
       "      <td>0.0</td>\n",
       "    </tr>\n",
       "    <tr>\n",
       "      <th>...</th>\n",
       "      <td>...</td>\n",
       "      <td>...</td>\n",
       "    </tr>\n",
       "    <tr>\n",
       "      <th>3527</th>\n",
       "      <td>True</td>\n",
       "      <td>0.0</td>\n",
       "    </tr>\n",
       "    <tr>\n",
       "      <th>3528</th>\n",
       "      <td>True</td>\n",
       "      <td>0.0</td>\n",
       "    </tr>\n",
       "    <tr>\n",
       "      <th>3529</th>\n",
       "      <td>True</td>\n",
       "      <td>0.0</td>\n",
       "    </tr>\n",
       "    <tr>\n",
       "      <th>3531</th>\n",
       "      <td>True</td>\n",
       "      <td>0.0</td>\n",
       "    </tr>\n",
       "    <tr>\n",
       "      <th>3532</th>\n",
       "      <td>True</td>\n",
       "      <td>4588389.0</td>\n",
       "    </tr>\n",
       "  </tbody>\n",
       "</table>\n",
       "<p>3171 rows × 2 columns</p>\n",
       "</div>"
      ],
      "text/plain": [
       "      year_2021    revenue\n",
       "123        True        0.0\n",
       "126        True        0.0\n",
       "127        True        0.0\n",
       "248        True        0.0\n",
       "600        True        0.0\n",
       "...         ...        ...\n",
       "3527       True        0.0\n",
       "3528       True        0.0\n",
       "3529       True        0.0\n",
       "3531       True        0.0\n",
       "3532       True  4588389.0\n",
       "\n",
       "[3171 rows x 2 columns]"
      ]
     },
     "execution_count": 169,
     "metadata": {},
     "output_type": "execute_result"
    }
   ],
   "source": [
    "## save year_2020 in separate variable\n",
    "year_2021_df = combinedyears.loc[combinedyears['year_2021']==True, needed_cols]\n",
    "year_2021_df"
   ]
  },
  {
   "cell_type": "code",
   "execution_count": 170,
   "id": "d40081e3",
   "metadata": {},
   "outputs": [
    {
     "data": {
      "text/html": [
       "<div>\n",
       "<style scoped>\n",
       "    .dataframe tbody tr th:only-of-type {\n",
       "        vertical-align: middle;\n",
       "    }\n",
       "\n",
       "    .dataframe tbody tr th {\n",
       "        vertical-align: top;\n",
       "    }\n",
       "\n",
       "    .dataframe thead th {\n",
       "        text-align: right;\n",
       "    }\n",
       "</style>\n",
       "<table border=\"1\" class=\"dataframe\">\n",
       "  <thead>\n",
       "    <tr style=\"text-align: right;\">\n",
       "      <th></th>\n",
       "      <th>year_2021</th>\n",
       "      <th>revenue</th>\n",
       "    </tr>\n",
       "  </thead>\n",
       "  <tbody>\n",
       "    <tr>\n",
       "      <th>1</th>\n",
       "      <td>False</td>\n",
       "      <td>0.0</td>\n",
       "    </tr>\n",
       "    <tr>\n",
       "      <th>2</th>\n",
       "      <td>False</td>\n",
       "      <td>0.0</td>\n",
       "    </tr>\n",
       "    <tr>\n",
       "      <th>3</th>\n",
       "      <td>False</td>\n",
       "      <td>0.0</td>\n",
       "    </tr>\n",
       "    <tr>\n",
       "      <th>4</th>\n",
       "      <td>False</td>\n",
       "      <td>0.0</td>\n",
       "    </tr>\n",
       "    <tr>\n",
       "      <th>5</th>\n",
       "      <td>False</td>\n",
       "      <td>0.0</td>\n",
       "    </tr>\n",
       "    <tr>\n",
       "      <th>...</th>\n",
       "      <td>...</td>\n",
       "      <td>...</td>\n",
       "    </tr>\n",
       "    <tr>\n",
       "      <th>3467</th>\n",
       "      <td>False</td>\n",
       "      <td>0.0</td>\n",
       "    </tr>\n",
       "    <tr>\n",
       "      <th>3518</th>\n",
       "      <td>False</td>\n",
       "      <td>0.0</td>\n",
       "    </tr>\n",
       "    <tr>\n",
       "      <th>3524</th>\n",
       "      <td>False</td>\n",
       "      <td>0.0</td>\n",
       "    </tr>\n",
       "    <tr>\n",
       "      <th>3526</th>\n",
       "      <td>False</td>\n",
       "      <td>0.0</td>\n",
       "    </tr>\n",
       "    <tr>\n",
       "      <th>3530</th>\n",
       "      <td>False</td>\n",
       "      <td>0.0</td>\n",
       "    </tr>\n",
       "  </tbody>\n",
       "</table>\n",
       "<p>4680 rows × 2 columns</p>\n",
       "</div>"
      ],
      "text/plain": [
       "      year_2021  revenue\n",
       "1         False      0.0\n",
       "2         False      0.0\n",
       "3         False      0.0\n",
       "4         False      0.0\n",
       "5         False      0.0\n",
       "...         ...      ...\n",
       "3467      False      0.0\n",
       "3518      False      0.0\n",
       "3524      False      0.0\n",
       "3526      False      0.0\n",
       "3530      False      0.0\n",
       "\n",
       "[4680 rows x 2 columns]"
      ]
     },
     "execution_count": 170,
     "metadata": {},
     "output_type": "execute_result"
    }
   ],
   "source": [
    "## save year_2018 in separate variable\n",
    "year_2018_df = combinedyears.loc[combinedyears['year_2021']==False, needed_cols]\n",
    "year_2018_df"
   ]
  },
  {
   "cell_type": "code",
   "execution_count": 171,
   "id": "964b5587",
   "metadata": {},
   "outputs": [
    {
     "data": {
      "text/plain": [
       "123           0.0\n",
       "126           0.0\n",
       "127           0.0\n",
       "248           0.0\n",
       "600           0.0\n",
       "          ...    \n",
       "3527          0.0\n",
       "3528          0.0\n",
       "3529          0.0\n",
       "3531          0.0\n",
       "3532    4588389.0\n",
       "Name: revenue, Length: 3171, dtype: float64"
      ]
     },
     "execution_count": 171,
     "metadata": {},
     "output_type": "execute_result"
    }
   ],
   "source": [
    "## Saving JUST the numeric col as final group variables\n",
    "year_2021_group = year_2021_df['revenue']\n",
    "year_2018_group = year_2018_df['revenue']\n",
    "year_2021_group"
   ]
  },
  {
   "cell_type": "markdown",
   "id": "ad789355",
   "metadata": {},
   "source": [
    "## Third Hypothesis Prep"
   ]
  },
  {
   "cell_type": "code",
   "execution_count": 94,
   "id": "d22a6f63",
   "metadata": {
    "scrolled": true
   },
   "outputs": [
    {
     "data": {
      "text/plain": [
       "count    2545.000000\n",
       "mean       93.020432\n",
       "std        29.616236\n",
       "min         0.000000\n",
       "25%        87.000000\n",
       "50%        94.000000\n",
       "75%       105.000000\n",
       "max       345.000000\n",
       "Name: runtime, dtype: float64"
      ]
     },
     "execution_count": 94,
     "metadata": {},
     "output_type": "execute_result"
    }
   ],
   "source": [
    "#explore runtime\n",
    "firsthypo_df['runtime'].describe()"
   ]
  },
  {
   "cell_type": "code",
   "execution_count": 95,
   "id": "0152cf8b",
   "metadata": {},
   "outputs": [
    {
     "data": {
      "text/plain": [
       "90.0     199\n",
       "0.0      139\n",
       "95.0     114\n",
       "91.0      91\n",
       "93.0      89\n",
       "        ... \n",
       "30.0       1\n",
       "51.0       1\n",
       "64.0       1\n",
       "179.0      1\n",
       "57.0       1\n",
       "Name: runtime, Length: 139, dtype: int64"
      ]
     },
     "execution_count": 95,
     "metadata": {},
     "output_type": "execute_result"
    }
   ],
   "source": [
    "# look at runtime\n",
    "firsthypo_df['runtime'].value_counts()"
   ]
  },
  {
   "cell_type": "code",
   "execution_count": 98,
   "id": "4dce0324",
   "metadata": {},
   "outputs": [],
   "source": [
    "# create groups\n",
    "long_film_df = firsthypo_df.loc[firsthypo_df['runtime'] > 150].copy()\n",
    "short_film_df = firsthypo_df.loc[firsthypo_df['runtime'] < 90].copy()"
   ]
  },
  {
   "cell_type": "code",
   "execution_count": 100,
   "id": "77595302",
   "metadata": {},
   "outputs": [
    {
     "name": "stdout",
     "output_type": "stream",
     "text": [
      "<class 'pandas.core.frame.DataFrame'>\n",
      "Int64Index: 63 entries, 3 to 2521\n",
      "Data columns (total 26 columns):\n",
      " #   Column                 Non-Null Count  Dtype  \n",
      "---  ------                 --------------  -----  \n",
      " 0   imdb_id                63 non-null     object \n",
      " 1   adult                  63 non-null     float64\n",
      " 2   backdrop_path          52 non-null     object \n",
      " 3   belongs_to_collection  5 non-null      object \n",
      " 4   budget                 63 non-null     float64\n",
      " 5   genres                 63 non-null     object \n",
      " 6   homepage               4 non-null      object \n",
      " 7   id                     63 non-null     float64\n",
      " 8   original_language      63 non-null     object \n",
      " 9   original_title         63 non-null     object \n",
      " 10  overview               63 non-null     object \n",
      " 11  popularity             63 non-null     float64\n",
      " 12  poster_path            61 non-null     object \n",
      " 13  production_companies   63 non-null     object \n",
      " 14  production_countries   63 non-null     object \n",
      " 15  release_date           63 non-null     object \n",
      " 16  revenue                63 non-null     float64\n",
      " 17  runtime                63 non-null     float64\n",
      " 18  spoken_languages       63 non-null     object \n",
      " 19  status                 63 non-null     object \n",
      " 20  tagline                29 non-null     object \n",
      " 21  title                  63 non-null     object \n",
      " 22  video                  63 non-null     float64\n",
      " 23  vote_average           63 non-null     float64\n",
      " 24  vote_count             63 non-null     float64\n",
      " 25  certification          14 non-null     object \n",
      "dtypes: float64(9), object(17)\n",
      "memory usage: 13.3+ KB\n"
     ]
    }
   ],
   "source": [
    "long_film_df.info()"
   ]
  },
  {
   "cell_type": "code",
   "execution_count": 112,
   "id": "e378c9c9",
   "metadata": {},
   "outputs": [
    {
     "name": "stdout",
     "output_type": "stream",
     "text": [
      "<class 'pandas.core.frame.DataFrame'>\n",
      "Int64Index: 785 entries, 1 to 2545\n",
      "Data columns (total 26 columns):\n",
      " #   Column                 Non-Null Count  Dtype  \n",
      "---  ------                 --------------  -----  \n",
      " 0   imdb_id                785 non-null    object \n",
      " 1   adult                  785 non-null    float64\n",
      " 2   backdrop_path          285 non-null    object \n",
      " 3   belongs_to_collection  54 non-null     object \n",
      " 4   budget                 785 non-null    float64\n",
      " 5   genres                 785 non-null    object \n",
      " 6   homepage               41 non-null     object \n",
      " 7   id                     785 non-null    float64\n",
      " 8   original_language      785 non-null    object \n",
      " 9   original_title         785 non-null    object \n",
      " 10  overview               745 non-null    object \n",
      " 11  popularity             785 non-null    float64\n",
      " 12  poster_path            645 non-null    object \n",
      " 13  production_companies   785 non-null    object \n",
      " 14  production_countries   785 non-null    object \n",
      " 15  release_date           773 non-null    object \n",
      " 16  revenue                785 non-null    float64\n",
      " 17  runtime                785 non-null    float64\n",
      " 18  spoken_languages       785 non-null    object \n",
      " 19  status                 785 non-null    object \n",
      " 20  tagline                253 non-null    object \n",
      " 21  title                  785 non-null    object \n",
      " 22  video                  785 non-null    float64\n",
      " 23  vote_average           785 non-null    float64\n",
      " 24  vote_count             785 non-null    float64\n",
      " 25  certification          186 non-null    object \n",
      "dtypes: float64(9), object(17)\n",
      "memory usage: 165.6+ KB\n"
     ]
    }
   ],
   "source": [
    "short_film_df.info()"
   ]
  },
  {
   "cell_type": "code",
   "execution_count": 110,
   "id": "5d3dd5ae",
   "metadata": {},
   "outputs": [],
   "source": [
    "longfilm_runtime = long_film_df['runtime']\n",
    "shortfilm_runtime = short_film_df['runtime']"
   ]
  },
  {
   "cell_type": "markdown",
   "id": "1adcf017",
   "metadata": {},
   "source": [
    "# First Hypothesis"
   ]
  },
  {
   "cell_type": "markdown",
   "id": "c796f1ff",
   "metadata": {},
   "source": [
    "## Hypothesis\n",
    "- Null: Movies have the same revenue in all MPAA ratings\n",
    "- Alternate: Movies with different MPAA ratings  have different revenue.\n",
    "\n",
    "- Possible question would me how much? See Project 5 for linear regression"
   ]
  },
  {
   "cell_type": "markdown",
   "id": "8046f580",
   "metadata": {},
   "source": [
    "## Test type: ANOVA to Kruskall"
   ]
  },
  {
   "cell_type": "code",
   "execution_count": 31,
   "id": "3c89a157",
   "metadata": {},
   "outputs": [
    {
     "data": {
      "text/plain": [
       "dict_keys(['PG', 'R', 'G', 'NR', 'PG-13'])"
      ]
     },
     "execution_count": 31,
     "metadata": {},
     "output_type": "execute_result"
    }
   ],
   "source": [
    "## Create groups dictionary. \n",
    "groups = {}\n",
    "## Loop through all unique categories\n",
    "for i in firsthypo_df['certification'].unique():\n",
    "    ## Get series for group and rename\n",
    "    data = firsthypo_df.loc[firsthypo_df['certification']==i,'revenue'].copy()\n",
    "    \n",
    "    # save into the dictionary\n",
    "    groups[i] = data\n",
    "groups.keys()"
   ]
  },
  {
   "cell_type": "markdown",
   "id": "220e3ce1",
   "metadata": {},
   "source": [
    "## Check Assumptions for ANOVA\n",
    "- outliers\n",
    "- normality\n",
    "- equal variance"
   ]
  },
  {
   "cell_type": "markdown",
   "id": "377d55c0",
   "metadata": {},
   "source": [
    "### Normality"
   ]
  },
  {
   "cell_type": "code",
   "execution_count": 32,
   "id": "6fe782f5",
   "metadata": {
    "scrolled": true
   },
   "outputs": [
    {
     "data": {
      "text/html": [
       "<div>\n",
       "<style scoped>\n",
       "    .dataframe tbody tr th:only-of-type {\n",
       "        vertical-align: middle;\n",
       "    }\n",
       "\n",
       "    .dataframe tbody tr th {\n",
       "        vertical-align: top;\n",
       "    }\n",
       "\n",
       "    .dataframe thead th {\n",
       "        text-align: right;\n",
       "    }\n",
       "</style>\n",
       "<table border=\"1\" class=\"dataframe\">\n",
       "  <thead>\n",
       "    <tr style=\"text-align: right;\">\n",
       "      <th></th>\n",
       "      <th>n</th>\n",
       "      <th>p</th>\n",
       "      <th>test stat</th>\n",
       "    </tr>\n",
       "  </thead>\n",
       "  <tbody>\n",
       "    <tr>\n",
       "      <th>PG</th>\n",
       "      <td>62.0</td>\n",
       "      <td>1.166369e-19</td>\n",
       "      <td>87.190443</td>\n",
       "    </tr>\n",
       "    <tr>\n",
       "      <th>R</th>\n",
       "      <td>459.0</td>\n",
       "      <td>4.064768e-104</td>\n",
       "      <td>476.132986</td>\n",
       "    </tr>\n",
       "    <tr>\n",
       "      <th>G</th>\n",
       "      <td>24.0</td>\n",
       "      <td>1.196858e-08</td>\n",
       "      <td>36.481962</td>\n",
       "    </tr>\n",
       "    <tr>\n",
       "      <th>NR</th>\n",
       "      <td>73.0</td>\n",
       "      <td>6.755199e-21</td>\n",
       "      <td>92.887949</td>\n",
       "    </tr>\n",
       "    <tr>\n",
       "      <th>PG-13</th>\n",
       "      <td>183.0</td>\n",
       "      <td>7.619494e-31</td>\n",
       "      <td>138.698856</td>\n",
       "    </tr>\n",
       "  </tbody>\n",
       "</table>\n",
       "</div>"
      ],
      "text/plain": [
       "           n              p   test stat\n",
       "PG      62.0   1.166369e-19   87.190443\n",
       "R      459.0  4.064768e-104  476.132986\n",
       "G       24.0   1.196858e-08   36.481962\n",
       "NR      73.0   6.755199e-21   92.887949\n",
       "PG-13  183.0   7.619494e-31  138.698856"
      ]
     },
     "execution_count": 32,
     "metadata": {},
     "output_type": "execute_result"
    }
   ],
   "source": [
    "## Running normal test on each group and confirming there are >20 in each group\n",
    "norm_results = {}\n",
    "for i, data in groups.items():\n",
    "    stat, p = stats.normaltest(data)\n",
    "    ## save the p val, test statistic, and the size of the group\n",
    "    norm_results[i] = {'n': len(data),\n",
    "                             'p':p,\n",
    "                             'test stat':stat,}\n",
    "## convert to a dataframe\n",
    "norm_results_df = pd.DataFrame(norm_results).T\n",
    "norm_results_df"
   ]
  },
  {
   "cell_type": "markdown",
   "id": "0346d640",
   "metadata": {},
   "source": [
    "- This data has normal distribution"
   ]
  },
  {
   "cell_type": "markdown",
   "id": "efeda91f",
   "metadata": {},
   "source": [
    "### Equal Variance"
   ]
  },
  {
   "cell_type": "raw",
   "id": "a08350a6",
   "metadata": {},
   "source": [
    "# check for equal variance\n",
    "stats.levene(*groups.values())"
   ]
  },
  {
   "cell_type": "markdown",
   "id": "0935832e",
   "metadata": {},
   "source": [
    "- It did not pass equal variance so use Kruskall"
   ]
  },
  {
   "cell_type": "markdown",
   "id": "a62fbb05",
   "metadata": {},
   "source": [
    "## Check for Outliers"
   ]
  },
  {
   "cell_type": "code",
   "execution_count": 37,
   "id": "aafdf51c",
   "metadata": {},
   "outputs": [],
   "source": [
    "#create groups\n",
    "pg_df = firsthypo_df.loc[firsthypo_df['certification']== 'PG'].copy()\n",
    "r_df = firsthypo_df.loc[firsthypo_df['certification']== 'R'].copy()\n",
    "g_df = firsthypo_df.loc[firsthypo_df['certification']== 'G'].copy()\n",
    "nr_df = firsthypo_df.loc[firsthypo_df['certification']== 'NR'].copy()\n",
    "pg13_df = firsthypo_df.loc[firsthypo_df['certification']== 'PG-13'].copy()\n",
    "\n",
    "# groups PG', 'R', 'G', 'NR', 'PG-13'"
   ]
  },
  {
   "cell_type": "code",
   "execution_count": 38,
   "id": "f0dabf9f",
   "metadata": {},
   "outputs": [],
   "source": [
    "#create each specific group for outlier check\n",
    "pg_df_revenue = pg_df['revenue']\n",
    "r_df_revenue = r_df['revenue']\n",
    "g_df_revenue = g_df['revenue']\n",
    "nr_df_revenue = nr_df['revenue']\n",
    "pg13_df_revenue = pg13_df['revenue']\n"
   ]
  },
  {
   "cell_type": "code",
   "execution_count": 39,
   "id": "d4cc1b58",
   "metadata": {},
   "outputs": [
    {
     "data": {
      "text/plain": [
       "1"
      ]
     },
     "execution_count": 39,
     "metadata": {},
     "output_type": "execute_result"
    }
   ],
   "source": [
    "# Check for outliers in pg group\n",
    "zscores= stats.zscore(pg_df_revenue)\n",
    "outliers = abs(zscores)>3\n",
    "np.sum(outliers)"
   ]
  },
  {
   "cell_type": "code",
   "execution_count": 40,
   "id": "d9467150",
   "metadata": {},
   "outputs": [],
   "source": [
    "# drop outlier\n",
    "pg_df_revenue = pg_df_revenue[(np.abs(stats.zscore(pg_df_revenue)) < 3)]"
   ]
  },
  {
   "cell_type": "code",
   "execution_count": 41,
   "id": "32062652",
   "metadata": {
    "scrolled": true
   },
   "outputs": [
    {
     "data": {
      "text/plain": [
       "12"
      ]
     },
     "execution_count": 41,
     "metadata": {},
     "output_type": "execute_result"
    }
   ],
   "source": [
    "# Check for outliers in r group\n",
    "zscores= stats.zscore(r_df_revenue)\n",
    "outliers = abs(zscores)>3\n",
    "np.sum(outliers)"
   ]
  },
  {
   "cell_type": "code",
   "execution_count": 42,
   "id": "ea20fe9f",
   "metadata": {},
   "outputs": [],
   "source": [
    "# drop outlier\n",
    "r_df_revenue = r_df_revenue[(np.abs(stats.zscore(r_df_revenue)) < 3)]"
   ]
  },
  {
   "cell_type": "code",
   "execution_count": 43,
   "id": "0a36b00b",
   "metadata": {},
   "outputs": [
    {
     "data": {
      "text/plain": [
       "1"
      ]
     },
     "execution_count": 43,
     "metadata": {},
     "output_type": "execute_result"
    }
   ],
   "source": [
    "# Check for outliers in g group\n",
    "zscores= stats.zscore(g_df_revenue)\n",
    "outliers = abs(zscores)>3\n",
    "np.sum(outliers)"
   ]
  },
  {
   "cell_type": "code",
   "execution_count": 45,
   "id": "f3a7709e",
   "metadata": {},
   "outputs": [],
   "source": [
    "# drop outlier\n",
    "g_df_revenue = g_df_revenue[(np.abs(stats.zscore(g_df_revenue)) < 3)]"
   ]
  },
  {
   "cell_type": "code",
   "execution_count": 46,
   "id": "5fc068bf",
   "metadata": {},
   "outputs": [
    {
     "data": {
      "text/plain": [
       "3"
      ]
     },
     "execution_count": 46,
     "metadata": {},
     "output_type": "execute_result"
    }
   ],
   "source": [
    "# Check for outliers in nr group\n",
    "zscores= stats.zscore(nr_df_revenue)\n",
    "outliers = abs(zscores)>3\n",
    "np.sum(outliers)"
   ]
  },
  {
   "cell_type": "code",
   "execution_count": 47,
   "id": "71c55f3f",
   "metadata": {},
   "outputs": [],
   "source": [
    "# drop outliers\n",
    "nr_df_revenue = nr_df_revenue[(np.abs(stats.zscore(nr_df_revenue)) < 3)]"
   ]
  },
  {
   "cell_type": "code",
   "execution_count": 48,
   "id": "5e898939",
   "metadata": {},
   "outputs": [
    {
     "data": {
      "text/plain": [
       "5"
      ]
     },
     "execution_count": 48,
     "metadata": {},
     "output_type": "execute_result"
    }
   ],
   "source": [
    "# Check for outliers in pg13 group\n",
    "zscores= stats.zscore(pg13_df_revenue)\n",
    "outliers = abs(zscores)>3\n",
    "np.sum(outliers)"
   ]
  },
  {
   "cell_type": "code",
   "execution_count": 50,
   "id": "9933103f",
   "metadata": {},
   "outputs": [],
   "source": [
    "# drop outlier\n",
    "pg13_df_revenue = pg13_df_revenue[(np.abs(stats.zscore(pg13_df_revenue)) < 3)]"
   ]
  },
  {
   "cell_type": "markdown",
   "id": "9058e769",
   "metadata": {},
   "source": [
    "## Run Kruskall"
   ]
  },
  {
   "cell_type": "code",
   "execution_count": null,
   "id": "f363f01e",
   "metadata": {},
   "outputs": [],
   "source": [
    "# perform the correct hypothesis test\n",
    "# note again the use of the * operator for convenience\n",
    "#result = stats.f_oneway( *groups.values())\n",
    "print(result)\n",
    "#pg_df_revenue, r_df_revenue, g_df_revenue, nr_df_revenue, pg13_df_revenue"
   ]
  },
  {
   "cell_type": "code",
   "execution_count": 103,
   "id": "f7a2a37d",
   "metadata": {},
   "outputs": [
    {
     "data": {
      "text/plain": [
       "KruskalResult(statistic=115.12533928405944, pvalue=5.8677429068992635e-24)"
      ]
     },
     "execution_count": 103,
     "metadata": {},
     "output_type": "execute_result"
    }
   ],
   "source": [
    "# run the  krusklal  because it failed equal variance\n",
    "# note again the use of the * operator for convenience\n",
    "result = stats.kruskal( pg_df_revenue, r_df_revenue, g_df_revenue, nr_df_revenue, pg13_df_revenue)\n",
    "result"
   ]
  },
  {
   "cell_type": "markdown",
   "id": "017ca236",
   "metadata": {},
   "source": [
    "## Interpretation"
   ]
  },
  {
   "cell_type": "markdown",
   "id": "40ade60c",
   "metadata": {},
   "source": [
    "### The p value is less 0.05. From this data the null hypothesis is rejected. There is a difference between revenue in the different MPAA ratings"
   ]
  },
  {
   "cell_type": "code",
   "execution_count": 63,
   "id": "a168a80a",
   "metadata": {},
   "outputs": [
    {
     "data": {
      "image/png": "[encoded data removed]",
      "text/plain": [
       "<Figure size 640x480 with 1 Axes>"
      ]
     },
     "metadata": {},
     "output_type": "display_data"
    }
   ],
   "source": [
    "#visualize the data\n",
    "ax= sns.barplot(data=firsthypo_df, x='certification',y='revenue', errorbar=None);\n",
    "ax.set_title(\"Revenue by Rating\");"
   ]
  },
  {
   "cell_type": "markdown",
   "id": "3b2dd0b7",
   "metadata": {},
   "source": [
    "- Movies with a G rating have the greatest revenue followed  closely by movies with a PG-13 rating. "
   ]
  },
  {
   "cell_type": "markdown",
   "id": "791d2833",
   "metadata": {},
   "source": [
    "# Second Hypothesis"
   ]
  },
  {
   "cell_type": "markdown",
   "id": "7c74cd5e",
   "metadata": {},
   "source": [
    "## Hypothesis\n",
    "- Null Hypothesis: The revenue is the same for 2018 2021\n",
    "- Alternate: The revenue is different for 2018 and 2021"
   ]
  },
  {
   "cell_type": "markdown",
   "id": "2bc3dd92",
   "metadata": {},
   "source": [
    "## Test type: Independent T test or 2 sample\n",
    "- numeric\n",
    "- two groups"
   ]
  },
  {
   "cell_type": "markdown",
   "id": "ec157112",
   "metadata": {},
   "source": [
    "## Assumptions\n",
    "- outliers\n",
    "- normality ( discuss sample size > 15)\n",
    "- equal variance"
   ]
  },
  {
   "cell_type": "markdown",
   "id": "97a79ce0",
   "metadata": {},
   "source": [
    "### Outliers"
   ]
  },
  {
   "cell_type": "code",
   "execution_count": 172,
   "id": "a9798fb7",
   "metadata": {},
   "outputs": [
    {
     "data": {
      "text/plain": [
       "24"
      ]
     },
     "execution_count": 172,
     "metadata": {},
     "output_type": "execute_result"
    }
   ],
   "source": [
    "## Check year_2021_group for outliers\n",
    "year_2021_outliers = np.abs(stats.zscore(year_2021_group)) > 3\n",
    "\n",
    "year_2021_outliers.sum()"
   ]
  },
  {
   "cell_type": "code",
   "execution_count": 175,
   "id": "27697895",
   "metadata": {},
   "outputs": [],
   "source": [
    "## remove 2021 outliers  \n",
    "year_2021_group = year_2021_group.loc[~year_2021_outliers]"
   ]
  },
  {
   "cell_type": "code",
   "execution_count": 176,
   "id": "1b1de279",
   "metadata": {},
   "outputs": [
    {
     "data": {
      "text/plain": [
       "39"
      ]
     },
     "execution_count": 176,
     "metadata": {},
     "output_type": "execute_result"
    }
   ],
   "source": [
    "## Check year_2018group for outliers\n",
    "year_2018_outliers = np.abs(stats.zscore(year_2018_group)) > 3\n",
    "\n",
    "year_2018_outliers.sum()"
   ]
  },
  {
   "cell_type": "code",
   "execution_count": 177,
   "id": "ba238a5e",
   "metadata": {},
   "outputs": [],
   "source": [
    "## remove 2021 outliers  \n",
    "year_2018_group = year_2018_group.loc[~year_2018_outliers]"
   ]
  },
  {
   "cell_type": "markdown",
   "id": "7ca2ef11",
   "metadata": {},
   "source": [
    "### Normality"
   ]
  },
  {
   "cell_type": "code",
   "execution_count": 178,
   "id": "a70bc029",
   "metadata": {},
   "outputs": [
    {
     "name": "stdout",
     "output_type": "stream",
     "text": [
      "0.0\n"
     ]
    },
    {
     "data": {
      "text/plain": [
       "True"
      ]
     },
     "execution_count": 178,
     "metadata": {},
     "output_type": "execute_result"
    }
   ],
   "source": [
    "result = stats.normaltest(year_2021_group)\n",
    "print(result.pvalue)\n",
    "result.pvalue < .05"
   ]
  },
  {
   "cell_type": "code",
   "execution_count": 179,
   "id": "0c55fbcb",
   "metadata": {},
   "outputs": [
    {
     "name": "stdout",
     "output_type": "stream",
     "text": [
      "0.0\n"
     ]
    },
    {
     "data": {
      "text/plain": [
       "True"
      ]
     },
     "execution_count": 179,
     "metadata": {},
     "output_type": "execute_result"
    }
   ],
   "source": [
    "result = stats.normaltest(year_2018_group)\n",
    "print(result.pvalue)\n",
    "result.pvalue < .05"
   ]
  },
  {
   "cell_type": "code",
   "execution_count": 180,
   "id": "d3ffea00",
   "metadata": {},
   "outputs": [
    {
     "data": {
      "text/plain": [
       "3147"
      ]
     },
     "execution_count": 180,
     "metadata": {},
     "output_type": "execute_result"
    }
   ],
   "source": [
    "#check groups size\n",
    "len(year_2021_group)"
   ]
  },
  {
   "cell_type": "code",
   "execution_count": 181,
   "id": "5aca57a0",
   "metadata": {},
   "outputs": [
    {
     "data": {
      "text/plain": [
       "4641"
      ]
     },
     "execution_count": 181,
     "metadata": {},
     "output_type": "execute_result"
    }
   ],
   "source": [
    "#check groups size\n",
    "len(year_2018_group)"
   ]
  },
  {
   "cell_type": "markdown",
   "id": "b0a65833",
   "metadata": {},
   "source": [
    "-Both groups passed normal distribution since p values are less than 0.05 and the groups are >15."
   ]
  },
  {
   "cell_type": "markdown",
   "id": "6054f6c3",
   "metadata": {},
   "source": [
    "### Equal variance\n"
   ]
  },
  {
   "cell_type": "code",
   "execution_count": 182,
   "id": "bb7389f9",
   "metadata": {},
   "outputs": [
    {
     "name": "stdout",
     "output_type": "stream",
     "text": [
      "LeveneResult(statistic=1.4553852925394244, pvalue=0.2277024530368977)\n",
      "False\n"
     ]
    }
   ],
   "source": [
    "#run test\n",
    "result = stats.levene(year_2021_group, year_2018_group)\n",
    "print(result)\n",
    "print(result.pvalue<.05)"
   ]
  },
  {
   "cell_type": "markdown",
   "id": "fc6f293c",
   "metadata": {},
   "source": [
    "- The groups do not have equal variance so will set equal variance = false in the Welch's T test. "
   ]
  },
  {
   "cell_type": "markdown",
   "id": "805c5cfa",
   "metadata": {},
   "source": [
    "##  Run Test"
   ]
  },
  {
   "cell_type": "code",
   "execution_count": 184,
   "id": "99e996f3",
   "metadata": {},
   "outputs": [
    {
     "name": "stdout",
     "output_type": "stream",
     "text": [
      "Ttest_indResult(statistic=-1.2169443989874227, pvalue=0.22366667361567144)\n"
     ]
    },
    {
     "data": {
      "text/plain": [
       "False"
      ]
     },
     "execution_count": 184,
     "metadata": {},
     "output_type": "execute_result"
    }
   ],
   "source": [
    "# run test\n",
    "result = stats.ttest_ind(year_2021_group, year_2018_group, equal_var=False)\n",
    "print(result)\n",
    "result.pvalue < .05"
   ]
  },
  {
   "cell_type": "markdown",
   "id": "73b11067",
   "metadata": {},
   "source": [
    "## Interpretation"
   ]
  },
  {
   "cell_type": "markdown",
   "id": "5718c1d5",
   "metadata": {},
   "source": [
    "- The  Welch's T-Test return a p-value > .05. Based on this result, the data fails to reject the null hypothesis. \n",
    "- There is not a significant difference between 2021 and 2018 revenue. \n",
    "- Double check with the actual means of our final groups"
   ]
  },
  {
   "cell_type": "code",
   "execution_count": 185,
   "id": "28b7f962",
   "metadata": {},
   "outputs": [
    {
     "name": "stdout",
     "output_type": "stream",
     "text": [
      "The average revenue for 2021 movies was  1444118.80\n",
      "There average revenue for 2018 movies was  1762943.39\n"
     ]
    }
   ],
   "source": [
    "print(f'The average revenue for 2021 movies was {year_2021_group.mean(): .2f}')\n",
    "print(f'There average revenue for 2018 movies was {year_2018_group.mean(): .2f}')"
   ]
  },
  {
   "cell_type": "markdown",
   "id": "beebc59e",
   "metadata": {},
   "source": [
    "### Visual"
   ]
  },
  {
   "cell_type": "code",
   "execution_count": 186,
   "id": "cb537766",
   "metadata": {
    "scrolled": true
   },
   "outputs": [
    {
     "data": {
      "text/html": [
       "<div>\n",
       "<style scoped>\n",
       "    .dataframe tbody tr th:only-of-type {\n",
       "        vertical-align: middle;\n",
       "    }\n",
       "\n",
       "    .dataframe tbody tr th {\n",
       "        vertical-align: top;\n",
       "    }\n",
       "\n",
       "    .dataframe thead th {\n",
       "        text-align: right;\n",
       "    }\n",
       "</style>\n",
       "<table border=\"1\" class=\"dataframe\">\n",
       "  <thead>\n",
       "    <tr style=\"text-align: right;\">\n",
       "      <th></th>\n",
       "      <th>year_2021</th>\n",
       "      <th>revenue</th>\n",
       "    </tr>\n",
       "  </thead>\n",
       "  <tbody>\n",
       "    <tr>\n",
       "      <th>123</th>\n",
       "      <td>True</td>\n",
       "      <td>0.0</td>\n",
       "    </tr>\n",
       "    <tr>\n",
       "      <th>126</th>\n",
       "      <td>True</td>\n",
       "      <td>0.0</td>\n",
       "    </tr>\n",
       "    <tr>\n",
       "      <th>127</th>\n",
       "      <td>True</td>\n",
       "      <td>0.0</td>\n",
       "    </tr>\n",
       "    <tr>\n",
       "      <th>248</th>\n",
       "      <td>True</td>\n",
       "      <td>0.0</td>\n",
       "    </tr>\n",
       "    <tr>\n",
       "      <th>600</th>\n",
       "      <td>True</td>\n",
       "      <td>0.0</td>\n",
       "    </tr>\n",
       "    <tr>\n",
       "      <th>...</th>\n",
       "      <td>...</td>\n",
       "      <td>...</td>\n",
       "    </tr>\n",
       "    <tr>\n",
       "      <th>3467</th>\n",
       "      <td>False</td>\n",
       "      <td>0.0</td>\n",
       "    </tr>\n",
       "    <tr>\n",
       "      <th>3518</th>\n",
       "      <td>False</td>\n",
       "      <td>0.0</td>\n",
       "    </tr>\n",
       "    <tr>\n",
       "      <th>3524</th>\n",
       "      <td>False</td>\n",
       "      <td>0.0</td>\n",
       "    </tr>\n",
       "    <tr>\n",
       "      <th>3526</th>\n",
       "      <td>False</td>\n",
       "      <td>0.0</td>\n",
       "    </tr>\n",
       "    <tr>\n",
       "      <th>3530</th>\n",
       "      <td>False</td>\n",
       "      <td>0.0</td>\n",
       "    </tr>\n",
       "  </tbody>\n",
       "</table>\n",
       "<p>7788 rows × 2 columns</p>\n",
       "</div>"
      ],
      "text/plain": [
       "      year_2021  revenue\n",
       "123        True      0.0\n",
       "126        True      0.0\n",
       "127        True      0.0\n",
       "248        True      0.0\n",
       "600        True      0.0\n",
       "...         ...      ...\n",
       "3467      False      0.0\n",
       "3518      False      0.0\n",
       "3524      False      0.0\n",
       "3526      False      0.0\n",
       "3530      False      0.0\n",
       "\n",
       "[7788 rows x 2 columns]"
      ]
     },
     "execution_count": 186,
     "metadata": {},
     "output_type": "execute_result"
    }
   ],
   "source": [
    "# # create dataframe without outliers\n",
    "plot_df = pd.concat([year_2021_df.loc[~year_2021_outliers],\n",
    "                    year_2018_df.loc[~year_2018_outliers]], axis=0)\n",
    "plot_df"
   ]
  },
  {
   "cell_type": "code",
   "execution_count": 193,
   "id": "9a9de4de",
   "metadata": {},
   "outputs": [
    {
     "data": {
      "image/png": "[encoded data removed]",
      "text/plain": [
       "<Figure size 640x480 with 1 Axes>"
      ]
     },
     "metadata": {},
     "output_type": "display_data"
    }
   ],
   "source": [
    "ax=sns.barplot(data=plot_df, x='year_2021', y= 'revenue', errorbar=None);\n",
    " fontfamily='serif',fontsize = 20, fontweight = 'bold');\n",
    "\n",
    "plt.xlabel('Year', fontsize =20)\n",
    "plt.ylabel('Revenue', fontfamily='Arial Rounded MT Bold', fontsize = 15)\n",
    "\n",
    "ax.spines['right'].set_visible(False)\n",
    "ax.spines['top'].set_visible(False)\n",
    "ax.set_xticklabels(labels = ['2018','2021'], \n",
    "                   fontstyle='italic', \n",
    "                   color='black');"
   ]
  },
  {
   "cell_type": "markdown",
   "id": "476c04c7",
   "metadata": {},
   "source": [
    "# Third Hypothesis"
   ]
  },
  {
   "cell_type": "markdown",
   "id": "7e274c2b",
   "metadata": {},
   "source": [
    "## Hypothesis\n",
    "- Null Hypothesis: The revenue is the same for years 2018 and 2020\n",
    "- Alternate Hypothesis: The revenue is different between years 2018 and 2020"
   ]
  },
  {
   "cell_type": "markdown",
   "id": "b7c54d9f",
   "metadata": {},
   "source": [
    "## Test type: Independent T test"
   ]
  },
  {
   "cell_type": "markdown",
   "id": "69fb7d07",
   "metadata": {},
   "source": [
    "## Assumptions\n",
    "- outliers\n",
    "- normality\n",
    "- equal variance"
   ]
  },
  {
   "cell_type": "markdown",
   "id": "fd96f8b8",
   "metadata": {},
   "source": [
    "### Outliers"
   ]
  },
  {
   "cell_type": "code",
   "execution_count": 106,
   "id": "a9374069",
   "metadata": {},
   "outputs": [
    {
     "data": {
      "text/plain": [
       "2"
      ]
     },
     "execution_count": 106,
     "metadata": {},
     "output_type": "execute_result"
    }
   ],
   "source": [
    "# Check for outliers in long film\n",
    "zscores= stats.zscore(longfilm2018_runtime)\n",
    "outliers = abs(zscores)>3\n",
    "np.sum(outliers)"
   ]
  },
  {
   "cell_type": "code",
   "execution_count": 108,
   "id": "8f49ab22",
   "metadata": {},
   "outputs": [],
   "source": [
    "# remove outlier from long film\n",
    "longfilm_runtime = longfilm_runtime[(np.abs(stats.zscore(longfilm_runtime)) < 3)]"
   ]
  },
  {
   "cell_type": "code",
   "execution_count": null,
   "id": "4973aff7",
   "metadata": {},
   "outputs": [],
   "source": [
    "# Check for outliers in weight for strength group\n",
    "zscores= stats.zscore(longfilm_runtime)\n",
    "outliers = abs(zscores)>3\n",
    "np.sum(outliers)"
   ]
  },
  {
   "cell_type": "code",
   "execution_count": 109,
   "id": "ea4a2b0c",
   "metadata": {},
   "outputs": [
    {
     "data": {
      "text/plain": [
       "0"
      ]
     },
     "execution_count": 109,
     "metadata": {},
     "output_type": "execute_result"
    }
   ],
   "source": [
    "# Check for outliers in weight for strength group\n",
    "zscores= stats.zscore(shortfilm_runtime)\n",
    "outliers = abs(zscores)>3\n",
    "np.sum(outliers)"
   ]
  },
  {
   "cell_type": "markdown",
   "id": "10516911",
   "metadata": {},
   "source": [
    "- There are no outliers in short films. "
   ]
  },
  {
   "cell_type": "markdown",
   "id": "ab6d1ee7",
   "metadata": {},
   "source": [
    "### Normality\n",
    "- The sample size is > 15. This means that there is no need to test for normality or adjust testing. "
   ]
  },
  {
   "cell_type": "code",
   "execution_count": 113,
   "id": "368339dd",
   "metadata": {},
   "outputs": [
    {
     "data": {
      "text/plain": [
       "NormaltestResult(statistic=66.63699990508826, pvalue=3.3881242252514016e-15)"
      ]
     },
     "execution_count": 113,
     "metadata": {},
     "output_type": "execute_result"
    }
   ],
   "source": [
    "# test the smoker group for normality\n",
    "result_longfilm = stats.normaltest(longfilm_runtime)\n",
    "result_longfilm"
   ]
  },
  {
   "cell_type": "code",
   "execution_count": 114,
   "id": "4e585954",
   "metadata": {
    "scrolled": true
   },
   "outputs": [
    {
     "data": {
      "text/plain": [
       "NormaltestResult(statistic=167.24566042384595, pvalue=4.820213534557947e-37)"
      ]
     },
     "execution_count": 114,
     "metadata": {},
     "output_type": "execute_result"
    }
   ],
   "source": [
    "# test the smoker group for normality\n",
    "result_shortfilm = stats.normaltest(shortfilm_runtime)\n",
    "result_shortfilm"
   ]
  },
  {
   "cell_type": "markdown",
   "id": "87f93283",
   "metadata": {},
   "source": [
    "- p-values for both group are well below 0.05 which means our data is NOT normally distributed.\n",
    "- However sample size is large enough to proceed."
   ]
  },
  {
   "cell_type": "markdown",
   "id": "6faad4f1",
   "metadata": {},
   "source": [
    "### Equal Variance"
   ]
  },
  {
   "cell_type": "code",
   "execution_count": 115,
   "id": "b11bae4c",
   "metadata": {},
   "outputs": [
    {
     "data": {
      "text/plain": [
       "LeveneResult(statistic=0.049527039664501275, pvalue=0.8239420287413467)"
      ]
     },
     "execution_count": 115,
     "metadata": {},
     "output_type": "execute_result"
    }
   ],
   "source": [
    "# Test for equal variance\n",
    "result = stats.levene(longfilm_runtime, shortfilm_runtime)\n",
    "result"
   ]
  },
  {
   "cell_type": "markdown",
   "id": "6e649193",
   "metadata": {},
   "source": [
    "- P value is more than 0.05 so equal variance can be set to true."
   ]
  },
  {
   "cell_type": "markdown",
   "id": "37be835e",
   "metadata": {},
   "source": [
    "## Run Test"
   ]
  },
  {
   "cell_type": "code",
   "execution_count": 116,
   "id": "04af85f1",
   "metadata": {},
   "outputs": [
    {
     "data": {
      "text/plain": [
       "Ttest_indResult(statistic=25.74772768095354, pvalue=2.0645516809257347e-108)"
      ]
     },
     "execution_count": 116,
     "metadata": {},
     "output_type": "execute_result"
    }
   ],
   "source": [
    "# Independent t-test with equal_var set to False\n",
    "result = stats.ttest_ind(longfilm_runtime, shortfilm_runtime, equal_var = True)\n",
    "result"
   ]
  },
  {
   "cell_type": "code",
   "execution_count": 139,
   "id": "b2f69bb3",
   "metadata": {},
   "outputs": [
    {
     "data": {
      "text/plain": [
       "True"
      ]
     },
     "execution_count": 139,
     "metadata": {},
     "output_type": "execute_result"
    }
   ],
   "source": [
    "result.pvalue < 0.05\n"
   ]
  },
  {
   "cell_type": "markdown",
   "id": "63177261",
   "metadata": {},
   "source": [
    "## Interpretation"
   ]
  },
  {
   "cell_type": "markdown",
   "id": "25238fe5",
   "metadata": {},
   "source": [
    "-The p value is signficantly less than 0.05. Based on this dataset, the alternate hypothesis is supported-- Runtime does affect revenue. The revenue long films of more than 2.5 hours than short films of 1.5 hours are  different. "
   ]
  },
  {
   "cell_type": "markdown",
   "id": "6112a8e0",
   "metadata": {},
   "source": [
    "### Visual"
   ]
  },
  {
   "cell_type": "code",
   "execution_count": 203,
   "id": "38d24efc",
   "metadata": {
    "scrolled": false
   },
   "outputs": [],
   "source": [
    "#seperate the columns of interest\n",
    "long_df= firsthypo_df.loc[firsthypo_df['runtime'] > 150, ['revenue', 'runtime']]\n",
    "short_df= firsthypo_df.loc[firsthypo_df['runtime'] < 90, ['revenue', 'runtime']]"
   ]
  },
  {
   "cell_type": "code",
   "execution_count": 204,
   "id": "b08f7725",
   "metadata": {
    "scrolled": true
   },
   "outputs": [
    {
     "data": {
      "text/html": [
       "<div>\n",
       "<style scoped>\n",
       "    .dataframe tbody tr th:only-of-type {\n",
       "        vertical-align: middle;\n",
       "    }\n",
       "\n",
       "    .dataframe tbody tr th {\n",
       "        vertical-align: top;\n",
       "    }\n",
       "\n",
       "    .dataframe thead th {\n",
       "        text-align: right;\n",
       "    }\n",
       "</style>\n",
       "<table border=\"1\" class=\"dataframe\">\n",
       "  <thead>\n",
       "    <tr style=\"text-align: right;\">\n",
       "      <th></th>\n",
       "      <th>revenue</th>\n",
       "      <th>runtime</th>\n",
       "    </tr>\n",
       "  </thead>\n",
       "  <tbody>\n",
       "    <tr>\n",
       "      <th>3</th>\n",
       "      <td>0.0</td>\n",
       "      <td>152.0</td>\n",
       "    </tr>\n",
       "    <tr>\n",
       "      <th>44</th>\n",
       "      <td>0.0</td>\n",
       "      <td>171.0</td>\n",
       "    </tr>\n",
       "    <tr>\n",
       "      <th>61</th>\n",
       "      <td>15000000.0</td>\n",
       "      <td>157.0</td>\n",
       "    </tr>\n",
       "    <tr>\n",
       "      <th>155</th>\n",
       "      <td>465361176.0</td>\n",
       "      <td>155.0</td>\n",
       "    </tr>\n",
       "    <tr>\n",
       "      <th>199</th>\n",
       "      <td>47386287.0</td>\n",
       "      <td>162.0</td>\n",
       "    </tr>\n",
       "    <tr>\n",
       "      <th>...</th>\n",
       "      <td>...</td>\n",
       "      <td>...</td>\n",
       "    </tr>\n",
       "    <tr>\n",
       "      <th>2539</th>\n",
       "      <td>0.0</td>\n",
       "      <td>60.0</td>\n",
       "    </tr>\n",
       "    <tr>\n",
       "      <th>2541</th>\n",
       "      <td>0.0</td>\n",
       "      <td>80.0</td>\n",
       "    </tr>\n",
       "    <tr>\n",
       "      <th>2543</th>\n",
       "      <td>0.0</td>\n",
       "      <td>72.0</td>\n",
       "    </tr>\n",
       "    <tr>\n",
       "      <th>2544</th>\n",
       "      <td>0.0</td>\n",
       "      <td>85.0</td>\n",
       "    </tr>\n",
       "    <tr>\n",
       "      <th>2545</th>\n",
       "      <td>0.0</td>\n",
       "      <td>57.0</td>\n",
       "    </tr>\n",
       "  </tbody>\n",
       "</table>\n",
       "<p>848 rows × 2 columns</p>\n",
       "</div>"
      ],
      "text/plain": [
       "          revenue  runtime\n",
       "3             0.0    152.0\n",
       "44            0.0    171.0\n",
       "61     15000000.0    157.0\n",
       "155   465361176.0    155.0\n",
       "199    47386287.0    162.0\n",
       "...           ...      ...\n",
       "2539          0.0     60.0\n",
       "2541          0.0     80.0\n",
       "2543          0.0     72.0\n",
       "2544          0.0     85.0\n",
       "2545          0.0     57.0\n",
       "\n",
       "[848 rows x 2 columns]"
      ]
     },
     "execution_count": 204,
     "metadata": {},
     "output_type": "execute_result"
    }
   ],
   "source": [
    "#concatenate the two dataframes\n",
    "plot_df=pd.concat([long_df,short_df],axis=0)\n",
    "plot_df"
   ]
  },
  {
   "cell_type": "code",
   "execution_count": 205,
   "id": "c99eb081",
   "metadata": {},
   "outputs": [
    {
     "data": {
      "text/html": [
       "<div>\n",
       "<style scoped>\n",
       "    .dataframe tbody tr th:only-of-type {\n",
       "        vertical-align: middle;\n",
       "    }\n",
       "\n",
       "    .dataframe tbody tr th {\n",
       "        vertical-align: top;\n",
       "    }\n",
       "\n",
       "    .dataframe thead th {\n",
       "        text-align: right;\n",
       "    }\n",
       "</style>\n",
       "<table border=\"1\" class=\"dataframe\">\n",
       "  <thead>\n",
       "    <tr style=\"text-align: right;\">\n",
       "      <th></th>\n",
       "      <th>revenue</th>\n",
       "      <th>runtime</th>\n",
       "      <th>long</th>\n",
       "    </tr>\n",
       "  </thead>\n",
       "  <tbody>\n",
       "    <tr>\n",
       "      <th>3</th>\n",
       "      <td>0.0</td>\n",
       "      <td>152.0</td>\n",
       "      <td>True</td>\n",
       "    </tr>\n",
       "    <tr>\n",
       "      <th>44</th>\n",
       "      <td>0.0</td>\n",
       "      <td>171.0</td>\n",
       "      <td>True</td>\n",
       "    </tr>\n",
       "    <tr>\n",
       "      <th>61</th>\n",
       "      <td>15000000.0</td>\n",
       "      <td>157.0</td>\n",
       "      <td>True</td>\n",
       "    </tr>\n",
       "    <tr>\n",
       "      <th>155</th>\n",
       "      <td>465361176.0</td>\n",
       "      <td>155.0</td>\n",
       "      <td>True</td>\n",
       "    </tr>\n",
       "    <tr>\n",
       "      <th>199</th>\n",
       "      <td>47386287.0</td>\n",
       "      <td>162.0</td>\n",
       "      <td>True</td>\n",
       "    </tr>\n",
       "    <tr>\n",
       "      <th>...</th>\n",
       "      <td>...</td>\n",
       "      <td>...</td>\n",
       "      <td>...</td>\n",
       "    </tr>\n",
       "    <tr>\n",
       "      <th>2539</th>\n",
       "      <td>0.0</td>\n",
       "      <td>60.0</td>\n",
       "      <td>False</td>\n",
       "    </tr>\n",
       "    <tr>\n",
       "      <th>2541</th>\n",
       "      <td>0.0</td>\n",
       "      <td>80.0</td>\n",
       "      <td>False</td>\n",
       "    </tr>\n",
       "    <tr>\n",
       "      <th>2543</th>\n",
       "      <td>0.0</td>\n",
       "      <td>72.0</td>\n",
       "      <td>False</td>\n",
       "    </tr>\n",
       "    <tr>\n",
       "      <th>2544</th>\n",
       "      <td>0.0</td>\n",
       "      <td>85.0</td>\n",
       "      <td>False</td>\n",
       "    </tr>\n",
       "    <tr>\n",
       "      <th>2545</th>\n",
       "      <td>0.0</td>\n",
       "      <td>57.0</td>\n",
       "      <td>False</td>\n",
       "    </tr>\n",
       "  </tbody>\n",
       "</table>\n",
       "<p>848 rows × 3 columns</p>\n",
       "</div>"
      ],
      "text/plain": [
       "          revenue  runtime   long\n",
       "3             0.0    152.0   True\n",
       "44            0.0    171.0   True\n",
       "61     15000000.0    157.0   True\n",
       "155   465361176.0    155.0   True\n",
       "199    47386287.0    162.0   True\n",
       "...           ...      ...    ...\n",
       "2539          0.0     60.0  False\n",
       "2541          0.0     80.0  False\n",
       "2543          0.0     72.0  False\n",
       "2544          0.0     85.0  False\n",
       "2545          0.0     57.0  False\n",
       "\n",
       "[848 rows x 3 columns]"
      ]
     },
     "execution_count": 205,
     "metadata": {},
     "output_type": "execute_result"
    }
   ],
   "source": [
    "plot_df['long']= plot_df['runtime']> 150\n",
    "plot_df"
   ]
  },
  {
   "cell_type": "code",
   "execution_count": 206,
   "id": "9cfdfd83",
   "metadata": {},
   "outputs": [
    {
     "data": {
      "text/html": [
       "<div>\n",
       "<style scoped>\n",
       "    .dataframe tbody tr th:only-of-type {\n",
       "        vertical-align: middle;\n",
       "    }\n",
       "\n",
       "    .dataframe tbody tr th {\n",
       "        vertical-align: top;\n",
       "    }\n",
       "\n",
       "    .dataframe thead th {\n",
       "        text-align: right;\n",
       "    }\n",
       "</style>\n",
       "<table border=\"1\" class=\"dataframe\">\n",
       "  <thead>\n",
       "    <tr style=\"text-align: right;\">\n",
       "      <th></th>\n",
       "      <th>revenue</th>\n",
       "      <th>runtime</th>\n",
       "      <th>long</th>\n",
       "      <th>short</th>\n",
       "    </tr>\n",
       "  </thead>\n",
       "  <tbody>\n",
       "    <tr>\n",
       "      <th>3</th>\n",
       "      <td>0.0</td>\n",
       "      <td>152.0</td>\n",
       "      <td>True</td>\n",
       "      <td>False</td>\n",
       "    </tr>\n",
       "    <tr>\n",
       "      <th>44</th>\n",
       "      <td>0.0</td>\n",
       "      <td>171.0</td>\n",
       "      <td>True</td>\n",
       "      <td>False</td>\n",
       "    </tr>\n",
       "    <tr>\n",
       "      <th>61</th>\n",
       "      <td>15000000.0</td>\n",
       "      <td>157.0</td>\n",
       "      <td>True</td>\n",
       "      <td>False</td>\n",
       "    </tr>\n",
       "    <tr>\n",
       "      <th>155</th>\n",
       "      <td>465361176.0</td>\n",
       "      <td>155.0</td>\n",
       "      <td>True</td>\n",
       "      <td>False</td>\n",
       "    </tr>\n",
       "    <tr>\n",
       "      <th>199</th>\n",
       "      <td>47386287.0</td>\n",
       "      <td>162.0</td>\n",
       "      <td>True</td>\n",
       "      <td>False</td>\n",
       "    </tr>\n",
       "    <tr>\n",
       "      <th>...</th>\n",
       "      <td>...</td>\n",
       "      <td>...</td>\n",
       "      <td>...</td>\n",
       "      <td>...</td>\n",
       "    </tr>\n",
       "    <tr>\n",
       "      <th>2539</th>\n",
       "      <td>0.0</td>\n",
       "      <td>60.0</td>\n",
       "      <td>False</td>\n",
       "      <td>True</td>\n",
       "    </tr>\n",
       "    <tr>\n",
       "      <th>2541</th>\n",
       "      <td>0.0</td>\n",
       "      <td>80.0</td>\n",
       "      <td>False</td>\n",
       "      <td>True</td>\n",
       "    </tr>\n",
       "    <tr>\n",
       "      <th>2543</th>\n",
       "      <td>0.0</td>\n",
       "      <td>72.0</td>\n",
       "      <td>False</td>\n",
       "      <td>True</td>\n",
       "    </tr>\n",
       "    <tr>\n",
       "      <th>2544</th>\n",
       "      <td>0.0</td>\n",
       "      <td>85.0</td>\n",
       "      <td>False</td>\n",
       "      <td>True</td>\n",
       "    </tr>\n",
       "    <tr>\n",
       "      <th>2545</th>\n",
       "      <td>0.0</td>\n",
       "      <td>57.0</td>\n",
       "      <td>False</td>\n",
       "      <td>True</td>\n",
       "    </tr>\n",
       "  </tbody>\n",
       "</table>\n",
       "<p>848 rows × 4 columns</p>\n",
       "</div>"
      ],
      "text/plain": [
       "          revenue  runtime   long  short\n",
       "3             0.0    152.0   True  False\n",
       "44            0.0    171.0   True  False\n",
       "61     15000000.0    157.0   True  False\n",
       "155   465361176.0    155.0   True  False\n",
       "199    47386287.0    162.0   True  False\n",
       "...           ...      ...    ...    ...\n",
       "2539          0.0     60.0  False   True\n",
       "2541          0.0     80.0  False   True\n",
       "2543          0.0     72.0  False   True\n",
       "2544          0.0     85.0  False   True\n",
       "2545          0.0     57.0  False   True\n",
       "\n",
       "[848 rows x 4 columns]"
      ]
     },
     "execution_count": 206,
     "metadata": {},
     "output_type": "execute_result"
    }
   ],
   "source": [
    "plot_df['short']= plot_df['runtime'] < 90\n",
    "plot_df"
   ]
  },
  {
   "cell_type": "code",
   "execution_count": 208,
   "id": "6b58bd48",
   "metadata": {},
   "outputs": [],
   "source": [
    "#seperate the columns of interest\n",
    "longfilm= plot_df.loc[  plot_df['long']==True, ['revenue', 'long']]\n",
    "shortfilm= plot_df.loc[  plot_df['short']==True, ['revenue', 'short']]"
   ]
  },
  {
   "cell_type": "code",
   "execution_count": 241,
   "id": "06b3ef54",
   "metadata": {},
   "outputs": [
    {
     "data": {
      "image/png": "[encoded data removed]",
      "text/plain": [
       "<Figure size 640x480 with 1 Axes>"
      ]
     },
     "metadata": {},
     "output_type": "display_data"
    }
   ],
   "source": [
    "# checking long film\n",
    "ax=sns.barplot(data=plot_df, x='long', y = 'revenue', errorbar=None)\n"
   ]
  },
  {
   "cell_type": "code",
   "execution_count": 240,
   "id": "f448859e",
   "metadata": {},
   "outputs": [
    {
     "data": {
      "image/png": "[encoded data removed]",
      "text/plain": [
       "<Figure size 640x480 with 1 Axes>"
      ]
     },
     "metadata": {},
     "output_type": "display_data"
    }
   ],
   "source": [
    "#checking the plots seperately for 90 minutes\n",
    "ax= sns.barplot(data=plot_df, x='short', y = 'revenue', errorbar=None)\n"
   ]
  },
  {
   "cell_type": "code",
   "execution_count": 238,
   "id": "254e1c8c",
   "metadata": {
    "scrolled": true
   },
   "outputs": [
    {
     "data": {
      "image/png": "[encoded data removed]",
      "text/plain": [
       "<Figure size 500x500 with 1 Axes>"
      ]
     },
     "metadata": {},
     "output_type": "display_data"
    }
   ],
   "source": [
    "# combined\n",
    "fig, ax = plt.subplots(figsize=(5,5))\n",
    "\n",
    "ax=sns.barplot(data=plot_df, x='long', y = 'revenue', errorbar=None)\n",
    "ax.set_title('Short (1.5 hours) and Long films (2.5 hours) versus  Revenue')\n",
    "#ax= sns.barplot(data=plot_df, x='short', y = 'revenue', errorbar=None)\n",
    "plt.xlabel('Runtime in Minutes')\n",
    "\n",
    "ax.set_xticklabels(labels = ['90 minutes','150 minutes']);\n"
   ]
  },
  {
   "cell_type": "code",
   "execution_count": null,
   "id": "b03585bb",
   "metadata": {},
   "outputs": [],
   "source": []
  }
 ],
 "metadata": {
  "kernelspec": {
   "display_name": "Python (dojo-env)",
   "language": "python",
   "name": "dojo-env"
  },
  "language_info": {
   "codemirror_mode": {
    "name": "ipython",
    "version": 3
   },
   "file_extension": ".py",
   "mimetype": "text/x-python",
   "name": "python",
   "nbconvert_exporter": "python",
   "pygments_lexer": "ipython3",
   "version": "3.9.15"
  },
  "toc": {
   "base_numbering": 1,
   "nav_menu": {},
   "number_sections": true,
   "sideBar": true,
   "skip_h1_title": false,
   "title_cell": "Table of Contents",
   "title_sidebar": "Contents",
   "toc_cell": false,
   "toc_position": {},
   "toc_section_display": true,
   "toc_window_display": true
  }
 },
 "nbformat": 4,
 "nbformat_minor": 5
}
