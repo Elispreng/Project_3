{
 "cells": [
  {
   "cell_type": "markdown",
   "id": "dbc2fea6",
   "metadata": {},
   "source": [
    "# Create Project"
   ]
  },
  {
   "cell_type": "code",
   "execution_count": 1,
   "id": "30ff084c",
   "metadata": {},
   "outputs": [],
   "source": [
    "#import libraries \n",
    "import json\n",
    "import pandas as pd\n",
    "import numpy as np\n",
    "import seaborn as sns\n",
    "import matplotlib.pyplot as plt\n",
    "\n",
    "# Stats materials\n",
    "from scipy import stats\n",
    "import scipy.stats as stats\n",
    "\n",
    "# import SQL materials\n",
    "from sqlalchemy import create_engine\n",
    "from sqlalchemy_utils import database_exists\n",
    "import pymysql\n",
    "pymysql.install_as_MySQLdb()\n",
    "from urllib.parse import quote_plus as urlquote\n",
    "from sqlalchemy_utils import create_database, database_exists"
   ]
  },
  {
   "cell_type": "code",
   "execution_count": 18,
   "id": "19c053a1",
   "metadata": {
    "scrolled": true
   },
   "outputs": [
    {
     "data": {
      "text/html": [
       "<div>\n",
       "<style scoped>\n",
       "    .dataframe tbody tr th:only-of-type {\n",
       "        vertical-align: middle;\n",
       "    }\n",
       "\n",
       "    .dataframe tbody tr th {\n",
       "        vertical-align: top;\n",
       "    }\n",
       "\n",
       "    .dataframe thead th {\n",
       "        text-align: right;\n",
       "    }\n",
       "</style>\n",
       "<table border=\"1\" class=\"dataframe\">\n",
       "  <thead>\n",
       "    <tr style=\"text-align: right;\">\n",
       "      <th></th>\n",
       "      <th>imdb_id</th>\n",
       "      <th>adult</th>\n",
       "      <th>backdrop_path</th>\n",
       "      <th>belongs_to_collection</th>\n",
       "      <th>budget</th>\n",
       "      <th>genres</th>\n",
       "      <th>homepage</th>\n",
       "      <th>id</th>\n",
       "      <th>original_language</th>\n",
       "      <th>original_title</th>\n",
       "      <th>...</th>\n",
       "      <th>revenue</th>\n",
       "      <th>runtime</th>\n",
       "      <th>spoken_languages</th>\n",
       "      <th>status</th>\n",
       "      <th>tagline</th>\n",
       "      <th>title</th>\n",
       "      <th>video</th>\n",
       "      <th>vote_average</th>\n",
       "      <th>vote_count</th>\n",
       "      <th>certification</th>\n",
       "    </tr>\n",
       "  </thead>\n",
       "  <tbody>\n",
       "    <tr>\n",
       "      <th>0</th>\n",
       "      <td>0</td>\n",
       "      <td>NaN</td>\n",
       "      <td>NaN</td>\n",
       "      <td>NaN</td>\n",
       "      <td>NaN</td>\n",
       "      <td>NaN</td>\n",
       "      <td>NaN</td>\n",
       "      <td>NaN</td>\n",
       "      <td>NaN</td>\n",
       "      <td>NaN</td>\n",
       "      <td>...</td>\n",
       "      <td>NaN</td>\n",
       "      <td>NaN</td>\n",
       "      <td>NaN</td>\n",
       "      <td>NaN</td>\n",
       "      <td>NaN</td>\n",
       "      <td>NaN</td>\n",
       "      <td>NaN</td>\n",
       "      <td>NaN</td>\n",
       "      <td>NaN</td>\n",
       "      <td>NaN</td>\n",
       "    </tr>\n",
       "    <tr>\n",
       "      <th>1</th>\n",
       "      <td>tt0113026</td>\n",
       "      <td>0.0</td>\n",
       "      <td>/vMFs7nw6P0bIV1jDsQpxAieAVnH.jpg</td>\n",
       "      <td>NaN</td>\n",
       "      <td>10000000.0</td>\n",
       "      <td>[{'id': 35, 'name': 'Comedy'}, {'id': 10402, '...</td>\n",
       "      <td>NaN</td>\n",
       "      <td>62127.0</td>\n",
       "      <td>en</td>\n",
       "      <td>The Fantasticks</td>\n",
       "      <td>...</td>\n",
       "      <td>0.0</td>\n",
       "      <td>86.0</td>\n",
       "      <td>[{'english_name': 'English', 'iso_639_1': 'en'...</td>\n",
       "      <td>Released</td>\n",
       "      <td>Try to remember the first time magic happened</td>\n",
       "      <td>The Fantasticks</td>\n",
       "      <td>0.0</td>\n",
       "      <td>5.5</td>\n",
       "      <td>22.0</td>\n",
       "      <td>NaN</td>\n",
       "    </tr>\n",
       "  </tbody>\n",
       "</table>\n",
       "<p>2 rows × 26 columns</p>\n",
       "</div>"
      ],
      "text/plain": [
       "     imdb_id  adult                     backdrop_path belongs_to_collection  \\\n",
       "0          0    NaN                               NaN                   NaN   \n",
       "1  tt0113026    0.0  /vMFs7nw6P0bIV1jDsQpxAieAVnH.jpg                   NaN   \n",
       "\n",
       "       budget                                             genres homepage  \\\n",
       "0         NaN                                                NaN      NaN   \n",
       "1  10000000.0  [{'id': 35, 'name': 'Comedy'}, {'id': 10402, '...      NaN   \n",
       "\n",
       "        id original_language   original_title  ... revenue  runtime  \\\n",
       "0      NaN               NaN              NaN  ...     NaN      NaN   \n",
       "1  62127.0                en  The Fantasticks  ...     0.0     86.0   \n",
       "\n",
       "                                    spoken_languages    status  \\\n",
       "0                                                NaN       NaN   \n",
       "1  [{'english_name': 'English', 'iso_639_1': 'en'...  Released   \n",
       "\n",
       "                                         tagline            title  video  \\\n",
       "0                                            NaN              NaN    NaN   \n",
       "1  Try to remember the first time magic happened  The Fantasticks    0.0   \n",
       "\n",
       "   vote_average vote_count certification  \n",
       "0           NaN        NaN           NaN  \n",
       "1           5.5       22.0           NaN  \n",
       "\n",
       "[2 rows x 26 columns]"
      ]
     },
     "execution_count": 18,
     "metadata": {},
     "output_type": "execute_result"
    }
   ],
   "source": [
    "# import the data\n",
    "filename = 'Data4/tmdb_results_combined.csv.gz'\n",
    "firsthypo_df=pd.read_csv(filename)\n",
    "#check that the data loaded\n",
    "firsthypo_df.head(2)"
   ]
  },
  {
   "cell_type": "code",
   "execution_count": 19,
   "id": "dd7c138b",
   "metadata": {},
   "outputs": [
    {
     "name": "stdout",
     "output_type": "stream",
     "text": [
      "<class 'pandas.core.frame.DataFrame'>\n",
      "RangeIndex: 2547 entries, 0 to 2546\n",
      "Data columns (total 26 columns):\n",
      " #   Column                 Non-Null Count  Dtype  \n",
      "---  ------                 --------------  -----  \n",
      " 0   imdb_id                2547 non-null   object \n",
      " 1   adult                  2545 non-null   float64\n",
      " 2   backdrop_path          1374 non-null   object \n",
      " 3   belongs_to_collection  204 non-null    object \n",
      " 4   budget                 2545 non-null   float64\n",
      " 5   genres                 2545 non-null   object \n",
      " 6   homepage               172 non-null    object \n",
      " 7   id                     2545 non-null   float64\n",
      " 8   original_language      2545 non-null   object \n",
      " 9   original_title         2545 non-null   object \n",
      " 10  overview               2494 non-null   object \n",
      " 11  popularity             2545 non-null   float64\n",
      " 12  poster_path            2288 non-null   object \n",
      " 13  production_companies   2545 non-null   object \n",
      " 14  production_countries   2545 non-null   object \n",
      " 15  release_date           2528 non-null   object \n",
      " 16  revenue                2545 non-null   float64\n",
      " 17  runtime                2545 non-null   float64\n",
      " 18  spoken_languages       2545 non-null   object \n",
      " 19  status                 2545 non-null   object \n",
      " 20  tagline                1091 non-null   object \n",
      " 21  title                  2545 non-null   object \n",
      " 22  video                  2545 non-null   float64\n",
      " 23  vote_average           2545 non-null   float64\n",
      " 24  vote_count             2545 non-null   float64\n",
      " 25  certification          809 non-null    object \n",
      "dtypes: float64(9), object(17)\n",
      "memory usage: 517.5+ KB\n"
     ]
    }
   ],
   "source": [
    "#check info\n",
    "firsthypo_df.info()"
   ]
  },
  {
   "cell_type": "markdown",
   "id": "200a8f84",
   "metadata": {},
   "source": [
    "# Preparing Data"
   ]
  },
  {
   "cell_type": "code",
   "execution_count": 20,
   "id": "83853e24",
   "metadata": {
    "scrolled": true
   },
   "outputs": [
    {
     "data": {
      "text/plain": [
       "R          459\n",
       "PG-13      183\n",
       "NR          73\n",
       "PG          62\n",
       "G           24\n",
       "NC-17        6\n",
       "Unrated      1\n",
       "-            1\n",
       "Name: certification, dtype: int64"
      ]
     },
     "execution_count": 20,
     "metadata": {},
     "output_type": "execute_result"
    }
   ],
   "source": [
    "# check the value counts on certification column for first hypothesis\n",
    "firsthypo_df['certification'].value_counts()\n"
   ]
  },
  {
   "cell_type": "code",
   "execution_count": 21,
   "id": "e1006052",
   "metadata": {},
   "outputs": [
    {
     "name": "stdout",
     "output_type": "stream",
     "text": [
      "0.68% of the data in the certification column is missing\n"
     ]
    }
   ],
   "source": [
    "# explore the  missing data\n",
    "num_missing = firsthypo_df['certification'].isna().sum()\n",
    "\n",
    "total_rows = firsthypo_df.shape[0]\n",
    "\n",
    "percent_missing = num_missing / total_rows\n",
    "print(f'{percent_missing:.2f}% of the data in the certification column is missing')"
   ]
  },
  {
   "cell_type": "code",
   "execution_count": 22,
   "id": "bc8f8a5d",
   "metadata": {
    "scrolled": false
   },
   "outputs": [
    {
     "data": {
      "text/html": [
       "<div>\n",
       "<style scoped>\n",
       "    .dataframe tbody tr th:only-of-type {\n",
       "        vertical-align: middle;\n",
       "    }\n",
       "\n",
       "    .dataframe tbody tr th {\n",
       "        vertical-align: top;\n",
       "    }\n",
       "\n",
       "    .dataframe thead th {\n",
       "        text-align: right;\n",
       "    }\n",
       "</style>\n",
       "<table border=\"1\" class=\"dataframe\">\n",
       "  <thead>\n",
       "    <tr style=\"text-align: right;\">\n",
       "      <th></th>\n",
       "      <th>imdb_id</th>\n",
       "      <th>adult</th>\n",
       "      <th>backdrop_path</th>\n",
       "      <th>belongs_to_collection</th>\n",
       "      <th>budget</th>\n",
       "      <th>genres</th>\n",
       "      <th>homepage</th>\n",
       "      <th>id</th>\n",
       "      <th>original_language</th>\n",
       "      <th>original_title</th>\n",
       "      <th>...</th>\n",
       "      <th>revenue</th>\n",
       "      <th>runtime</th>\n",
       "      <th>spoken_languages</th>\n",
       "      <th>status</th>\n",
       "      <th>tagline</th>\n",
       "      <th>title</th>\n",
       "      <th>video</th>\n",
       "      <th>vote_average</th>\n",
       "      <th>vote_count</th>\n",
       "      <th>certification</th>\n",
       "    </tr>\n",
       "  </thead>\n",
       "  <tbody>\n",
       "    <tr>\n",
       "      <th>2057</th>\n",
       "      <td>tt0282526</td>\n",
       "      <td>0.0</td>\n",
       "      <td>NaN</td>\n",
       "      <td>NaN</td>\n",
       "      <td>0.0</td>\n",
       "      <td>[{'id': 18, 'name': 'Drama'}]</td>\n",
       "      <td>NaN</td>\n",
       "      <td>172550.0</td>\n",
       "      <td>it</td>\n",
       "      <td>Giorni</td>\n",
       "      <td>...</td>\n",
       "      <td>0.0</td>\n",
       "      <td>90.0</td>\n",
       "      <td>[{'english_name': 'Italian', 'iso_639_1': 'it'...</td>\n",
       "      <td>Released</td>\n",
       "      <td>NaN</td>\n",
       "      <td>Days</td>\n",
       "      <td>0.0</td>\n",
       "      <td>5.4</td>\n",
       "      <td>8.0</td>\n",
       "      <td>-</td>\n",
       "    </tr>\n",
       "  </tbody>\n",
       "</table>\n",
       "<p>1 rows × 26 columns</p>\n",
       "</div>"
      ],
      "text/plain": [
       "        imdb_id  adult backdrop_path belongs_to_collection  budget  \\\n",
       "2057  tt0282526    0.0           NaN                   NaN     0.0   \n",
       "\n",
       "                             genres homepage        id original_language  \\\n",
       "2057  [{'id': 18, 'name': 'Drama'}]      NaN  172550.0                it   \n",
       "\n",
       "     original_title  ... revenue  runtime  \\\n",
       "2057         Giorni  ...     0.0     90.0   \n",
       "\n",
       "                                       spoken_languages    status tagline  \\\n",
       "2057  [{'english_name': 'Italian', 'iso_639_1': 'it'...  Released     NaN   \n",
       "\n",
       "     title  video  vote_average vote_count certification  \n",
       "2057  Days    0.0           5.4        8.0             -  \n",
       "\n",
       "[1 rows x 26 columns]"
      ]
     },
     "execution_count": 22,
     "metadata": {},
     "output_type": "execute_result"
    }
   ],
   "source": [
    "# find the row with - rating\n",
    "firsthypo_df.loc[firsthypo_df['certification'] == '-']"
   ]
  },
  {
   "cell_type": "code",
   "execution_count": 23,
   "id": "b69563a4",
   "metadata": {},
   "outputs": [],
   "source": [
    "#  drop the row, it has 0 revenue\n",
    "#firsthypo_df=firsthypo_df.dropna(firsthypo_df['certification']==['-'], inplace=True)\n",
    "#firsthypo_df.drop(2056)\n",
    "firsthypo_df = firsthypo_df.loc[firsthypo_df['certification'] != '-']"
   ]
  },
  {
   "cell_type": "code",
   "execution_count": 24,
   "id": "9829bcb1",
   "metadata": {},
   "outputs": [
    {
     "data": {
      "text/plain": [
       "R          459\n",
       "PG-13      183\n",
       "NR          73\n",
       "PG          62\n",
       "G           24\n",
       "NC-17        6\n",
       "Unrated      1\n",
       "Name: certification, dtype: int64"
      ]
     },
     "execution_count": 24,
     "metadata": {},
     "output_type": "execute_result"
    }
   ],
   "source": [
    "# check the value counts on certification column for first hypothesis\n",
    "firsthypo_df['certification'].value_counts()\n"
   ]
  },
  {
   "cell_type": "code",
   "execution_count": 25,
   "id": "134c4dce",
   "metadata": {},
   "outputs": [],
   "source": [
    "# drop the unrated column\n",
    "firsthypo_df = firsthypo_df.loc[firsthypo_df['certification'] != 'Unrated']"
   ]
  },
  {
   "cell_type": "code",
   "execution_count": 26,
   "id": "3b3c261a",
   "metadata": {
    "scrolled": true
   },
   "outputs": [
    {
     "data": {
      "text/plain": [
       "R        459\n",
       "PG-13    183\n",
       "NR        73\n",
       "PG        62\n",
       "G         24\n",
       "Name: certification, dtype: int64"
      ]
     },
     "execution_count": 26,
     "metadata": {},
     "output_type": "execute_result"
    }
   ],
   "source": [
    "# drop NC 17 column\n",
    "firsthypo_df = firsthypo_df.loc[firsthypo_df['certification'] != 'NC-17']\n",
    "firsthypo_df['certification'].value_counts()\n"
   ]
  },
  {
   "cell_type": "code",
   "execution_count": 30,
   "id": "6e582969",
   "metadata": {},
   "outputs": [],
   "source": [
    "#drop null values in certification column\n",
    "firsthypo_df = firsthypo_df.dropna(subset=['certification'])"
   ]
  },
  {
   "cell_type": "markdown",
   "id": "1adcf017",
   "metadata": {},
   "source": [
    "# First Hypothesis"
   ]
  },
  {
   "cell_type": "markdown",
   "id": "c796f1ff",
   "metadata": {},
   "source": [
    "## Hypothesis\n",
    "- Null: Movies have the same revenue in all MPAA ratings\n",
    "- Alternate: Movies with different MPAA ratings  have different revenue.\n",
    "\n",
    "- Possible question would me how much? See Project 5 for linear regression"
   ]
  },
  {
   "cell_type": "markdown",
   "id": "8046f580",
   "metadata": {},
   "source": [
    "## Test type: ANOVA"
   ]
  },
  {
   "cell_type": "code",
   "execution_count": 31,
   "id": "3c89a157",
   "metadata": {},
   "outputs": [
    {
     "data": {
      "text/plain": [
       "dict_keys(['PG', 'R', 'G', 'NR', 'PG-13'])"
      ]
     },
     "execution_count": 31,
     "metadata": {},
     "output_type": "execute_result"
    }
   ],
   "source": [
    "## Create groups dictionary. \n",
    "groups = {}\n",
    "## Loop through all unique categories\n",
    "for i in firsthypo_df['certification'].unique():\n",
    "    ## Get series for group and rename\n",
    "    data = firsthypo_df.loc[firsthypo_df['certification']==i,'revenue'].copy()\n",
    "    \n",
    "    # save into the dictionary\n",
    "    groups[i] = data\n",
    "groups.keys()"
   ]
  },
  {
   "cell_type": "markdown",
   "id": "220e3ce1",
   "metadata": {},
   "source": [
    "## Check Assumptions for ANOVA\n",
    "- outliers\n",
    "- normality\n",
    "- equal variance"
   ]
  },
  {
   "cell_type": "code",
   "execution_count": 32,
   "id": "6fe782f5",
   "metadata": {
    "scrolled": true
   },
   "outputs": [
    {
     "data": {
      "text/html": [
       "<div>\n",
       "<style scoped>\n",
       "    .dataframe tbody tr th:only-of-type {\n",
       "        vertical-align: middle;\n",
       "    }\n",
       "\n",
       "    .dataframe tbody tr th {\n",
       "        vertical-align: top;\n",
       "    }\n",
       "\n",
       "    .dataframe thead th {\n",
       "        text-align: right;\n",
       "    }\n",
       "</style>\n",
       "<table border=\"1\" class=\"dataframe\">\n",
       "  <thead>\n",
       "    <tr style=\"text-align: right;\">\n",
       "      <th></th>\n",
       "      <th>n</th>\n",
       "      <th>p</th>\n",
       "      <th>test stat</th>\n",
       "    </tr>\n",
       "  </thead>\n",
       "  <tbody>\n",
       "    <tr>\n",
       "      <th>PG</th>\n",
       "      <td>62.0</td>\n",
       "      <td>1.166369e-19</td>\n",
       "      <td>87.190443</td>\n",
       "    </tr>\n",
       "    <tr>\n",
       "      <th>R</th>\n",
       "      <td>459.0</td>\n",
       "      <td>4.064768e-104</td>\n",
       "      <td>476.132986</td>\n",
       "    </tr>\n",
       "    <tr>\n",
       "      <th>G</th>\n",
       "      <td>24.0</td>\n",
       "      <td>1.196858e-08</td>\n",
       "      <td>36.481962</td>\n",
       "    </tr>\n",
       "    <tr>\n",
       "      <th>NR</th>\n",
       "      <td>73.0</td>\n",
       "      <td>6.755199e-21</td>\n",
       "      <td>92.887949</td>\n",
       "    </tr>\n",
       "    <tr>\n",
       "      <th>PG-13</th>\n",
       "      <td>183.0</td>\n",
       "      <td>7.619494e-31</td>\n",
       "      <td>138.698856</td>\n",
       "    </tr>\n",
       "  </tbody>\n",
       "</table>\n",
       "</div>"
      ],
      "text/plain": [
       "           n              p   test stat\n",
       "PG      62.0   1.166369e-19   87.190443\n",
       "R      459.0  4.064768e-104  476.132986\n",
       "G       24.0   1.196858e-08   36.481962\n",
       "NR      73.0   6.755199e-21   92.887949\n",
       "PG-13  183.0   7.619494e-31  138.698856"
      ]
     },
     "execution_count": 32,
     "metadata": {},
     "output_type": "execute_result"
    }
   ],
   "source": [
    "## Running normal test on each group and confirming there are >20 in each group\n",
    "norm_results = {}\n",
    "for i, data in groups.items():\n",
    "    stat, p = stats.normaltest(data)\n",
    "    ## save the p val, test statistic, and the size of the group\n",
    "    norm_results[i] = {'n': len(data),\n",
    "                             'p':p,\n",
    "                             'test stat':stat,}\n",
    "## convert to a dataframe\n",
    "norm_results_df = pd.DataFrame(norm_results).T\n",
    "norm_results_df"
   ]
  },
  {
   "cell_type": "markdown",
   "id": "8039e9b3",
   "metadata": {},
   "source": [
    "- This data has normal distribution"
   ]
  },
  {
   "cell_type": "code",
   "execution_count": 33,
   "id": "128d1e7c",
   "metadata": {
    "scrolled": true
   },
   "outputs": [
    {
     "data": {
      "text/plain": [
       "LeveneResult(statistic=19.784484478760714, pvalue=1.5312390633583929e-15)"
      ]
     },
     "execution_count": 33,
     "metadata": {},
     "output_type": "execute_result"
    }
   ],
   "source": [
    "# check for equal variance\n",
    "stats.levene(*groups.values())"
   ]
  },
  {
   "cell_type": "markdown",
   "id": "0fba544d",
   "metadata": {},
   "source": [
    "- This data group passed the equal variance, so ANOVA can be used"
   ]
  },
  {
   "cell_type": "markdown",
   "id": "b7fc047f",
   "metadata": {},
   "source": [
    "## Check for Outliers"
   ]
  },
  {
   "cell_type": "code",
   "execution_count": 37,
   "id": "11edd1d2",
   "metadata": {},
   "outputs": [],
   "source": [
    "#create groups\n",
    "pg_df = firsthypo_df.loc[firsthypo_df['certification']== 'PG'].copy()\n",
    "r_df = firsthypo_df.loc[firsthypo_df['certification']== 'R'].copy()\n",
    "g_df = firsthypo_df.loc[firsthypo_df['certification']== 'G'].copy()\n",
    "nr_df = firsthypo_df.loc[firsthypo_df['certification']== 'NR'].copy()\n",
    "pg13_df = firsthypo_df.loc[firsthypo_df['certification']== 'PG-13'].copy()\n",
    "\n",
    "# groups PG', 'R', 'G', 'NR', 'PG-13'"
   ]
  },
  {
   "cell_type": "code",
   "execution_count": 38,
   "id": "279deeeb",
   "metadata": {},
   "outputs": [],
   "source": [
    "#create each specific group for outlier check\n",
    "pg_df_revenue = pg_df['revenue']\n",
    "r_df_revenue = r_df['revenue']\n",
    "g_df_revenue = g_df['revenue']\n",
    "nr_df_revenue = nr_df['revenue']\n",
    "pg13_df_revenue = pg13_df['revenue']\n"
   ]
  },
  {
   "cell_type": "code",
   "execution_count": 39,
   "id": "f6d0a102",
   "metadata": {},
   "outputs": [
    {
     "data": {
      "text/plain": [
       "1"
      ]
     },
     "execution_count": 39,
     "metadata": {},
     "output_type": "execute_result"
    }
   ],
   "source": [
    "# Check for outliers in pg group\n",
    "zscores= stats.zscore(pg_df_revenue)\n",
    "outliers = abs(zscores)>3\n",
    "np.sum(outliers)"
   ]
  },
  {
   "cell_type": "code",
   "execution_count": 40,
   "id": "23a40451",
   "metadata": {},
   "outputs": [],
   "source": [
    "# drop outlier\n",
    "pg_df_revenue = pg_df_revenue[(np.abs(stats.zscore(pg_df_revenue)) < 3)]"
   ]
  },
  {
   "cell_type": "code",
   "execution_count": 41,
   "id": "4a14c292",
   "metadata": {
    "scrolled": true
   },
   "outputs": [
    {
     "data": {
      "text/plain": [
       "12"
      ]
     },
     "execution_count": 41,
     "metadata": {},
     "output_type": "execute_result"
    }
   ],
   "source": [
    "# Check for outliers in r group\n",
    "zscores= stats.zscore(r_df_revenue)\n",
    "outliers = abs(zscores)>3\n",
    "np.sum(outliers)"
   ]
  },
  {
   "cell_type": "code",
   "execution_count": 42,
   "id": "5239c431",
   "metadata": {},
   "outputs": [],
   "source": [
    "# drop outlier\n",
    "r_df_revenue = r_df_revenue[(np.abs(stats.zscore(r_df_revenue)) < 3)]"
   ]
  },
  {
   "cell_type": "code",
   "execution_count": 43,
   "id": "337bfbdb",
   "metadata": {},
   "outputs": [
    {
     "data": {
      "text/plain": [
       "1"
      ]
     },
     "execution_count": 43,
     "metadata": {},
     "output_type": "execute_result"
    }
   ],
   "source": [
    "# Check for outliers in g group\n",
    "zscores= stats.zscore(g_df_revenue)\n",
    "outliers = abs(zscores)>3\n",
    "np.sum(outliers)"
   ]
  },
  {
   "cell_type": "code",
   "execution_count": 45,
   "id": "49854ef7",
   "metadata": {},
   "outputs": [],
   "source": [
    "# drop outlier\n",
    "g_df_revenue = g_df_revenue[(np.abs(stats.zscore(g_df_revenue)) < 3)]"
   ]
  },
  {
   "cell_type": "code",
   "execution_count": 46,
   "id": "056d9488",
   "metadata": {},
   "outputs": [
    {
     "data": {
      "text/plain": [
       "3"
      ]
     },
     "execution_count": 46,
     "metadata": {},
     "output_type": "execute_result"
    }
   ],
   "source": [
    "# Check for outliers in nr group\n",
    "zscores= stats.zscore(nr_df_revenue)\n",
    "outliers = abs(zscores)>3\n",
    "np.sum(outliers)"
   ]
  },
  {
   "cell_type": "code",
   "execution_count": 47,
   "id": "b1b2d1c3",
   "metadata": {},
   "outputs": [],
   "source": [
    "# drop outliers\n",
    "nr_df_revenue = nr_df_revenue[(np.abs(stats.zscore(nr_df_revenue)) < 3)]"
   ]
  },
  {
   "cell_type": "code",
   "execution_count": 48,
   "id": "6cc8c7d9",
   "metadata": {},
   "outputs": [
    {
     "data": {
      "text/plain": [
       "5"
      ]
     },
     "execution_count": 48,
     "metadata": {},
     "output_type": "execute_result"
    }
   ],
   "source": [
    "# Check for outliers in pg13 group\n",
    "zscores= stats.zscore(pg13_df_revenue)\n",
    "outliers = abs(zscores)>3\n",
    "np.sum(outliers)"
   ]
  },
  {
   "cell_type": "code",
   "execution_count": 50,
   "id": "2b0285d2",
   "metadata": {},
   "outputs": [],
   "source": [
    "# drop outlier\n",
    "pg13_df_revenue = pg13_df_revenue[(np.abs(stats.zscore(pg13_df_revenue)) < 3)]"
   ]
  },
  {
   "cell_type": "code",
   "execution_count": 53,
   "id": "f9a00227",
   "metadata": {},
   "outputs": [],
   "source": [
    "#groups2= (pg_df_revenue, r_df_revenue, g_df_revenue, nr_df_revenue, pg13_df_revenue)"
   ]
  },
  {
   "cell_type": "markdown",
   "id": "76c1ad61",
   "metadata": {},
   "source": [
    "## Run anova"
   ]
  },
  {
   "cell_type": "code",
   "execution_count": 59,
   "id": "9aae8f3c",
   "metadata": {},
   "outputs": [
    {
     "name": "stdout",
     "output_type": "stream",
     "text": [
      "F_onewayResult(statistic=19.564570435507452, pvalue=2.2624257518793202e-15)\n"
     ]
    },
    {
     "data": {
      "text/plain": [
       "True"
      ]
     },
     "execution_count": 59,
     "metadata": {},
     "output_type": "execute_result"
    }
   ],
   "source": [
    "# perform the correct hypothesis test\n",
    "# note again the use of the * operator for convenience\n",
    "result = stats.f_oneway( *groups.values())\n",
    "print(result)\n",
    "pg_df_revenue, r_df_revenue, g_df_revenue, nr_df_revenue, pg13_df_revenue"
   ]
  },
  {
   "cell_type": "markdown",
   "id": "ecc283e7",
   "metadata": {},
   "source": [
    "## Interpretation"
   ]
  },
  {
   "cell_type": "markdown",
   "id": "abedf390",
   "metadata": {},
   "source": [
    "### The p value is less 0.05. From this data the null hypothesis is rejected. There is a difference between revenue in the different MPAA ratings"
   ]
  },
  {
   "cell_type": "code",
   "execution_count": 63,
   "id": "986d752e",
   "metadata": {},
   "outputs": [
    {
     "data": {
      "image/png": "[encoded data removed]",
      "text/plain": [
       "<Figure size 640x480 with 1 Axes>"
      ]
     },
     "metadata": {},
     "output_type": "display_data"
    }
   ],
   "source": [
    "#visualize the data\n",
    "ax= sns.barplot(data=firsthypo_df, x='certification',y='revenue', errorbar=None);\n",
    "ax.set_title(\"Revenue by Rating\");"
   ]
  },
  {
   "cell_type": "markdown",
   "id": "2083037d",
   "metadata": {},
   "source": [
    "- Movies with a G rating have the greatest revenue followed  closely by movies with a PG-13 rating. "
   ]
  },
  {
   "cell_type": "markdown",
   "id": "8611c155",
   "metadata": {},
   "source": [
    "# Second Hypothesis"
   ]
  },
  {
   "cell_type": "code",
   "execution_count": null,
   "id": "6daaf912",
   "metadata": {},
   "outputs": [],
   "source": []
  }
 ],
 "metadata": {
  "kernelspec": {
   "display_name": "Python (dojo-env)",
   "language": "python",
   "name": "dojo-env"
  },
  "language_info": {
   "codemirror_mode": {
    "name": "ipython",
    "version": 3
   },
   "file_extension": ".py",
   "mimetype": "text/x-python",
   "name": "python",
   "nbconvert_exporter": "python",
   "pygments_lexer": "ipython3",
   "version": "3.9.15"
  },
  "toc": {
   "base_numbering": 1,
   "nav_menu": {},
   "number_sections": true,
   "sideBar": true,
   "skip_h1_title": false,
   "title_cell": "Table of Contents",
   "title_sidebar": "Contents",
   "toc_cell": false,
   "toc_position": {},
   "toc_section_display": true,
   "toc_window_display": true
  }
 },
 "nbformat": 4,
 "nbformat_minor": 5
}
